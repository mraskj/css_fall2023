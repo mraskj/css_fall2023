{
 "cells": [
  {
   "cell_type": "markdown",
   "id": "a54c3091",
   "metadata": {},
   "source": [
    "# Class 5: Tutorial --- Reading Files Directly From GitHub\n",
    "\n",
    "In the exercise for class 5, we downloaded a lot of files from GitHub and saved them locally on our computers. \n",
    "\n",
    "However, we avoid this step to save time. Instead, we can read data directly from GitHub. \n",
    "\n",
    "This short tutorial illustrates how. "
   ]
  },
  {
   "cell_type": "markdown",
   "id": "cb864a06",
   "metadata": {},
   "source": [
    "## Importing Modules\n",
    "\n",
    "We start by importing the necessary modules. \n",
    "\n",
    "The `tqdm` module is not strictly necessary, but is a nice way to generate progress bars in loops. "
   ]
  },
  {
   "cell_type": "code",
   "execution_count": null,
   "id": "81cba3f5",
   "metadata": {},
   "outputs": [],
   "source": [
    "import pandas as pd\n",
    "\n",
    "from tqdm import tqdm"
   ]
  },
  {
   "cell_type": "markdown",
   "id": "67b4aee7",
   "metadata": {},
   "source": [
    "Next, we specify a list of filenames that we want to read. In this case we have several files. We store the filenames in a list. \n",
    "Note that the filetype (`.csv`) is not listed yet. We provide that later."
   ]
  },
  {
   "cell_type": "code",
   "execution_count": null,
   "id": "2fcd5a3d",
   "metadata": {},
   "outputs": [],
   "source": [
    "# Generate file ids\n",
    "files = ['20001', \n",
    "         '20011',\n",
    "         '20012',\n",
    "         '20021',\n",
    "         '20031',\n",
    "         '20041',\n",
    "         '20042',\n",
    "         '20051',\n",
    "         '20061',\n",
    "         '20071',\n",
    "         '20072',\n",
    "         '20081',\n",
    "         '20091',\n",
    "         '20101',\n",
    "         '20102',\n",
    "         '20111',\n",
    "         '20121',\n",
    "         '20131',\n",
    "         '20141',\n",
    "         '20142',\n",
    "         '20151',\n",
    "         '20161',\n",
    "         '20171',\n",
    "         '20181',\n",
    "         '20182',\n",
    "         '20191',\n",
    "         '20201',\n",
    "         '20211']"
   ]
  },
  {
   "cell_type": "markdown",
   "id": "7ca39ab6",
   "metadata": {},
   "source": [
    "We then specify the base URL from which we want to find the files. This can be accessed with the website *https://raw.githubusercontent.com/USERNAME/REPO/master* where *USERNAME* is the username of the GitHub account and *REPO* is the name of the repo. \n",
    "\n",
    "In this case, *USERNAME*=mraskj and *REPO*=css_fall2023. \n",
    "\n",
    "When we go to the GitHub (https://github.com/mraskj/css_fall2023), we can see that our files are located in *data/ft-speeches*. Hence, we define the base url as:"
   ]
  },
  {
   "cell_type": "code",
   "execution_count": null,
   "id": "e612399b",
   "metadata": {},
   "outputs": [],
   "source": [
    "# Specify base url\n",
    "base_url = 'https://raw.githubusercontent.com/mraskj/css_fall2023/master/data/ft-speeches/'"
   ]
  },
  {
   "cell_type": "markdown",
   "id": "9641ef27",
   "metadata": {},
   "source": [
    "We are now ready to read in the data in a similar way as the solution notebook suggests. Note that the filetype `.csv` is added to the string. Without it, the url can not be found and you will an error:\n",
    "\n",
    "`HTTPError: HTTP Error 404: Not Found`"
   ]
  },
  {
   "cell_type": "code",
   "execution_count": null,
   "id": "234d58de",
   "metadata": {},
   "outputs": [],
   "source": [
    "# Read in data\n",
    "df = pd.DataFrame()\n",
    "for file in tqdm(files):\n",
    "    df_term = pd.read_csv(base_url + file + '.csv')\n",
    "    df = pd.concat([df, df_term])\n",
    "df.reset_index(drop=True, inplace=True)"
   ]
  },
  {
   "cell_type": "code",
   "execution_count": null,
   "id": "f436a7a7",
   "metadata": {},
   "outputs": [],
   "source": [
    "# Illustration of HTTPError: HTTP Error 404: Not Found\n",
    "pd.read_csv(base_url + files[0])"
   ]
  }
 ],
 "metadata": {
  "kernelspec": {
   "display_name": "Python 3 (ipykernel)",
   "language": "python",
   "name": "python3"
  },
  "language_info": {
   "codemirror_mode": {
    "name": "ipython",
    "version": 3
   },
   "file_extension": ".py",
   "mimetype": "text/x-python",
   "name": "python",
   "nbconvert_exporter": "python",
   "pygments_lexer": "ipython3",
   "version": "3.8.18"
  }
 },
 "nbformat": 4,
 "nbformat_minor": 5
}
