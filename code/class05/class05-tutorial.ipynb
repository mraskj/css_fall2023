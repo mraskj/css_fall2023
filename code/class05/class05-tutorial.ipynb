{
 "cells": [
  {
   "cell_type": "markdown",
   "id": "53936d54",
   "metadata": {},
   "source": [
    "# Class 5: Hyperparameter-Tuning and Model Fitting Using Scikit-Learn \n",
    "\n",
    "Link: https://scikit-learn.org/stable/index.html"
   ]
  },
  {
   "cell_type": "code",
   "execution_count": 2,
   "id": "51c8dffc",
   "metadata": {},
   "outputs": [],
   "source": [
    "import matplotlib.pyplot as plt\n",
    "\n",
    "from sklearn.svm import SVC \n",
    "from sklearn import datasets\n",
    "from sklearn.metrics import classification_report\n",
    "from sklearn.model_selection import train_test_split, GridSearchCV"
   ]
  },
  {
   "cell_type": "code",
   "execution_count": 3,
   "id": "cfd341c0",
   "metadata": {},
   "outputs": [],
   "source": [
    "# Load a builtin dataset with hand-written digits\n",
    "digits = datasets.load_digits()"
   ]
  },
  {
   "cell_type": "code",
   "execution_count": 4,
   "id": "dd10a47d",
   "metadata": {},
   "outputs": [
    {
     "data": {
      "image/png": "[encoded data removed]",
      "text/plain": [
       "<Figure size 1000x300 with 4 Axes>"
      ]
     },
     "metadata": {},
     "output_type": "display_data"
    }
   ],
   "source": [
    "# Plot a few samples\n",
    "_, axes = plt.subplots(nrows=1, ncols=4, figsize=(10, 3))\n",
    "for ax, image, label in zip(axes, digits.images, digits.target):\n",
    "    ax.set_axis_off()\n",
    "    ax.imshow(image, cmap=plt.cm.gray_r, interpolation=\"nearest\")\n",
    "    ax.set_title(\"Training: %i\" % label)"
   ]
  },
  {
   "cell_type": "code",
   "execution_count": 5,
   "id": "db4b1633",
   "metadata": {},
   "outputs": [
    {
     "data": {
      "text/plain": [
       "(1797, 8, 8)"
      ]
     },
     "execution_count": 5,
     "metadata": {},
     "output_type": "execute_result"
    }
   ],
   "source": [
    "# Shape of image data\n",
    "digits.images.shape"
   ]
  },
  {
   "cell_type": "code",
   "execution_count": 6,
   "id": "bc5d59c9",
   "metadata": {},
   "outputs": [
    {
     "data": {
      "text/plain": [
       "(1797, 64)"
      ]
     },
     "execution_count": 6,
     "metadata": {},
     "output_type": "execute_result"
    }
   ],
   "source": [
    "# Flatten the images\n",
    "n_samples = len(digits.images)\n",
    "data = digits.images.reshape((n_samples, -1))\n",
    "data.shape"
   ]
  },
  {
   "cell_type": "code",
   "execution_count": 10,
   "id": "8df34cd8",
   "metadata": {},
   "outputs": [],
   "source": [
    "# defining search grid for SVM \n",
    "param_grid = {'C': [0.1, 1, 10, 100],  \n",
    "              'gamma': [1, 0.1, 0.01, 0.001, 0.0001], \n",
    "              'kernel': ['linear', 'rbf']}  "
   ]
  },
  {
   "cell_type": "code",
   "execution_count": 7,
   "id": "409d4d9c",
   "metadata": {},
   "outputs": [],
   "source": [
    "# Split into training and test\n",
    "X_train, X_test, y_train, y_test = train_test_split(data, digits.target, test_size=0.2, random_state=10)"
   ]
  },
  {
   "cell_type": "code",
   "execution_count": 8,
   "id": "7202a8f2",
   "metadata": {},
   "outputs": [],
   "source": [
    "# Instantiate SVM and denote the number of folds\n",
    "svm_model = SVC()\n",
    "cv = 5"
   ]
  },
  {
   "cell_type": "code",
   "execution_count": 11,
   "id": "e649ea97",
   "metadata": {},
   "outputs": [],
   "source": [
    "# Define grid search \n",
    "grid = GridSearchCV(svm_model, param_grid, cv=cv, verbose = 0, n_jobs = -1) "
   ]
  },
  {
   "cell_type": "code",
   "execution_count": 13,
   "id": "b87b9f5c",
   "metadata": {},
   "outputs": [
    {
     "data": {
      "text/html": [
       "<style>#sk-container-id-2 {color: black;}#sk-container-id-2 pre{padding: 0;}#sk-container-id-2 div.sk-toggleable {background-color: white;}#sk-container-id-2 label.sk-toggleable__label {cursor: pointer;display: block;width: 100%;margin-bottom: 0;padding: 0.3em;box-sizing: border-box;text-align: center;}#sk-container-id-2 label.sk-toggleable__label-arrow:before {content: \"▸\";float: left;margin-right: 0.25em;color: #696969;}#sk-container-id-2 label.sk-toggleable__label-arrow:hover:before {color: black;}#sk-container-id-2 div.sk-estimator:hover label.sk-toggleable__label-arrow:before {color: black;}#sk-container-id-2 div.sk-toggleable__content {max-height: 0;max-width: 0;overflow: hidden;text-align: left;background-color: #f0f8ff;}#sk-container-id-2 div.sk-toggleable__content pre {margin: 0.2em;color: black;border-radius: 0.25em;background-color: #f0f8ff;}#sk-container-id-2 input.sk-toggleable__control:checked~div.sk-toggleable__content {max-height: 200px;max-width: 100%;overflow: auto;}#sk-container-id-2 input.sk-toggleable__control:checked~label.sk-toggleable__label-arrow:before {content: \"▾\";}#sk-container-id-2 div.sk-estimator input.sk-toggleable__control:checked~label.sk-toggleable__label {background-color: #d4ebff;}#sk-container-id-2 div.sk-label input.sk-toggleable__control:checked~label.sk-toggleable__label {background-color: #d4ebff;}#sk-container-id-2 input.sk-hidden--visually {border: 0;clip: rect(1px 1px 1px 1px);clip: rect(1px, 1px, 1px, 1px);height: 1px;margin: -1px;overflow: hidden;padding: 0;position: absolute;width: 1px;}#sk-container-id-2 div.sk-estimator {font-family: monospace;background-color: #f0f8ff;border: 1px dotted black;border-radius: 0.25em;box-sizing: border-box;margin-bottom: 0.5em;}#sk-container-id-2 div.sk-estimator:hover {background-color: #d4ebff;}#sk-container-id-2 div.sk-parallel-item::after {content: \"\";width: 100%;border-bottom: 1px solid gray;flex-grow: 1;}#sk-container-id-2 div.sk-label:hover label.sk-toggleable__label {background-color: #d4ebff;}#sk-container-id-2 div.sk-serial::before {content: \"\";position: absolute;border-left: 1px solid gray;box-sizing: border-box;top: 0;bottom: 0;left: 50%;z-index: 0;}#sk-container-id-2 div.sk-serial {display: flex;flex-direction: column;align-items: center;background-color: white;padding-right: 0.2em;padding-left: 0.2em;position: relative;}#sk-container-id-2 div.sk-item {position: relative;z-index: 1;}#sk-container-id-2 div.sk-parallel {display: flex;align-items: stretch;justify-content: center;background-color: white;position: relative;}#sk-container-id-2 div.sk-item::before, #sk-container-id-2 div.sk-parallel-item::before {content: \"\";position: absolute;border-left: 1px solid gray;box-sizing: border-box;top: 0;bottom: 0;left: 50%;z-index: -1;}#sk-container-id-2 div.sk-parallel-item {display: flex;flex-direction: column;z-index: 1;position: relative;background-color: white;}#sk-container-id-2 div.sk-parallel-item:first-child::after {align-self: flex-end;width: 50%;}#sk-container-id-2 div.sk-parallel-item:last-child::after {align-self: flex-start;width: 50%;}#sk-container-id-2 div.sk-parallel-item:only-child::after {width: 0;}#sk-container-id-2 div.sk-dashed-wrapped {border: 1px dashed gray;margin: 0 0.4em 0.5em 0.4em;box-sizing: border-box;padding-bottom: 0.4em;background-color: white;}#sk-container-id-2 div.sk-label label {font-family: monospace;font-weight: bold;display: inline-block;line-height: 1.2em;}#sk-container-id-2 div.sk-label-container {text-align: center;}#sk-container-id-2 div.sk-container {/* jupyter's `normalize.less` sets `[hidden] { display: none; }` but bootstrap.min.css set `[hidden] { display: none !important; }` so we also need the `!important` here to be able to override the default hidden behavior on the sphinx rendered scikit-learn.org. See: https://github.com/scikit-learn/scikit-learn/issues/21755 */display: inline-block !important;position: relative;}#sk-container-id-2 div.sk-text-repr-fallback {display: none;}</style><div id=\"sk-container-id-2\" class=\"sk-top-container\"><div class=\"sk-text-repr-fallback\"><pre>GridSearchCV(cv=5, estimator=SVC(), n_jobs=-1,\n",
       "             param_grid={&#x27;C&#x27;: [0.1, 1, 10, 100],\n",
       "                         &#x27;gamma&#x27;: [1, 0.1, 0.01, 0.001, 0.0001],\n",
       "                         &#x27;kernel&#x27;: [&#x27;linear&#x27;, &#x27;rbf&#x27;]})</pre><b>In a Jupyter environment, please rerun this cell to show the HTML representation or trust the notebook. <br />On GitHub, the HTML representation is unable to render, please try loading this page with nbviewer.org.</b></div><div class=\"sk-container\" hidden><div class=\"sk-item sk-dashed-wrapped\"><div class=\"sk-label-container\"><div class=\"sk-label sk-toggleable\"><input class=\"sk-toggleable__control sk-hidden--visually\" id=\"sk-estimator-id-4\" type=\"checkbox\" ><label for=\"sk-estimator-id-4\" class=\"sk-toggleable__label sk-toggleable__label-arrow\">GridSearchCV</label><div class=\"sk-toggleable__content\"><pre>GridSearchCV(cv=5, estimator=SVC(), n_jobs=-1,\n",
       "             param_grid={&#x27;C&#x27;: [0.1, 1, 10, 100],\n",
       "                         &#x27;gamma&#x27;: [1, 0.1, 0.01, 0.001, 0.0001],\n",
       "                         &#x27;kernel&#x27;: [&#x27;linear&#x27;, &#x27;rbf&#x27;]})</pre></div></div></div><div class=\"sk-parallel\"><div class=\"sk-parallel-item\"><div class=\"sk-item\"><div class=\"sk-label-container\"><div class=\"sk-label sk-toggleable\"><input class=\"sk-toggleable__control sk-hidden--visually\" id=\"sk-estimator-id-5\" type=\"checkbox\" ><label for=\"sk-estimator-id-5\" class=\"sk-toggleable__label sk-toggleable__label-arrow\">estimator: SVC</label><div class=\"sk-toggleable__content\"><pre>SVC()</pre></div></div></div><div class=\"sk-serial\"><div class=\"sk-item\"><div class=\"sk-estimator sk-toggleable\"><input class=\"sk-toggleable__control sk-hidden--visually\" id=\"sk-estimator-id-6\" type=\"checkbox\" ><label for=\"sk-estimator-id-6\" class=\"sk-toggleable__label sk-toggleable__label-arrow\">SVC</label><div class=\"sk-toggleable__content\"><pre>SVC()</pre></div></div></div></div></div></div></div></div></div></div>"
      ],
      "text/plain": [
       "GridSearchCV(cv=5, estimator=SVC(), n_jobs=-1,\n",
       "             param_grid={'C': [0.1, 1, 10, 100],\n",
       "                         'gamma': [1, 0.1, 0.01, 0.001, 0.0001],\n",
       "                         'kernel': ['linear', 'rbf']})"
      ]
     },
     "execution_count": 13,
     "metadata": {},
     "output_type": "execute_result"
    }
   ],
   "source": [
    "grid.fit(X_train, y_train) "
   ]
  },
  {
   "cell_type": "code",
   "execution_count": 14,
   "id": "6ccd0e30",
   "metadata": {},
   "outputs": [
    {
     "name": "stdout",
     "output_type": "stream",
     "text": [
      "{'C': 10, 'gamma': 0.001, 'kernel': 'rbf'}\n"
     ]
    }
   ],
   "source": [
    "print(grid.best_params_)"
   ]
  },
  {
   "cell_type": "code",
   "execution_count": 15,
   "id": "fd794626",
   "metadata": {},
   "outputs": [
    {
     "name": "stdout",
     "output_type": "stream",
     "text": [
      "{'mean_fit_time': array([0.04011359, 0.39190416, 0.03006072, 0.21996684, 0.02970972,\n",
      "       0.20858898, 0.02875566, 0.13195386, 0.03217926, 0.17570953,\n",
      "       0.02759342, 0.40253835, 0.03174696, 0.24820838, 0.03321939,\n",
      "       0.26136045, 0.03218889, 0.08153701, 0.02769704, 0.06285   ,\n",
      "       0.0349051 , 0.4318646 , 0.03317041, 0.26645455, 0.03202524,\n",
      "       0.25610714, 0.03287344, 0.07997022, 0.0364172 , 0.0471312 ,\n",
      "       0.03976769, 0.44943542, 0.03347206, 0.2866827 , 0.03814893,\n",
      "       0.22580214, 0.03518534, 0.08802233, 0.03719373, 0.04379487]), 'std_fit_time': array([0.00681186, 0.00745417, 0.00432171, 0.01033318, 0.00319293,\n",
      "       0.00964615, 0.00432623, 0.00844592, 0.00951505, 0.00559273,\n",
      "       0.0049683 , 0.01147134, 0.00251187, 0.02578311, 0.00371572,\n",
      "       0.00789332, 0.00603259, 0.00580753, 0.00339208, 0.01062644,\n",
      "       0.00678085, 0.01084357, 0.00494432, 0.00523976, 0.00900264,\n",
      "       0.00915579, 0.0012312 , 0.00955117, 0.00770035, 0.00359374,\n",
      "       0.00605383, 0.01251513, 0.00740309, 0.0370785 , 0.0080537 ,\n",
      "       0.05833866, 0.00783426, 0.01332515, 0.00539547, 0.00639592]), 'mean_score_time': array([0.01661849, 0.11249447, 0.01010299, 0.0841341 , 0.00483041,\n",
      "       0.08774486, 0.01181583, 0.06328144, 0.00710187, 0.08626328,\n",
      "       0.00805702, 0.12407994, 0.00617099, 0.08806548, 0.00589952,\n",
      "       0.08287153, 0.00909305, 0.04452205, 0.0123982 , 0.06011281,\n",
      "       0.00810905, 0.12009935, 0.00528703, 0.0810358 , 0.00717387,\n",
      "       0.10203786, 0.00624809, 0.05496092, 0.01514692, 0.03240895,\n",
      "       0.01022568, 0.10928397, 0.00739455, 0.07066116, 0.0084219 ,\n",
      "       0.07462578, 0.0065167 , 0.04682589, 0.01036263, 0.03143859]), 'std_score_time': array([0.01086033, 0.00907582, 0.00835383, 0.00645971, 0.00633078,\n",
      "       0.00792029, 0.00992639, 0.00597629, 0.00767862, 0.00721467,\n",
      "       0.00915771, 0.00534596, 0.0075157 , 0.01201836, 0.0049136 ,\n",
      "       0.00325987, 0.00573505, 0.00615571, 0.00623518, 0.00545408,\n",
      "       0.00525803, 0.00523998, 0.00664863, 0.00737566, 0.00890617,\n",
      "       0.00699772, 0.00765232, 0.00761475, 0.00354298, 0.00558875,\n",
      "       0.00483844, 0.03799867, 0.00923587, 0.0190193 , 0.00715836,\n",
      "       0.02512205, 0.00593391, 0.00944716, 0.00647553, 0.00656299]), 'param_C': masked_array(data=[0.1, 0.1, 0.1, 0.1, 0.1, 0.1, 0.1, 0.1, 0.1, 0.1, 1, 1,\n",
      "                   1, 1, 1, 1, 1, 1, 1, 1, 10, 10, 10, 10, 10, 10, 10, 10,\n",
      "                   10, 10, 100, 100, 100, 100, 100, 100, 100, 100, 100,\n",
      "                   100],\n",
      "             mask=[False, False, False, False, False, False, False, False,\n",
      "                   False, False, False, False, False, False, False, False,\n",
      "                   False, False, False, False, False, False, False, False,\n",
      "                   False, False, False, False, False, False, False, False,\n",
      "                   False, False, False, False, False, False, False, False],\n",
      "       fill_value='?',\n",
      "            dtype=object), 'param_gamma': masked_array(data=[1, 1, 0.1, 0.1, 0.01, 0.01, 0.001, 0.001, 0.0001,\n",
      "                   0.0001, 1, 1, 0.1, 0.1, 0.01, 0.01, 0.001, 0.001,\n",
      "                   0.0001, 0.0001, 1, 1, 0.1, 0.1, 0.01, 0.01, 0.001,\n",
      "                   0.001, 0.0001, 0.0001, 1, 1, 0.1, 0.1, 0.01, 0.01,\n",
      "                   0.001, 0.001, 0.0001, 0.0001],\n",
      "             mask=[False, False, False, False, False, False, False, False,\n",
      "                   False, False, False, False, False, False, False, False,\n",
      "                   False, False, False, False, False, False, False, False,\n",
      "                   False, False, False, False, False, False, False, False,\n",
      "                   False, False, False, False, False, False, False, False],\n",
      "       fill_value='?',\n",
      "            dtype=object), 'param_kernel': masked_array(data=['linear', 'rbf', 'linear', 'rbf', 'linear', 'rbf',\n",
      "                   'linear', 'rbf', 'linear', 'rbf', 'linear', 'rbf',\n",
      "                   'linear', 'rbf', 'linear', 'rbf', 'linear', 'rbf',\n",
      "                   'linear', 'rbf', 'linear', 'rbf', 'linear', 'rbf',\n",
      "                   'linear', 'rbf', 'linear', 'rbf', 'linear', 'rbf',\n",
      "                   'linear', 'rbf', 'linear', 'rbf', 'linear', 'rbf',\n",
      "                   'linear', 'rbf', 'linear', 'rbf'],\n",
      "             mask=[False, False, False, False, False, False, False, False,\n",
      "                   False, False, False, False, False, False, False, False,\n",
      "                   False, False, False, False, False, False, False, False,\n",
      "                   False, False, False, False, False, False, False, False,\n",
      "                   False, False, False, False, False, False, False, False],\n",
      "       fill_value='?',\n",
      "            dtype=object), 'params': [{'C': 0.1, 'gamma': 1, 'kernel': 'linear'}, {'C': 0.1, 'gamma': 1, 'kernel': 'rbf'}, {'C': 0.1, 'gamma': 0.1, 'kernel': 'linear'}, {'C': 0.1, 'gamma': 0.1, 'kernel': 'rbf'}, {'C': 0.1, 'gamma': 0.01, 'kernel': 'linear'}, {'C': 0.1, 'gamma': 0.01, 'kernel': 'rbf'}, {'C': 0.1, 'gamma': 0.001, 'kernel': 'linear'}, {'C': 0.1, 'gamma': 0.001, 'kernel': 'rbf'}, {'C': 0.1, 'gamma': 0.0001, 'kernel': 'linear'}, {'C': 0.1, 'gamma': 0.0001, 'kernel': 'rbf'}, {'C': 1, 'gamma': 1, 'kernel': 'linear'}, {'C': 1, 'gamma': 1, 'kernel': 'rbf'}, {'C': 1, 'gamma': 0.1, 'kernel': 'linear'}, {'C': 1, 'gamma': 0.1, 'kernel': 'rbf'}, {'C': 1, 'gamma': 0.01, 'kernel': 'linear'}, {'C': 1, 'gamma': 0.01, 'kernel': 'rbf'}, {'C': 1, 'gamma': 0.001, 'kernel': 'linear'}, {'C': 1, 'gamma': 0.001, 'kernel': 'rbf'}, {'C': 1, 'gamma': 0.0001, 'kernel': 'linear'}, {'C': 1, 'gamma': 0.0001, 'kernel': 'rbf'}, {'C': 10, 'gamma': 1, 'kernel': 'linear'}, {'C': 10, 'gamma': 1, 'kernel': 'rbf'}, {'C': 10, 'gamma': 0.1, 'kernel': 'linear'}, {'C': 10, 'gamma': 0.1, 'kernel': 'rbf'}, {'C': 10, 'gamma': 0.01, 'kernel': 'linear'}, {'C': 10, 'gamma': 0.01, 'kernel': 'rbf'}, {'C': 10, 'gamma': 0.001, 'kernel': 'linear'}, {'C': 10, 'gamma': 0.001, 'kernel': 'rbf'}, {'C': 10, 'gamma': 0.0001, 'kernel': 'linear'}, {'C': 10, 'gamma': 0.0001, 'kernel': 'rbf'}, {'C': 100, 'gamma': 1, 'kernel': 'linear'}, {'C': 100, 'gamma': 1, 'kernel': 'rbf'}, {'C': 100, 'gamma': 0.1, 'kernel': 'linear'}, {'C': 100, 'gamma': 0.1, 'kernel': 'rbf'}, {'C': 100, 'gamma': 0.01, 'kernel': 'linear'}, {'C': 100, 'gamma': 0.01, 'kernel': 'rbf'}, {'C': 100, 'gamma': 0.001, 'kernel': 'linear'}, {'C': 100, 'gamma': 0.001, 'kernel': 'rbf'}, {'C': 100, 'gamma': 0.0001, 'kernel': 'linear'}, {'C': 100, 'gamma': 0.0001, 'kernel': 'rbf'}], 'split0_test_score': array([0.97222222, 0.10416667, 0.97222222, 0.10416667, 0.97222222,\n",
      "       0.10416667, 0.97222222, 0.95138889, 0.97222222, 0.89583333,\n",
      "       0.97222222, 0.10416667, 0.97222222, 0.10763889, 0.97222222,\n",
      "       0.76388889, 0.97222222, 0.98611111, 0.97222222, 0.96875   ,\n",
      "       0.97222222, 0.10416667, 0.97222222, 0.10763889, 0.97222222,\n",
      "       0.78125   , 0.97222222, 0.98611111, 0.97222222, 0.98263889,\n",
      "       0.97222222, 0.10416667, 0.97222222, 0.10763889, 0.97222222,\n",
      "       0.78125   , 0.97222222, 0.98611111, 0.97222222, 0.97916667]), 'split1_test_score': array([0.98611111, 0.10416667, 0.98611111, 0.10416667, 0.98611111,\n",
      "       0.10416667, 0.98611111, 0.95486111, 0.98611111, 0.86458333,\n",
      "       0.98611111, 0.10416667, 0.98611111, 0.10416667, 0.98611111,\n",
      "       0.75694444, 0.98611111, 0.99305556, 0.98611111, 0.97569444,\n",
      "       0.98611111, 0.10416667, 0.98611111, 0.10416667, 0.98611111,\n",
      "       0.77083333, 0.98611111, 0.99305556, 0.98611111, 0.99652778,\n",
      "       0.98611111, 0.10416667, 0.98611111, 0.10416667, 0.98611111,\n",
      "       0.77083333, 0.98611111, 0.99305556, 0.98611111, 0.99305556]), 'split2_test_score': array([0.97909408, 0.10452962, 0.97909408, 0.10452962, 0.97909408,\n",
      "       0.10452962, 0.97909408, 0.95818815, 0.97909408, 0.87456446,\n",
      "       0.97909408, 0.10452962, 0.97909408, 0.10452962, 0.97909408,\n",
      "       0.73170732, 0.97909408, 0.98606272, 0.97909408, 0.96515679,\n",
      "       0.97909408, 0.10452962, 0.97909408, 0.10452962, 0.97909408,\n",
      "       0.74216028, 0.97909408, 0.98606272, 0.97909408, 0.98606272,\n",
      "       0.97909408, 0.10452962, 0.97909408, 0.10452962, 0.97909408,\n",
      "       0.74216028, 0.97909408, 0.98606272, 0.97909408, 0.98606272]), 'split3_test_score': array([0.99303136, 0.10452962, 0.99303136, 0.10452962, 0.99303136,\n",
      "       0.10452962, 0.99303136, 0.96515679, 0.99303136, 0.89198606,\n",
      "       0.99303136, 0.10452962, 0.99303136, 0.10452962, 0.99303136,\n",
      "       0.7804878 , 0.99303136, 0.99303136, 0.99303136, 0.97909408,\n",
      "       0.99303136, 0.10452962, 0.99303136, 0.10452962, 0.99303136,\n",
      "       0.79442509, 0.99303136, 0.99651568, 0.99303136, 0.99303136,\n",
      "       0.99303136, 0.10452962, 0.99303136, 0.10452962, 0.99303136,\n",
      "       0.79442509, 0.99303136, 0.99651568, 0.99303136, 0.99651568]), 'split4_test_score': array([0.97909408, 0.10452962, 0.97909408, 0.10452962, 0.97909408,\n",
      "       0.10452962, 0.97909408, 0.97560976, 0.97909408, 0.86062718,\n",
      "       0.97909408, 0.10452962, 0.97909408, 0.10801394, 0.97909408,\n",
      "       0.7456446 , 0.97909408, 0.98954704, 0.97909408, 0.97560976,\n",
      "       0.97909408, 0.10452962, 0.97909408, 0.10801394, 0.97909408,\n",
      "       0.74912892, 0.97909408, 0.98954704, 0.97909408, 0.98954704,\n",
      "       0.97909408, 0.10452962, 0.97909408, 0.10801394, 0.97909408,\n",
      "       0.74912892, 0.97909408, 0.98954704, 0.97909408, 0.98606272]), 'mean_test_score': array([0.98191057, 0.10438444, 0.98191057, 0.10438444, 0.98191057,\n",
      "       0.10438444, 0.98191057, 0.96104094, 0.98191057, 0.87751887,\n",
      "       0.98191057, 0.10438444, 0.98191057, 0.10577575, 0.98191057,\n",
      "       0.75573461, 0.98191057, 0.98956156, 0.98191057, 0.97286101,\n",
      "       0.98191057, 0.10438444, 0.98191057, 0.10577575, 0.98191057,\n",
      "       0.76755952, 0.98191057, 0.99025842, 0.98191057, 0.98956156,\n",
      "       0.98191057, 0.10438444, 0.98191057, 0.10577575, 0.98191057,\n",
      "       0.76755952, 0.98191057, 0.99025842, 0.98191057, 0.98817267]), 'std_test_score': array([0.00708584, 0.00017781, 0.00708584, 0.00017781, 0.00708584,\n",
      "       0.00017781, 0.00708584, 0.00858698, 0.00708584, 0.01418524,\n",
      "       0.00708584, 0.00017781, 0.00708584, 0.00168378, 0.00708584,\n",
      "       0.01649118, 0.00708584, 0.00311112, 0.00708584, 0.00511254,\n",
      "       0.00708584, 0.00017781, 0.00708584, 0.00168378, 0.00708584,\n",
      "       0.01951776, 0.00708584, 0.00405678, 0.00708584, 0.00491392,\n",
      "       0.00708584, 0.00017781, 0.00708584, 0.00168378, 0.00708584,\n",
      "       0.01951776, 0.00708584, 0.00405678, 0.00708584, 0.0060574 ]), 'rank_test_score': array([ 6, 35,  6, 35,  6, 35,  6, 27,  6, 28,  6, 35,  6, 32,  6, 31,  6,\n",
      "        3,  6, 26,  6, 35,  6, 32,  6, 29,  6,  1,  6,  3,  6, 35,  6, 32,\n",
      "        6, 29,  6,  1,  6,  5])}\n"
     ]
    }
   ],
   "source": [
    "print(grid.cv_results_)"
   ]
  },
  {
   "cell_type": "code",
   "execution_count": 16,
   "id": "d5cb0d16",
   "metadata": {},
   "outputs": [],
   "source": [
    "grid_predictions = grid.predict(X_test) "
   ]
  },
  {
   "cell_type": "code",
   "execution_count": 17,
   "id": "4b572a60",
   "metadata": {},
   "outputs": [
    {
     "name": "stdout",
     "output_type": "stream",
     "text": [
      "              precision    recall  f1-score   support\n",
      "\n",
      "           0       1.00      1.00      1.00        37\n",
      "           1       1.00      1.00      1.00        34\n",
      "           2       1.00      1.00      1.00        34\n",
      "           3       1.00      1.00      1.00        40\n",
      "           4       1.00      1.00      1.00        34\n",
      "           5       0.97      0.97      0.97        32\n",
      "           6       1.00      1.00      1.00        37\n",
      "           7       0.98      1.00      0.99        40\n",
      "           8       1.00      1.00      1.00        33\n",
      "           9       0.97      0.95      0.96        39\n",
      "\n",
      "    accuracy                           0.99       360\n",
      "   macro avg       0.99      0.99      0.99       360\n",
      "weighted avg       0.99      0.99      0.99       360\n",
      "\n"
     ]
    }
   ],
   "source": [
    "# print classification report \n",
    "print(classification_report(y_test, grid_predictions)) "
   ]
  },
  {
   "cell_type": "code",
   "execution_count": 27,
   "id": "5cd48515",
   "metadata": {},
   "outputs": [],
   "source": [
    "# Instantiate\n",
    "svm_model = SVC(kernel='rbf', C=10, gamma=0.001)\n",
    "\n",
    "# Fit\n",
    "svm_model.fit(X_train, y_train)\n",
    "\n",
    "# Predict\n",
    "svm_preds = svm_model.predict(X_test)\n",
    "\n",
    "# Validate\n",
    "print(classification_report(y_test, svm_preds)) "
   ]
  }
 ],
 "metadata": {
  "kernelspec": {
   "display_name": "Python 3 (ipykernel)",
   "language": "python",
   "name": "python3"
  },
  "language_info": {
   "codemirror_mode": {
    "name": "ipython",
    "version": 3
   },
   "file_extension": ".py",
   "mimetype": "text/x-python",
   "name": "python",
   "nbconvert_exporter": "python",
   "pygments_lexer": "ipython3",
   "version": "3.8.18"
  }
 },
 "nbformat": 4,
 "nbformat_minor": 5
}
