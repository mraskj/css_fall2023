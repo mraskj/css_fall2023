{
 "cells": [
  {
   "cell_type": "code",
   "execution_count": 4,
   "id": "690bcd19",
   "metadata": {},
   "outputs": [],
   "source": [
    "import os\n",
    "import platform\n",
    "import subprocess"
   ]
  },
  {
   "cell_type": "code",
   "execution_count": 5,
   "id": "5c154fd3",
   "metadata": {},
   "outputs": [
    {
     "data": {
      "text/plain": [
       "'/home/rask/Dropbox/teaching/css_fall2023'"
      ]
     },
     "execution_count": 5,
     "metadata": {},
     "output_type": "execute_result"
    }
   ],
   "source": [
    "# # # # Working Directory # # # #\n",
    "\n",
    "if platform.system() == 'Linux':\n",
    "    rootwd = '/home/rask/'\n",
    "else:\n",
    "    rootwd = 'C:/Users/au535365/'\n",
    "\n",
    "wd = os.path.join(rootwd, 'Dropbox/teaching/css_fall2023')\n",
    "    \n",
    "# Change directory\n",
    "os.chdir(wd)\n",
    "\n",
    "# Confirm that the working directory is as intended \n",
    "os.getcwd()"
   ]
  },
  {
   "cell_type": "code",
   "execution_count": 11,
   "id": "96fcecc8",
   "metadata": {},
   "outputs": [
    {
     "name": "stderr",
     "output_type": "stream",
     "text": [
      "ffmpeg version 4.2.7-0ubuntu0.1 Copyright (c) 2000-2022 the FFmpeg developers\n",
      "  built with gcc 9 (Ubuntu 9.4.0-1ubuntu1~20.04.1)\n",
      "  configuration: --prefix=/usr --extra-version=0ubuntu0.1 --toolchain=hardened --libdir=/usr/lib/x86_64-linux-gnu --incdir=/usr/include/x86_64-linux-gnu --arch=amd64 --enable-gpl --disable-stripping --enable-avresample --disable-filter=resample --enable-avisynth --enable-gnutls --enable-ladspa --enable-libaom --enable-libass --enable-libbluray --enable-libbs2b --enable-libcaca --enable-libcdio --enable-libcodec2 --enable-libflite --enable-libfontconfig --enable-libfreetype --enable-libfribidi --enable-libgme --enable-libgsm --enable-libjack --enable-libmp3lame --enable-libmysofa --enable-libopenjpeg --enable-libopenmpt --enable-libopus --enable-libpulse --enable-librsvg --enable-librubberband --enable-libshine --enable-libsnappy --enable-libsoxr --enable-libspeex --enable-libssh --enable-libtheora --enable-libtwolame --enable-libvidstab --enable-libvorbis --enable-libvpx --enable-libwavpack --enable-libwebp --enable-libx265 --enable-libxml2 --enable-libxvid --enable-libzmq --enable-libzvbi --enable-lv2 --enable-omx --enable-openal --enable-opencl --enable-opengl --enable-sdl2 --enable-libdc1394 --enable-libdrm --enable-libiec61883 --enable-nvenc --enable-chromaprint --enable-frei0r --enable-libx264 --enable-shared\n",
      "  libavutil      56. 31.100 / 56. 31.100\n",
      "  libavcodec     58. 54.100 / 58. 54.100\n",
      "  libavformat    58. 29.100 / 58. 29.100\n",
      "  libavdevice    58.  8.100 / 58.  8.100\n",
      "  libavfilter     7. 57.100 /  7. 57.100\n",
      "  libavresample   4.  0.  0 /  4.  0.  0\n",
      "  libswscale      5.  5.100 /  5.  5.100\n",
      "  libswresample   3.  5.100 /  3.  5.100\n",
      "  libpostproc    55.  5.100 / 55.  5.100\n",
      "Input #0, mov,mp4,m4a,3gp,3g2,mj2, from 'data/audio/class11/57-71-class.mp4':\n",
      "  Metadata:\n",
      "    major_brand     : isom\n",
      "    minor_version   : 512\n",
      "    compatible_brands: isomiso2avc1mp41\n",
      "    encoder         : Lavf58.29.100\n",
      "  Duration: 00:10:00.02, start: 0.000000, bitrate: 694 kb/s\n",
      "    Stream #0:0(und): Video: h264 (High) (avc1 / 0x31637661), yuv420p, 704x396 [SAR 176:175 DAR 2816:1575], 559 kb/s, 25 fps, 25 tbr, 12800 tbn, 50 tbc (default)\n",
      "    Metadata:\n",
      "      handler_name    : VideoHandler\n",
      "    Stream #0:1(und): Audio: aac (LC) (mp4a / 0x6134706D), 48000 Hz, stereo, fltp, 128 kb/s (default)\n",
      "    Metadata:\n",
      "      handler_name    : SoundHandler\n",
      "Stream mapping:\n",
      "  Stream #0:0 -> #0:0 (h264 (native) -> h264 (libx264))\n",
      "  Stream #0:1 -> #0:1 (aac (native) -> aac (native))\n",
      "Press [q] to stop, [?] for help\n",
      "[libx264 @ 0x55a1e0231680] using SAR=176/175\n",
      "[libx264 @ 0x55a1e0231680] using cpu capabilities: MMX2 SSE2Fast SSSE3 SSE4.2 AVX FMA3 BMI2 AVX2\n",
      "[libx264 @ 0x55a1e0231680] profile High, level 3.0\n",
      "[libx264 @ 0x55a1e0231680] 264 - core 155 r2917 0a84d98 - H.264/MPEG-4 AVC codec - Copyleft 2003-2018 - http://www.videolan.org/x264.html - options: cabac=1 ref=3 deblock=1:0:0 analyse=0x3:0x113 me=hex subme=7 psy=1 psy_rd=1.00:0.00 mixed_ref=1 me_range=16 chroma_me=1 trellis=1 8x8dct=1 cqm=0 deadzone=21,11 fast_pskip=1 chroma_qp_offset=-2 threads=12 lookahead_threads=2 sliced_threads=0 nr=0 decimate=1 interlaced=0 bluray_compat=0 constrained_intra=0 bframes=3 b_pyramid=2 b_adapt=1 b_bias=0 direct=1 weightb=1 open_gop=0 weightp=2 keyint=250 keyint_min=25 scenecut=40 intra_refresh=0 rc_lookahead=40 rc=crf mbtree=1 crf=23.0 qcomp=0.60 qpmin=0 qpmax=69 qpstep=4 ip_ratio=1.40 aq=1:1.00\n",
      "Output #0, mp4, to 'data/image/class12/video/57-71-sample.mp4':\n",
      "  Metadata:\n",
      "    major_brand     : isom\n",
      "    minor_version   : 512\n",
      "    compatible_brands: isomiso2avc1mp41\n",
      "    encoder         : Lavf58.29.100\n",
      "    Stream #0:0(und): Video: h264 (libx264) (avc1 / 0x31637661), yuv420p, 704x396 [SAR 176:175 DAR 2816:1575], q=-1--1, 25 fps, 12800 tbn, 25 tbc (default)\n",
      "    Metadata:\n",
      "      handler_name    : VideoHandler\n",
      "      encoder         : Lavc58.54.100 libx264\n",
      "    Side data:\n",
      "      cpb: bitrate max/min/avg: 0/0/0 buffer size: 0 vbv_delay: -1\n",
      "    Stream #0:1(und): Audio: aac (LC) (mp4a / 0x6134706D), 48000 Hz, stereo, fltp, 128 kb/s (default)\n",
      "    Metadata:\n",
      "      handler_name    : SoundHandler\n",
      "      encoder         : Lavc58.54.100 aac\n",
      "frame=  500 fps=216 q=-1.0 Lsize=    1659kB time=00:00:20.01 bitrate= 679.2kbits/s speed=8.66x    \n",
      "video:1329kB audio:314kB subtitle:0kB other streams:0kB global headers:0kB muxing overhead: 0.974368%\n",
      "[libx264 @ 0x55a1e0231680] frame I:4     Avg QP:19.61  size: 38665\n",
      "[libx264 @ 0x55a1e0231680] frame P:173   Avg QP:22.45  size:  5546\n",
      "[libx264 @ 0x55a1e0231680] frame B:323   Avg QP:27.69  size:   762\n",
      "[libx264 @ 0x55a1e0231680] consecutive B-frames:  6.8% 18.8%  7.2% 67.2%\n",
      "[libx264 @ 0x55a1e0231680] mb I  I16..4:  3.6% 53.2% 43.2%\n",
      "[libx264 @ 0x55a1e0231680] mb P  I16..4:  0.5%  1.8%  0.8%  P16..4: 33.8% 15.6%  9.7%  0.0%  0.0%    skip:37.9%\n",
      "[libx264 @ 0x55a1e0231680] mb B  I16..4:  0.0%  0.0%  0.0%  B16..8: 26.5%  2.9%  0.5%  direct: 0.5%  skip:69.5%  L0:36.9% L1:54.8% BI: 8.3%\n",
      "[libx264 @ 0x55a1e0231680] 8x8 transform intra:55.9% inter:68.1%\n",
      "[libx264 @ 0x55a1e0231680] coded y,uvDC,uvAC intra: 77.7% 83.2% 42.7% inter: 9.2% 12.8% 0.5%\n",
      "[libx264 @ 0x55a1e0231680] i16 v,h,dc,p: 31% 25% 11% 33%\n",
      "[libx264 @ 0x55a1e0231680] i8 v,h,dc,ddl,ddr,vr,hd,vl,hu: 28% 18% 15%  5%  5%  7%  6%  8%  8%\n",
      "[libx264 @ 0x55a1e0231680] i4 v,h,dc,ddl,ddr,vr,hd,vl,hu: 26% 23% 11%  6%  7%  7%  7%  7%  6%\n",
      "[libx264 @ 0x55a1e0231680] i8c dc,h,v,p: 46% 24% 23%  7%\n",
      "[libx264 @ 0x55a1e0231680] Weighted P-Frames: Y:2.3% UV:0.6%\n",
      "[libx264 @ 0x55a1e0231680] ref P L0: 71.3% 14.9% 10.8%  2.9%  0.1%\n",
      "[libx264 @ 0x55a1e0231680] ref B L0: 94.8%  4.5%  0.7%\n",
      "[libx264 @ 0x55a1e0231680] ref B L1: 98.4%  1.6%\n",
      "[libx264 @ 0x55a1e0231680] kb/s:544.09\n",
      "[aac @ 0x55a1e02414c0] Qavg: 217.228\n"
     ]
    },
    {
     "data": {
      "text/plain": [
       "0"
      ]
     },
     "execution_count": 11,
     "metadata": {},
     "output_type": "execute_result"
    }
   ],
   "source": [
    "infile = 'data/audio/class11/57-71-class.mp4'\n",
    "output = 'data/image/class12/video/57-71-sample.mp4'\n",
    "sr = 16000\n",
    "channels = 1\n",
    "cmd = ['ffmpeg',\n",
    "       '-i',\n",
    "       infile]\n",
    "\n",
    "start_time = 180\n",
    "end_time = 200\n",
    "duration = end_time - start_time\n",
    "\n",
    "if start_time is not None:\n",
    "    cmd.extend(['-ss', str(start_time)])\n",
    "if duration is not None:\n",
    "    cmd.extend(['-t', str(duration)])\n",
    "\n",
    "cmd.append(output)\n",
    "\n",
    "subprocess.call(cmd)"
   ]
  }
 ],
 "metadata": {
  "kernelspec": {
   "display_name": "Python 3 (ipykernel)",
   "language": "python",
   "name": "python3"
  },
  "language_info": {
   "codemirror_mode": {
    "name": "ipython",
    "version": 3
   },
   "file_extension": ".py",
   "mimetype": "text/x-python",
   "name": "python",
   "nbconvert_exporter": "python",
   "pygments_lexer": "ipython3",
   "version": "3.8.18"
  }
 },
 "nbformat": 4,
 "nbformat_minor": 5
}
