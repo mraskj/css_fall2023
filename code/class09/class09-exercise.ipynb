{
  "nbformat": 4,
  "nbformat_minor": 0,
  "metadata": {
    "colab": {
      "provenance": [],
      "authorship_tag": "ABX9TyMmLoGpUuPKrb8/CTQ7M9DO",
      "include_colab_link": true
    },
    "kernelspec": {
      "name": "python3",
      "display_name": "Python 3"
    },
    "language_info": {
      "name": "python"
    }
  },
  "cells": [
    {
      "cell_type": "markdown",
      "metadata": {
        "id": "view-in-github",
        "colab_type": "text"
      },
      "source": [
        "<a href=\"https://colab.research.google.com/github/mraskj/css_fall2023/blob/main/code/class09/class09-exercise.ipynb\" target=\"_parent\"><img src=\"https://colab.research.google.com/assets/colab-badge.svg\" alt=\"Open In Colab\"/></a>"
      ]
    },
    {
      "cell_type": "markdown",
      "source": [
        "# Class 09: Audio Basics - Exercise\n",
        "\n",
        "In this exercise, we explore how to play around with audio in Python. We'll learn how plot waveforms, convert audio from the time to the frequency domain, and how to convert audio into spectrograms.\n",
        "\n"
      ],
      "metadata": {
        "id": "zucTOZY880HP"
      }
    },
    {
      "cell_type": "markdown",
      "source": [
        "## Setup\n",
        "\n",
        "We start by:\n",
        "\n",
        "1. Cloning the course GitHub repo\n",
        "2. Importing necessary modules\n",
        "\n",
        "\n",
        "\n"
      ],
      "metadata": {
        "id": "OHfXpOoHGxZr"
      }
    },
    {
      "cell_type": "markdown",
      "source": [
        "### 0.1 Cloning GitHub Repository"
      ],
      "metadata": {
        "id": "tcesj3dKg8zi"
      }
    },
    {
      "cell_type": "code",
      "source": [
        "# Clone GitHub directory into\n",
        "!git clone https://github.com/mraskj/css_fall2023.git"
      ],
      "metadata": {
        "id": "4QD5e4-0-DhU"
      },
      "execution_count": null,
      "outputs": []
    },
    {
      "cell_type": "markdown",
      "source": [
        "### 0.2 Importing Modules"
      ],
      "metadata": {
        "id": "xHz89nDX-hUb"
      }
    },
    {
      "cell_type": "code",
      "source": [
        "# MODULES\n",
        "\n",
        "# For file and directory management\n",
        "import os\n",
        "\n",
        "# For data handling\n",
        "import numpy as np\n",
        "\n",
        "# For plotting\n",
        "import matplotlib.pyplot as plt\n",
        "\n",
        "# For signal processing\n",
        "import scipy\n",
        "import librosa\n",
        "from scipy.io import wavfile"
      ],
      "metadata": {
        "id": "asmX0NwD_BTP"
      },
      "execution_count": null,
      "outputs": []
    },
    {
      "cell_type": "markdown",
      "source": [
        "## Exercise 1: Reading and Writing Audio Files"
      ],
      "metadata": {
        "id": "wEEz-bED-WmY"
      }
    },
    {
      "cell_type": "markdown",
      "source": [
        "### Exercise 1.0 Reading Audio\n",
        "\n",
        "1. Read in one of the audio files from *data/audio/class9/*. You decide which one.\n",
        "2. After reading the file, inspect the sampling rate and the characteristics of the audio signal (e.g. number of samples, sampling rate, duration, max and min values, and so on)\n",
        "\n",
        "[https://docs.scipy.org/doc/scipy/reference/generated/scipy.io.wavfile.read.html](https://docs.scipy.org/doc/scipy/reference/generated/scipy.io.wavfile.read.html)"
      ],
      "metadata": {
        "id": "kcyoUcQFDGZK"
      }
    },
    {
      "cell_type": "markdown",
      "source": [
        "### Exercise 1.1: Writing Audio\n",
        "\n",
        "Audio files can easily be saved as files using the `wavfile.write` function. Define an audio signal of your choice (e.g. a sine wave) with frequency $f$, length $l$ (i.e duration in seconds) and sampling rate $sr$. You decide the various values, but I recommend $f=[50, 100]$ and $l=[0.0, 5.0]$.  \n",
        "\n",
        "\n",
        "[https://docs.scipy.org/doc/scipy/reference/generated/scipy.io.wavfile.write.html](https://docs.scipy.org/doc/scipy/reference/generated/scipy.io.wavfile.write.html)"
      ],
      "metadata": {
        "id": "ufYoMJ_XDD5q"
      }
    },
    {
      "cell_type": "markdown",
      "source": [
        "## Exercise 2: Resampling\n",
        "\n",
        "We can always down- and upsample signals. We always want to work with the same sampling rate across all our files. If you use a pretrained model, you are typically required to preprocess your audio to the same sampling rate as the model. Why is that necessary you think?\n",
        "\n",
        "Whenver we want to change the sampling rate, we can *resample* our original audio file to a target rate. However, upsampling does not change the quality of your original audio. It only inter- and extrapolates to accomodate the target."
      ],
      "metadata": {
        "id": "pOlv2fGBRUDd"
      }
    },
    {
      "cell_type": "code",
      "source": [
        "# Define function to resample signal\n",
        "def resampling(signal, sr, target_sr):\n",
        "  \"\"\"\n",
        "  Resample an audio signal from the old sample rate to the new sample rate.\n",
        "\n",
        "  Parameters:\n",
        "  signal (numpy.ndarray): The input audio signal to be resampled.\n",
        "  sr (int): The original sample rate (in Hz) of the input signal.\n",
        "  target_sr (int): The target sample rate (in Hz) for the resampled signal.\n",
        "\n",
        "  Returns:\n",
        "  tuple: A tuple containing the new sample rate (target_sr) and the resampled signal (numpy.ndarray).\n",
        "  \"\"\"\n",
        "\n",
        "  # resample ratio\n",
        "  resample_ratio = target_sr / sr\n",
        "\n",
        "  # resample signal\n",
        "  resampled_signal = scipy.signal.resample(signal,\n",
        "                                           int(len(signal) * resample_ratio))\n",
        "\n",
        "  return target_sr, resampled_signal"
      ],
      "metadata": {
        "id": "sb5zZIkqHj9Y"
      },
      "execution_count": null,
      "outputs": []
    },
    {
      "cell_type": "markdown",
      "source": [
        "### Exercise 2.0: Naive Resampling\n",
        "\n",
        "We start by using only the `wavefile.write` function to conduct the resampling.\n",
        "\n",
        "1. Read in audio file we also used in *Exercise 1.0*\n",
        "2. Describe the audio in the same way as in *Exercise 1.0*\n",
        "3. Save the audio file using a sampling rate of of $44,100$ Hz by specyfing the the `rate` argument in the `write()` function. Call the file \"*naive_resampling_44100Hz.wav*\". Encode the signal as $16$-bit\n",
        "4. Repeat step 1 and 2 \"*naive_resampling_44100Hz.wav*\"\n",
        "5. Listen to \"*naive_resampling_44100Hz.wav*\" yourself. What's the problem?"
      ],
      "metadata": {
        "id": "eFe__Lg-9CzS"
      }
    },
    {
      "cell_type": "markdown",
      "source": [
        "### Exercise 2.1: Correct Resampling\n",
        "\n",
        "You probably figured the problem by listening to the audio and seeing the different durations between the original and resampled audio files. The goal of resampling is not to change the duration. The duration should fixed. What we want to change is the distance in time between each sample. Note that a sampling rate of $16,000$ Hz corresponds to a sample every $\\frac{1}{16}=0.0625 \\hspace{.1cm}\\text{ms}$ or $\\frac{1}{16000}=6.25e\\text{-}5 \\hspace{.1cm}\\text{s}$ (where $6.25 \\times 10^{-5}=0.0000625$)\n",
        "\n",
        "The trick is to scale the original signal by the ratio of the target rate and the original sampling rate. To conduct the resampling, you can use the `resample()` method from the `scipy.signal` module. Use a target rate of $44,100$ Hz\n",
        "\n",
        "1. Conduct step 1 and 2 from *Exercise 2.0*\n",
        "2. Compute the resample ratio\n",
        "3. Use `scipy.signal.resample` to resample the audio read in step 1 and assign it to an object called `resampled_signal`\n",
        "4. Write the audio to a file called \"*correct_resampling_44100Hz.wav*\". Make sure to encode the audio as $16$-bit\n",
        "5. Do step 1 for \"*correct_resampling_44100Hz.wav*\". Describe the results and compare them to your naive solution.\n",
        "6. Listen to \"*correct_resampling_44100Hz.wav*\" to verify your solution."
      ],
      "metadata": {
        "id": "DhH29Ey4A1c2"
      }
    },
    {
      "cell_type": "markdown",
      "source": [
        "## Exercise 3: Speech Waveforms\n",
        "\n",
        "So far we have seen dummy waveforms with only one or two frequencies. In reality, audio signals contain a lot frequencies. This is also true for human speech. In the next four exercises, we will plot the speech waveform of four different audio files uttered by two different speakers, a male and a female speaker. Each speaker has two audio files with one being an examplar of a more subdue speaking style (*q10*) and the other being an examplar of an activated speaking style (*q90*)\n",
        "\n",
        "The files are in the *data/audio/class09/* folder:\n",
        "- *speaker0_q10.wav*\n",
        "- *speaker0_q90.wav*\n",
        "- *speaker1_q10.wav*\n",
        "- *speaker1_q90.wav*"
      ],
      "metadata": {
        "id": "xRdL4Xc4emsd"
      }
    },
    {
      "cell_type": "markdown",
      "source": [
        "### Exercise 3.0: Reading and Normalizing Audio Files\n",
        "\n",
        "1. Read in each of the four audio files\n",
        "2. Write a function that normalizes a vector\n",
        "3. Normalize the amplitude of each audio file (*Hint*: you might get an error message when using your normalization function. Type cast the audio array as a float when you normalize to avoid the error)\n",
        "\n",
        "\n"
      ],
      "metadata": {
        "id": "v2rpRW5qf5jW"
      }
    },
    {
      "cell_type": "markdown",
      "source": [
        "### Exercise 3.1: Full Speech\n",
        "\n",
        "Plot the entire span of each speech for each audio file in a 2 by 2 grid with 2 rows and 2 columns. The first row should be *speaker0* and the second row should be *speaker1*. Give each speaker a unique color."
      ],
      "metadata": {
        "id": "BMBryNP_hYFX"
      }
    },
    {
      "cell_type": "markdown",
      "source": [
        "### Exercise 3.2: Five Seconds of Speech\n",
        "\n",
        "As you can see, it is difficult to extract any meaning from the full speech waveforms. Try to plot a subset of five seconds for each speech. I use start=$20$ and stop=$25$, but feel free to choose any other interval.\n",
        "\n",
        "Once again, plot the waveforms in a 2 by 2 grid with 2 rows and 2 columns. The first row should be *speaker0* and the second row should be *speaker1*. Give each speaker a unique color.\n",
        "\n",
        "Describe the results. Try to listen to the five seconds in each speech manually."
      ],
      "metadata": {
        "id": "10BOaTbQluA9"
      }
    },
    {
      "cell_type": "markdown",
      "source": [
        "### Exercise 3.3: 25 milliseconds (0.025 seconds)\n",
        "\n",
        "This is clearly more informative. We can go even further to see what's going on. Try to plot $25$ ms of each speech in a 2 by 2 grid with 2 rows and 2 columns. The first row should be *speaker0* and the second row should be *speaker1*. Give each speaker a unique color.\n",
        "\n",
        "I use start=$11$ and stop=$11.025$, but you can choose any interval you like."
      ],
      "metadata": {
        "id": "b82GbUWjmcVP"
      }
    },
    {
      "cell_type": "markdown",
      "source": [
        "### 4 Spectrograms\n",
        "\n",
        "Iterate the exact same procedure as in *Exercise 3* but plot the speeches as spectrograms instead of waveforms. I use the ranges:\n",
        "\n",
        "* Exercise 4.0: Full speech\n",
        "* Exercise 4.1: 5-20 seconds (15 seconds in total)\n",
        "* Exercise 4.2: 11-12.5 seconds (1.5 seconds in total)\n",
        "\n",
        "You decide if you use mel-spectrograms or the standard spectrogram. For the former, you should use the `librosa` module. For the latter, you can use `plt.specgram`."
      ],
      "metadata": {
        "id": "m-uWgeAzoPQk"
      }
    },
    {
      "cell_type": "markdown",
      "source": [
        "### Exercise 4.0: Full Speech\n",
        "\n",
        "\n"
      ],
      "metadata": {
        "id": "I6dQr5iqGkkq"
      }
    },
    {
      "cell_type": "markdown",
      "source": [
        "### Exercise 4.1: 5-20 seconds"
      ],
      "metadata": {
        "id": "9x0OmK5MGs15"
      }
    },
    {
      "cell_type": "markdown",
      "source": [
        "### Exercise 4.2: 11-12.5 seconds"
      ],
      "metadata": {
        "id": "YkklEZCvGyCX"
      }
    }
  ]
}