{
 "cells": [
  {
   "cell_type": "code",
   "execution_count": 222,
   "id": "66164785",
   "metadata": {},
   "outputs": [],
   "source": [
    "import os\n",
    "import platform\n",
    "import pyarrow.parquet\n",
    "import subprocess\n",
    "\n",
    "from tqdm import tqdm\n",
    "\n",
    "import numpy as np\n",
    "import pandas as pd"
   ]
  },
  {
   "cell_type": "code",
   "execution_count": 253,
   "id": "3fc89f39",
   "metadata": {},
   "outputs": [],
   "source": [
    "class Audio:\n",
    "    def __init__(self, sr=16000, channels=1):\n",
    "        self.sr = sr\n",
    "        self.channels = channels\n",
    "\n",
    "    def ffmpeg(self, input, output, start_time=None, duration=None, overwrite=False):\n",
    "\n",
    "        if (os.path.isfile(input) and os.path.isfile(output) and overwrite) or \\\n",
    "                (os.path.isfile(input) and not os.path.isfile(output)):\n",
    "\n",
    "            cmd = ['ffmpeg',\n",
    "                   '-y',\n",
    "                   '-i',\n",
    "                   input,\n",
    "                   '-vn',\n",
    "                   '-ar',\n",
    "                   str(self.sr),\n",
    "                   '-ac',\n",
    "                   str(self.channels),\n",
    "                   '-acodec',\n",
    "                   'pcm_s16le']\n",
    "\n",
    "            if start_time is not None:\n",
    "                cmd.extend(['-ss', str(start_time)])\n",
    "            if duration is not None:\n",
    "                cmd.extend(['-t', str(duration)])\n",
    "\n",
    "            cmd.append(output)\n",
    "\n",
    "            subprocess.call(cmd)\n",
    "\n",
    "\n",
    "def preprocess_asr(asr_data):\n",
    "    asr_data['debate_id'] = ['-'.join(x.split('-')[:-1]) for x in asr_data['speech_id']]\n",
    "    asr_data['speechnumber'] = [x.split('-')[-1] for x in asr_data['speech_id']]\n",
    "\n",
    "    asr_dataframe = asr_data[\n",
    "        ['debate_id', 'speechnumber', 'speech_id', 'segment_id', 'start', 'end', 'word', 'word_prob']]\n",
    "    asr_dataframe.reset_index(inplace=True, drop=True)\n",
    "\n",
    "    collapsed = asr_dataframe.groupby('speech_id').agg({\n",
    "        'speechnumber': 'min',\n",
    "        'start': 'min',\n",
    "        'end': 'max',\n",
    "        'word': ' '.join}).reset_index()\n",
    "\n",
    "    collapsed.rename(columns={'word': 'text'}, inplace=True)\n",
    "\n",
    "    collapsed['speechnumber'] = collapsed['speechnumber'].astype(int)\n",
    "    collapsed = collapsed.sort_values('speechnumber')\n",
    "    collapsed.reset_index(inplace=True, drop=True)\n",
    "    speechid = collapsed['speech_id'].tolist()\n",
    "    text = collapsed['text'].tolist()\n",
    "    textlength = [len(x) for x in text]\n",
    "\n",
    "    speechid = [speechid[i] for i in range(len(speechid)) if textlength[i] >= 30]\n",
    "    text = [text[i] for i in range(len(text)) if textlength[i] >= 30]\n",
    "    textlength = [textlength[i] for i in range(len(textlength)) if textlength[i] >= 30]\n",
    "\n",
    "    return collapsed, speechid, text, textlength"
   ]
  },
  {
   "cell_type": "code",
   "execution_count": 154,
   "id": "eb389c45",
   "metadata": {},
   "outputs": [
    {
     "data": {
      "text/plain": [
       "'/home/rask/Dropbox/teaching/css_fall2023'"
      ]
     },
     "execution_count": 154,
     "metadata": {},
     "output_type": "execute_result"
    }
   ],
   "source": [
    "# # # # Working Directory # # # #\n",
    "\n",
    "if platform.system() == 'Linux':\n",
    "    rootwd = '/home/rask/'\n",
    "else:\n",
    "    rootwd = 'C:/Users/au535365/'\n",
    "\n",
    "wd = os.path.join(rootwd, 'Dropbox/teaching/css_fall2023')\n",
    "    \n",
    "# Change directory\n",
    "os.chdir(wd)\n",
    "\n",
    "# Confirm that the working directory is as intended \n",
    "os.getcwd()"
   ]
  },
  {
   "cell_type": "code",
   "execution_count": 127,
   "id": "30ea6a70",
   "metadata": {},
   "outputs": [
    {
     "name": "stderr",
     "output_type": "stream",
     "text": [
      "100%|███████████████████████████████████████████| 13/13 [00:17<00:00,  1.32s/it]\n"
     ]
    }
   ],
   "source": [
    "# Generate file ids\n",
    "files = ['20001', \n",
    "         '20011',\n",
    "         '20012',\n",
    "         '20021',\n",
    "         '20031',\n",
    "         '20041',\n",
    "         '20042',\n",
    "         '20051',\n",
    "         '20061',\n",
    "         '20071',\n",
    "         '20072',\n",
    "         '20081',\n",
    "         '20091']\n",
    "\n",
    "# Specify base url\n",
    "base_url = 'https://raw.githubusercontent.com/mraskj/css_fall2023/master/data/ft-speeches/'\n",
    "\n",
    "# Read in data. Solution here:\n",
    "df = pd.DataFrame()\n",
    "for file in tqdm(files):\n",
    "    df_term = pd.read_csv(base_url + file + '.csv')\n",
    "    if len(df_term) > 10000:\n",
    "        df = pd.concat([df, df_term])\n",
    "df.reset_index(drop=True, inplace=True)"
   ]
  },
  {
   "cell_type": "code",
   "execution_count": 128,
   "id": "59b16826",
   "metadata": {},
   "outputs": [],
   "source": [
    "df['n_words'] = df.text.apply(lambda x: len(x))\n",
    "p25, p75 = np.quantile(df['n_words'], q=.25), np.quantile(df['n_words'], q=.75)\n",
    "df = df.loc[(df['n_words'] <= p75) & (df['n_words'] >= p25)]"
   ]
  },
  {
   "cell_type": "code",
   "execution_count": 133,
   "id": "38a6fbda",
   "metadata": {},
   "outputs": [],
   "source": [
    "df = df.loc[df['period'] == 20091].reset_index(drop=True)"
   ]
  },
  {
   "cell_type": "code",
   "execution_count": 134,
   "id": "5199170a",
   "metadata": {},
   "outputs": [],
   "source": [
    "speaker_df = df.groupby('sppid')['spitch'].describe().reset_index()\n",
    "speakers = speaker_df.loc[speaker_df.sppid.isin(['Özlem Sara Cekic_SF', 'Claus Hjort Frederiksen_V'])]"
   ]
  },
  {
   "cell_type": "code",
   "execution_count": 224,
   "id": "f8aecb88",
   "metadata": {},
   "outputs": [],
   "source": [
    "speaker0_df = df.loc[(df['sppid']==speakers.iloc[0].sppid)].reset_index(drop=True)\n",
    "q10_ix = np.argmin(abs(speaker0_df.loc[:, 'spitch'] - speaker0_df.loc[:, 'spitch'].quantile(0.10)))\n",
    "q90_ix = np.argmin(abs(speaker0_df.loc[:, 'spitch'] - speaker0_df.loc[:, 'spitch'].quantile(0.90)))\n",
    "\n",
    "speaker0_speechq10 = speaker0_df.iloc[q10_ix]\n",
    "speaker0_speechq90 = speaker0_df.iloc[q90_ix]\n",
    "\n",
    "speaker1_df = df.loc[(df['sppid']==speakers.iloc[1].sppid)].reset_index(drop=True)\n",
    "q10_ix = np.argmin(abs(speaker1_df.loc[:, 'spitch'] - speaker1_df.loc[:, 'spitch'].quantile(0.10)))\n",
    "q90_ix = np.argmin(abs(speaker1_df.loc[:, 'spitch'] - speaker1_df.loc[:, 'spitch'].quantile(0.90)))\n",
    "\n",
    "speaker1_speechq10 = speaker1_df.iloc[q10_ix]\n",
    "speaker1_speechq90 = speaker1_df.iloc[q90_ix]"
   ]
  },
  {
   "cell_type": "code",
   "execution_count": 235,
   "id": "16b71789",
   "metadata": {},
   "outputs": [],
   "source": [
    "debate_id_speaker0_speechq10 = '-'.join(speaker0_speechq10.speech_id.split('-')[:-1])\n",
    "debate_id_speaker0_speechq90 = '-'.join(speaker0_speechq90.speech_id.split('-')[:-1])\n",
    "\n",
    "debate_id_speaker1_speechq10 = '-'.join(speaker1_speechq10.speech_id.split('-')[:-1])\n",
    "debate_id_speaker1_speechq90 = '-'.join(speaker1_speechq90.speech_id.split('-')[:-1])\n",
    "\n",
    "speech_id_speaker0_speechq10 = speaker0_speechq10.speech_id\n",
    "speech_id_speaker0_speechq90 = speaker0_speechq90.speech_id\n",
    "\n",
    "speech_id_speaker1_speechq10 = speaker1_speechq10.speech_id\n",
    "speech_id_speaker1_speechq90 = speaker1_speechq90.speech_id"
   ]
  },
  {
   "cell_type": "code",
   "execution_count": 246,
   "id": "8bb14348",
   "metadata": {},
   "outputs": [],
   "source": [
    "speaker_list = ['speaker0', 'speaker0', 'speaker1', 'speaker1']\n",
    "debate_id_list = [debate_id_speaker0_speechq10, \n",
    "                  debate_id_speaker0_speechq90, \n",
    "                  debate_id_speaker1_speechq10,\n",
    "                  debate_id_speaker1_speechq90]\n",
    "\n",
    "speech_id_list = [speech_id_speaker0_speechq10,\n",
    "                  speech_id_speaker0_speechq90,\n",
    "                  speech_id_speaker1_speechq10,\n",
    "                  speech_id_speaker1_speechq90]\n",
    "\n",
    "quantile_list = ['q10', 'q90', 'q10', 'q90']"
   ]
  },
  {
   "cell_type": "code",
   "execution_count": 264,
   "id": "23c12779",
   "metadata": {},
   "outputs": [],
   "source": [
    "speech_df = pd.DataFrame({'speaker': speaker_list, \n",
    "                          'debate_id': debate_id_list,\n",
    "                          'speech_id': speech_id_list,\n",
    "                          'qs': quantile_list})"
   ]
  },
  {
   "cell_type": "code",
   "execution_count": 265,
   "id": "47928622",
   "metadata": {},
   "outputs": [],
   "source": [
    "# Initiate audio class\n",
    "audio_processor = Audio()\n",
    "\n",
    "for i in range(len(speech_df)):\n",
    "    \n",
    "    debate_id = speech_df.iloc[i].debate_id\n",
    "    speech_id = speech_df.iloc[i].speech_id\n",
    "    speaker = speech_df.iloc[i].speaker\n",
    "    q = speech_df.iloc[i].qs\n",
    "    \n",
    "    asr = pyarrow.parquet.read_table(f'/media/rask/DK/DK/{debate_id}/speeches.parquet')\n",
    "    asr_df = asr.to_pandas()\n",
    "    asr_df['speech_id'] = [str(x) + '-' + str(y) for x, y in zip(asr_df.debate_id, asr_df.speechnumber)]\n",
    "    start, end = asr_df.loc[asr_df['speech_id'] == f'{speech_id}'][['start', 'end']].values[0]\n",
    "    duration = np.round(end-start, 4)\n",
    "    infile = f'/media/rask/DK/DK/{debate_id}/{debate_id}.wav'\n",
    "    segment_fpath = 'data/audio/' + f'{speaker}' + '_' + str(q) + '.wav'\n",
    "    audio_processor.ffmpeg(infile, segment_fpath, start, duration)"
   ]
  },
  {
   "cell_type": "code",
   "execution_count": 163,
   "id": "19d3f1a0",
   "metadata": {},
   "outputs": [],
   "source": []
  }
 ],
 "metadata": {
  "kernelspec": {
   "display_name": "Python 3 (ipykernel)",
   "language": "python",
   "name": "python3"
  },
  "language_info": {
   "codemirror_mode": {
    "name": "ipython",
    "version": 3
   },
   "file_extension": ".py",
   "mimetype": "text/x-python",
   "name": "python",
   "nbconvert_exporter": "python",
   "pygments_lexer": "ipython3",
   "version": "3.8.18"
  }
 },
 "nbformat": 4,
 "nbformat_minor": 5
}
