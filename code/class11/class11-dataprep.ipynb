{
 "cells": [
  {
   "cell_type": "code",
   "execution_count": 1,
   "id": "0b080d01",
   "metadata": {},
   "outputs": [
    {
     "data": {
      "text/plain": [
       "'C:\\\\Users\\\\au535365\\\\Dropbox\\\\teaching\\\\css_fall2023'"
      ]
     },
     "execution_count": 1,
     "metadata": {},
     "output_type": "execute_result"
    }
   ],
   "source": [
    "import os\n",
    "import platform\n",
    "# # # # Working Directory # # # #\n",
    "\n",
    "if platform.system() == 'Linux':\n",
    "    wd = '/home/rask/'\n",
    "else:\n",
    "    wd = 'C:/Users/au535365/'\n",
    "\n",
    "wd = os.path.join(wd, 'Dropbox/teaching/css_fall2023')\n",
    "    \n",
    "# Change directory\n",
    "os.chdir(wd)\n",
    "\n",
    "# Confirm that the working directory is as intended \n",
    "os.getcwd()"
   ]
  },
  {
   "cell_type": "code",
   "execution_count": 4,
   "id": "0e7d1f51",
   "metadata": {},
   "outputs": [],
   "source": [
    "with open('data/audio/class11/57-17-manual.rttm') as f:\n",
    "    lines = f.read()\n",
    "    lines = lines.split('\\n')\n",
    "    lines = lines[:-1]\n",
    "    lines = [x.split() for x in lines]\n",
    "    \n",
    "    for ix, line in enumerate(lines):\n",
    "        lines[ix][4] = str(round(float(line[4]) - float(line[3]), 1))\n",
    "    lines = lines[:-1]"
   ]
  },
  {
   "cell_type": "code",
   "execution_count": 8,
   "id": "11768a08",
   "metadata": {},
   "outputs": [],
   "source": [
    "cleaned_lines = [' '.join(x) for x in lines]\n",
    "with open('data/audio/class11/57-17-groundtruth-withspeaker.rttm', 'w') as f:\n",
    "    for line in cleaned_lines:\n",
    "        f.write(line)\n",
    "        f.write('\\n')"
   ]
  },
  {
   "cell_type": "code",
   "execution_count": 9,
   "id": "f525e0b0",
   "metadata": {},
   "outputs": [],
   "source": [
    "cleaned_lines = lines[:]\n",
    "for ix, line in enumerate(cleaned_lines):\n",
    "    cleaned_lines[ix][7] = 'SPEAKER00'\n",
    "cleaned_lines = [' '.join(x) for x in cleaned_lines]\n",
    "\n",
    "with open('data/audio/class11/57-17-groundtruth-withoutspeaker.rttm', 'w') as f:\n",
    "    for line in cleaned_lines:\n",
    "        f.write(line)\n",
    "        f.write('\\n')"
   ]
  }
 ],
 "metadata": {
  "kernelspec": {
   "display_name": "Python 3 (ipykernel)",
   "language": "python",
   "name": "python3"
  },
  "language_info": {
   "codemirror_mode": {
    "name": "ipython",
    "version": 3
   },
   "file_extension": ".py",
   "mimetype": "text/x-python",
   "name": "python",
   "nbconvert_exporter": "python",
   "pygments_lexer": "ipython3",
   "version": "3.10.13"
  }
 },
 "nbformat": 4,
 "nbformat_minor": 5
}
