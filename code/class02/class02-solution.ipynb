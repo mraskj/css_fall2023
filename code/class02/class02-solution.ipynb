{
 "cells": [
  {
   "cell_type": "markdown",
   "id": "93f4ed08-7e9d-4549-8328-9431e6e9879d",
   "metadata": {},
   "source": [
    "# Class 2: Solution"
   ]
  },
  {
   "cell_type": "markdown",
   "id": "54a18826-895f-48fb-b7bb-6db5a3d3ea0e",
   "metadata": {},
   "source": [
    "## Data\n",
    "\n",
    "In this exercise, we will work with data from Kayser et al. (2023) and the article \"Coalition inclusion probabilities: a party-strategic measure for predicting policy and politics''. \n",
    "\n",
    "The paper develops a method to estimate coalition inclusion probabilities (CIPs). The idea is to predict the possibility of every possible coalition that could be at each time point *t* in a range of countries. The probabilities take public opinion, polls, and bargaining leverage into account. To arrive at a party's probability of entering government, the different coalition combinations can then be summarized by party."
   ]
  },
  {
   "cell_type": "markdown",
   "id": "1cf1473d-0412-4d3a-9aa9-b745e1b1c397",
   "metadata": {},
   "source": [
    "## Question 1: Working with Pandas Dataframes"
   ]
  },
  {
   "cell_type": "markdown",
   "id": "542cdb1a-4304-49ed-9ed8-8480f080f28f",
   "metadata": {},
   "source": [
    "#### Exercise 1.0: Importing Pandas "
   ]
  },
  {
   "cell_type": "code",
   "execution_count": null,
   "id": "94303781-cdfd-44e9-bc2b-ad74a3ab6f2b",
   "metadata": {},
   "outputs": [],
   "source": [
    "# Start by importing pandas as pd"
   ]
  },
  {
   "cell_type": "markdown",
   "id": "c6b135f5-fb0c-43c3-a41d-720656c34b79",
   "metadata": {},
   "source": [
    "#### Solution 1.0"
   ]
  },
  {
   "cell_type": "code",
   "execution_count": null,
   "id": "3b4f5c62-6967-4086-bfed-2c501d787636",
   "metadata": {},
   "outputs": [],
   "source": [
    "import pandas as pd"
   ]
  },
  {
   "cell_type": "markdown",
   "id": "c7c62e54-c112-4a41-a68f-42241d1a236c",
   "metadata": {},
   "source": [
    "#### Exercise 1.1: Reading data\n",
    "\n",
    "Read in the dataset called `CIP_static_Denmark.csv`. \n",
    "\n",
    "*Hint:* Make sure to specify the correct filepath and the correct delimiter (done using the `sep` parameter). You can use the `os` module to specify your working directory to be able to use relative paths."
   ]
  },
  {
   "cell_type": "markdown",
   "id": "26037739-37d4-4c92-b206-d2abf808b11d",
   "metadata": {},
   "source": [
    "#### Solution 1.1"
   ]
  },
  {
   "cell_type": "code",
   "execution_count": null,
   "id": "de5a567d",
   "metadata": {},
   "outputs": [],
   "source": [
    "# Import os here and change working directory so that you can load in the data using a relative path\n",
    "import os\n",
    "os.chdir('C:/Users/au535365/Dropbox/teaching/css_fall2023')"
   ]
  },
  {
   "cell_type": "code",
   "execution_count": null,
   "id": "df1af954-7a0c-4d52-8e19-a55dabc90e6f",
   "metadata": {},
   "outputs": [],
   "source": [
    "fpath = 'data/CIP_static_Denmark.csv'\n",
    "df = pd.read_csv(fpath, sep=';')"
   ]
  },
  {
   "cell_type": "markdown",
   "id": "97678148-c6ab-4f88-b554-a40eddcb98ea",
   "metadata": {},
   "source": [
    "#### Exercise 1.2: Inspecting the data\n",
    "\n",
    "- Inspect the top rows of the dataframe\n",
    "- Get info about the dataframe"
   ]
  },
  {
   "cell_type": "markdown",
   "id": "90a1b8f6-5ae8-416c-a863-2a836e370e71",
   "metadata": {},
   "source": [
    "#### Solution 1.2"
   ]
  },
  {
   "cell_type": "code",
   "execution_count": null,
   "id": "e444c233-576c-47ac-8f96-e14b076a57c9",
   "metadata": {},
   "outputs": [],
   "source": [
    "# Print top row rows\n",
    "df.head()"
   ]
  },
  {
   "cell_type": "code",
   "execution_count": null,
   "id": "20d8c6bc-2a67-42e5-b4eb-34805ad1358d",
   "metadata": {},
   "outputs": [],
   "source": [
    "# Get info on the type of columns, the shape and so on\n",
    "df.info()"
   ]
  },
  {
   "cell_type": "markdown",
   "id": "873a75b8-5edf-4518-b124-c4902db74ebe",
   "metadata": {},
   "source": [
    "#### Exercise 1.3\n",
    "We only want to keep CIPs from 1997 and onwards. Filter away any rows before 1997. \n",
    "\n",
    "*Hint:* Pay attention to the type of column. "
   ]
  },
  {
   "cell_type": "markdown",
   "id": "9082d6a0-32d7-436f-bde6-afbe17a56b18",
   "metadata": {},
   "source": [
    "#### Solution 1.3"
   ]
  },
  {
   "cell_type": "code",
   "execution_count": null,
   "id": "af62730c-d3c5-45e8-9b5a-ea8667f36b9f",
   "metadata": {},
   "outputs": [],
   "source": [
    "df = df.loc[df['year'] >= 1997]"
   ]
  },
  {
   "cell_type": "markdown",
   "id": "cffe4048-e695-4d68-a8c2-89a5fc91be0c",
   "metadata": {},
   "source": [
    "#### Exercise 1.4\n",
    "\n",
    "We only want to keep a subset of parties. This can be done using the `party_abbrv` column. \n",
    "\n",
    "Keep only parties abbreviated as A, DF, En-O, KF, NLA, NB, RV, Sd, SF, and V. \n",
    "\n",
    "Remember to reset indices.\n",
    "\n",
    "*Hint:* Store the abbreviations in a list. Remember to enclose each element as a string. Using A results in NameError, but 'A' is accepted."
   ]
  },
  {
   "cell_type": "markdown",
   "id": "2c9e16a5-5567-4338-926a-88b8a2ded3ca",
   "metadata": {},
   "source": [
    "#### Solution 1.4"
   ]
  },
  {
   "cell_type": "code",
   "execution_count": null,
   "id": "6463bc47-f8e3-47ae-bc6b-725c565ad890",
   "metadata": {},
   "outputs": [],
   "source": [
    "parties = ['A', 'DF', 'En-O', 'KF', 'NLA', 'NB', 'RV', 'Sd', 'SF', 'V']"
   ]
  },
  {
   "cell_type": "code",
   "execution_count": null,
   "id": "e95a5d18-c7dc-44c6-ac6e-97776b3206b8",
   "metadata": {},
   "outputs": [],
   "source": [
    "df = df.loc[df['party_abbr'].isin(parties)].reset_index(drop=True)"
   ]
  },
  {
   "cell_type": "markdown",
   "id": "18b39e8a-ed39-44b2-be8c-9de918525871",
   "metadata": {},
   "source": [
    "#### Exercise 1.5\n",
    "\n",
    "We are not happy with the current naming of the abbreviations. Below, you find a dictionary that creates the desired replacements.\n",
    "\n",
    "*Hint*: The `.apply()` method does not work here. We need to use the `.map()` method. Give the replacement dictionary as input to `.map()`."
   ]
  },
  {
   "cell_type": "code",
   "execution_count": null,
   "id": "35e25e1c-5eac-4bed-9201-504dca725dd1",
   "metadata": {},
   "outputs": [],
   "source": [
    "replacement_dict = {\"A\": \"ALT\",\n",
    "                    \"DF\": \"DF\",\n",
    "                    \"En-O\": \"EL\",\n",
    "                    \"KF\": \"KF\",\n",
    "                    \"NLA\": \"LA\",\n",
    "                    \"NB\": \"NB\",\n",
    "                    \"RV\": \"RV\",\n",
    "                    \"Sd\": \"S\",\n",
    "                    \"SF\": \"SF\",\n",
    "                    \"V\": \"V\"}"
   ]
  },
  {
   "cell_type": "markdown",
   "id": "fe74b89a-e602-4f2b-83ba-15fc6785333c",
   "metadata": {},
   "source": [
    "#### Solution 1.5"
   ]
  },
  {
   "cell_type": "code",
   "execution_count": null,
   "id": "a2eacd0d-abee-4fb5-beb1-ffe92f26887f",
   "metadata": {},
   "outputs": [],
   "source": [
    "# Write solution here:\n",
    "df['party_abbr'] = df['party_abbr'].map(replacement_dict)"
   ]
  },
  {
   "cell_type": "markdown",
   "id": "248129b7-beef-4008-b2eb-411fed66c9fc",
   "metadata": {},
   "source": [
    "#### Exercise 1.6\n",
    "Now we are happy with the current state of the data. Now we want to compute simple descriptive statistics to get to know our data even better.\n",
    "\n",
    "However, when doing it we encounter problems. We realize that `pr_ingov_mean`, the main variable of interest, is encoded as a string.\n",
    "\n",
    "Before we ahead, lets see what's happening:\n",
    "\n",
    "- Compute the mean of the `pr_ingov_mean` column (this is CIP for party $i$ and time $t$)\n",
    "\n",
    "\n",
    "*Hint*: If you encounter problems, it is likely because `pr_ingov_mean` is not a numerical value. "
   ]
  },
  {
   "cell_type": "markdown",
   "id": "2e60f6ef-a41a-4efd-902d-2e777a6291fa",
   "metadata": {},
   "source": [
    "The problem is that the `pr_ingov_mean`, which is supposed to be numerical, is a string. This is not itself a problem, but the problem is that the numerical string contains ','. For instance, writing `float('1')` is perfectly fine, but `float('1,1')` is not. Try it yourself.\n",
    "\n",
    "To solve this, we need to replace the ',' in the numerical string. We replace it with a dot '.'\n",
    "\n",
    "*Hint*: Use `.apply()` combined with a lambda function using a `.replace()` method. "
   ]
  },
  {
   "cell_type": "markdown",
   "id": "43e16b92-f4aa-4cb7-b42e-656ce3b8e6f0",
   "metadata": {},
   "source": [
    "#### Solution 1.6"
   ]
  },
  {
   "cell_type": "code",
   "execution_count": null,
   "id": "a3bfb1c6",
   "metadata": {},
   "outputs": [],
   "source": [
    "# Compute mean of pr_ingov_mean - you should get an error message\n",
    "df['pr_ingov_mean'].mean()"
   ]
  },
  {
   "cell_type": "code",
   "execution_count": null,
   "id": "95e4bcb8-0eb6-47f6-a616-08cc7aab9a7c",
   "metadata": {},
   "outputs": [],
   "source": [
    "# Use .apply() and a lambda function to replace , with . in the string\n",
    "df['pr_ingov_mean'] = df['pr_ingov_mean'].apply(lambda x: x.replace(',', '.'))"
   ]
  },
  {
   "cell_type": "markdown",
   "id": "ba4e113d-14cf-4203-953f-0be7d2089a5c",
   "metadata": {},
   "source": [
    "#### Exercise 1.7\n",
    "\n",
    "Now that you have replace `,` with `.`, we want to convert the string to a numerical object. This can be done using type casting. Since we have no NaNs, it is straightforward. \n",
    "\n",
    "*Hint*: Use the `.astype()` where you specify the type of object you want to type cast. In this case, it is a float. Remember to overwrite the original column in the dataframe."
   ]
  },
  {
   "cell_type": "markdown",
   "id": "f6dbdb31-603e-4f78-b818-6dacea0a860b",
   "metadata": {},
   "source": [
    "#### Solution 1.7"
   ]
  },
  {
   "cell_type": "code",
   "execution_count": null,
   "id": "ef5c5765-af6b-473a-9fe8-36f1d29d221c",
   "metadata": {},
   "outputs": [],
   "source": [
    "# Use type casting to convert string to a float object\n",
    "df['pr_ingov_mean'] = df['pr_ingov_mean'].astype(float)"
   ]
  },
  {
   "cell_type": "markdown",
   "id": "204d9406-90db-40d8-9784-c7f6285fb4ae",
   "metadata": {},
   "source": [
    "#### Exercise 1.8\n",
    "Finally - we are ready to compute some descriptive statistics.\n",
    "\n",
    "Compute the:\n",
    "- mean\n",
    "- median\n",
    "- standard deviation\n",
    "\n",
    "of the `pr_ingov_mean` column. \n",
    "\n",
    "*Hint:* Use the `.describe()` method to get all stats at once."
   ]
  },
  {
   "cell_type": "markdown",
   "id": "8c6ca0fa-82ec-44a1-90a7-af8a208886b7",
   "metadata": {},
   "source": [
    "#### Solution 1.8"
   ]
  },
  {
   "cell_type": "code",
   "execution_count": null,
   "id": "9e6b115d-f07c-4b8c-8364-61b94c09469f",
   "metadata": {},
   "outputs": [],
   "source": [
    "# Compute descriptive statistics on the pr_ingov_mean column \n",
    "df['pr_ingov_mean'].describe()"
   ]
  },
  {
   "cell_type": "markdown",
   "id": "5a8968a4-d408-4fa1-93da-d6f7df8c4811",
   "metadata": {
    "jp-MarkdownHeadingCollapsed": true
   },
   "source": [
    "#### Exercise 1.9\n",
    "We now want to decompose the CIPs by party and year. We are still interested in `pr_ingov_mean`\n",
    "\n",
    "How do you achieve that?\n",
    "\n",
    "*Hint:* To flatten the indices of the resulting dataframe, you the `.reset_index()` method. "
   ]
  },
  {
   "cell_type": "markdown",
   "id": "633ba7dd-b16a-404e-80f3-2427666154fc",
   "metadata": {},
   "source": [
    "#### Solution 1.9"
   ]
  },
  {
   "cell_type": "code",
   "execution_count": null,
   "id": "6723e9f1-f052-4ed0-8703-879abf85a208",
   "metadata": {},
   "outputs": [],
   "source": [
    "# Your solution here:\n",
    "grouped_df = df.groupby(['party_abbr','year'])['pr_ingov_mean'].describe().reset_index()"
   ]
  },
  {
   "cell_type": "markdown",
   "id": "0c64d805-83d1-4f37-97a9-a0e425eae27d",
   "metadata": {},
   "source": [
    "#### Exercise 1.10\n",
    "We want to plot the results of the `grouped_df` for each party over time. Make a plot using the code provided in the `class2-tutorial` notebook."
   ]
  },
  {
   "cell_type": "code",
   "execution_count": null,
   "id": "73d2cd91-f221-4d10-9912-885c2a34e03f",
   "metadata": {},
   "outputs": [],
   "source": [
    "import seaborn as sns\n",
    "import matplotlib.pyplot as plt\n",
    "sns.set_theme()"
   ]
  },
  {
   "cell_type": "markdown",
   "id": "1c3ba54e-2cc1-4c10-b9d4-9ddaa2a8d910",
   "metadata": {},
   "source": [
    "#### Solution 1.10"
   ]
  },
  {
   "cell_type": "code",
   "execution_count": null,
   "id": "cc2154f0-f976-4a78-aadd-b620dc0b64ec",
   "metadata": {
    "scrolled": true
   },
   "outputs": [],
   "source": [
    "# Make the plot here\n",
    "fig, ax = plt.subplots()\n",
    "for k, v in grouped_df.groupby('party_abbr'):\n",
    "    v.plot(x='year', y='mean', label=k, ax=ax, marker='o', markersize=3)\n",
    "plt.xlabel('Year', fontsize=10)\n",
    "plt.ylabel('Mean CIP', fontsize=10)\n",
    "plt.xticks(size=10)\n",
    "plt.yticks(size=10)\n",
    "plt.legend(frameon=False, fontsize=8, loc='upper right', ncol=3, bbox_to_anchor=(1.02, 1.0))\n",
    "plt.show()"
   ]
  },
  {
   "cell_type": "markdown",
   "id": "4b43cb33-8510-4469-be61-01f8cd4c7ae0",
   "metadata": {},
   "source": [
    "## Question 2: NumPy Arrays\n",
    "\n",
    "We now turn to NumPy arrays. We continue working with the CIPs. "
   ]
  },
  {
   "cell_type": "markdown",
   "id": "67ee2427-c42c-4948-8af6-267f89fe7d86",
   "metadata": {},
   "source": [
    "#### Exercise 2.1\n",
    "Start by importing NumPy"
   ]
  },
  {
   "cell_type": "markdown",
   "id": "bbf209e8-0689-413c-8eec-06edd02f4dd3",
   "metadata": {},
   "source": [
    "#### Solution 2.1"
   ]
  },
  {
   "cell_type": "code",
   "execution_count": null,
   "id": "8954797f-3fa5-4637-84c1-92d8629aadab",
   "metadata": {},
   "outputs": [],
   "source": [
    "# Import numpy as np here\n",
    "import numpy as np"
   ]
  },
  {
   "cell_type": "markdown",
   "id": "3f9f7ecd-fe93-4ccd-8c38-13f3e9d7965d",
   "metadata": {},
   "source": [
    "#### Exercise 2.2\n",
    "The first thing we do is to convert a pandas column to a NumPy array to have some data to work with.\n",
    "\n",
    "Continue to use the dataframe `grouped_df`. Make two arrays, one called `features` and another called `labels`. \n",
    "\n",
    "The first array, `features`, should be an array of the `mean` column in the dataframe used to make the plot. \n",
    "\n",
    "The second array, `labels`, should be an array of the `party_abbr` column in the dataframe used to make the plot.\n",
    "\n",
    "*Hint:* We can do this using the `.to_numpy()` method. Alternatively, you can simply use `np.array()`"
   ]
  },
  {
   "cell_type": "markdown",
   "id": "bbb2a07e-6ad2-43eb-a9e7-14eda7d185ba",
   "metadata": {},
   "source": [
    "#### Solution 2.2"
   ]
  },
  {
   "cell_type": "code",
   "execution_count": null,
   "id": "7262e9d9-b823-4683-b148-4289db96bfe2",
   "metadata": {},
   "outputs": [],
   "source": [
    "# One solution\n",
    "features = grouped_df['mean'].to_numpy()\n",
    "labels = grouped_df['party_abbr'].to_numpy()"
   ]
  },
  {
   "cell_type": "code",
   "execution_count": null,
   "id": "a8d3ba34-4117-4d8a-96e7-da7a4b5324c6",
   "metadata": {},
   "outputs": [],
   "source": [
    "# Another solution\n",
    "features = np.array(grouped_df['mean'])\n",
    "labels = np.array(grouped_df['party_abbr'])"
   ]
  },
  {
   "cell_type": "markdown",
   "id": "32645a2d-a34c-4530-a260-bfffb47099a7",
   "metadata": {},
   "source": [
    "#### Exercise 2.3\n",
    "\n",
    "Compute the shape of the two arrays, `features` and `labels`. What are their dimensions?"
   ]
  },
  {
   "cell_type": "markdown",
   "id": "8e6dfb66-7a05-4e5c-9da1-3d854327bf0c",
   "metadata": {},
   "source": [
    "#### Solution 2.3"
   ]
  },
  {
   "cell_type": "code",
   "execution_count": null,
   "id": "8e0bf74c-b570-43e6-beff-dd7d3f64b22d",
   "metadata": {},
   "outputs": [],
   "source": [
    "# Compute shape\n",
    "features.shape, labels.shape"
   ]
  },
  {
   "cell_type": "markdown",
   "id": "46697ed7-f9bb-4afe-b749-d8f5d0c715e0",
   "metadata": {},
   "source": [
    "#### Exercise 2.4\n",
    "We only want to work with the grand old parties. \n",
    "* 1) Filter the arrays based on the list `parties` given below. \n",
    "* 2) When this is done, recompute the shape of the filtered array. \n",
    "* 3) Make sure that the parties appear the same amount of time. You can test this using using the `np.unique(X, return_counts=True)` where `X` should be replaced with your array.\n",
    "\n",
    "*Hint:* Use the `np.isin()` function. The syntax is `np.isin(element, test_elements)` where `element` should the be array and `test_elements` should be the list given below. The function returns an array with boolean values, which can be thought of as a mask. Use this to filter the arrays. Remember to filter both `features` and `labels`."
   ]
  },
  {
   "cell_type": "code",
   "execution_count": null,
   "id": "82732e1d-7bc4-4100-8fac-5a62d0d532a7",
   "metadata": {},
   "outputs": [],
   "source": [
    "parties = ['KF', 'S', 'V', 'RV', 'SF']"
   ]
  },
  {
   "cell_type": "markdown",
   "id": "bb02f054-23ee-40bf-ab59-aa44d234f9e0",
   "metadata": {},
   "source": [
    "#### Solution 2.4"
   ]
  },
  {
   "cell_type": "code",
   "execution_count": null,
   "id": "ee736e1d-2456-4cfe-bb8d-b0ebcafa0419",
   "metadata": {},
   "outputs": [],
   "source": [
    "# Generate mask\n",
    "mask = np.isin(labels, parties)"
   ]
  },
  {
   "cell_type": "code",
   "execution_count": null,
   "id": "6097d00a-65de-4365-87e2-4e6d7dbf08c3",
   "metadata": {},
   "outputs": [],
   "source": [
    "# Filter\n",
    "features = features[mask]\n",
    "labels = labels[mask]"
   ]
  },
  {
   "cell_type": "code",
   "execution_count": null,
   "id": "458f2bc3-b48e-46ad-b880-9a06d0b15cb1",
   "metadata": {},
   "outputs": [],
   "source": [
    "# Recompute shape\n",
    "features.shape, labels.shape"
   ]
  },
  {
   "cell_type": "code",
   "execution_count": null,
   "id": "0dfcf1ba-a501-4481-8977-6b649e193331",
   "metadata": {},
   "outputs": [],
   "source": [
    "# Use np.unique\n",
    "np.unique(labels, return_counts=True)[1]"
   ]
  },
  {
   "cell_type": "markdown",
   "id": "248634d4-0ded-4ba0-8a62-3fa0c9c8abf5",
   "metadata": {},
   "source": [
    "#### Exercise 2.5\n",
    "\n",
    "Now that all parties appear an equal amount of time, we are able to reshape the data. \n",
    "\n",
    "We want to reshape the array such that each row corresponds to a party and each column is an yearly observation. \n",
    "\n",
    "What should the resulting dimension be?\n",
    "\n",
    "Save it in objects called `features_reshaped` and `labels_reshaped`."
   ]
  },
  {
   "cell_type": "markdown",
   "id": "3f724d88-ef90-4926-b3a0-17127547a0db",
   "metadata": {},
   "source": [
    "#### Solution 2.5"
   ]
  },
  {
   "cell_type": "code",
   "execution_count": null,
   "id": "e35528f1-b9ac-401e-9393-1ef56e40da33",
   "metadata": {},
   "outputs": [],
   "source": [
    "# Reshape arrays: Input the correct dimensions in the parentheses\n",
    "\n",
    "# One solution\n",
    "features_reshaped = features.reshape(5, -1)\n",
    "labels_reshaped = labels.reshape(5, -1)\n",
    "\n",
    "# Alternative solution\n",
    "features_reshaped = features.reshape(5, 10)\n",
    "labels_reshaped = labels.reshape(5, 10)"
   ]
  },
  {
   "cell_type": "markdown",
   "id": "c6e4a527-6baa-45c1-bf8c-65cd7afe36d4",
   "metadata": {},
   "source": [
    "#### Exercise 2.6\n",
    "\n",
    "Check the dimensions of the arrays now. Are they as intended?"
   ]
  },
  {
   "cell_type": "markdown",
   "id": "db103941-265b-412f-aed1-53b977b6440b",
   "metadata": {},
   "source": [
    "#### Solution 2.6"
   ]
  },
  {
   "cell_type": "code",
   "execution_count": null,
   "id": "5b620ad2-f2f6-446e-b802-396242a23715",
   "metadata": {},
   "outputs": [],
   "source": [
    "features_reshaped.shape, labels_reshaped.shape"
   ]
  },
  {
   "cell_type": "markdown",
   "id": "7d379fbd-3514-44a4-8402-950ee869fcc8",
   "metadata": {},
   "source": [
    "#### Exercise 2.7\n",
    "\n",
    "We want to figure out each party's highest CIP at any point in time. \n",
    "\n",
    "Do this using the `np.max()` function. Pay attention to the dimension of the output. Is it as intended? What's the problem?"
   ]
  },
  {
   "cell_type": "markdown",
   "id": "fdaee813-e339-4ea4-a113-3d1d568a44b2",
   "metadata": {},
   "source": [
    "#### Solution 2.7"
   ]
  },
  {
   "cell_type": "code",
   "execution_count": null,
   "id": "1428fee3-617e-4037-9f47-15ef8fd83b90",
   "metadata": {},
   "outputs": [],
   "source": [
    "# Compute the maximum CIP for each party using np.max()\n",
    "np.max(features_reshaped)"
   ]
  },
  {
   "cell_type": "markdown",
   "id": "e3e0b453-0d82-4878-91c7-112aa9855139",
   "metadata": {},
   "source": [
    "#### Exercise 2.8\n",
    "\n",
    "The `np.max()` works, but we do not get a value for each party. Instead, it is the pooled average whereas our intended dimension is (5,), one observation for each party. This happens since we need to tell the function whether we want to compute the row or column-wise mean. If nothing is specified, it returns the pooled average. \n",
    "\n",
    "We can control whether we get a pooled, row- or column-wise mean using the `axis` argument, which must be either $0$ or $1$. If nothing is specified, we get the pooled average. Try computing the maximum value using first $0$ and then $1$. Which one is the correct version when we want to get each party's highest probability? Save the two results in objects called `max_axis0` and `max_axis1`, respectively. "
   ]
  },
  {
   "cell_type": "markdown",
   "id": "d165cc49-b8bd-4c0d-9657-7d02438dc0c0",
   "metadata": {},
   "source": [
    "#### Solution 2.8"
   ]
  },
  {
   "cell_type": "code",
   "execution_count": null,
   "id": "b9895a59-b004-407b-89b6-3d6ff3e93be1",
   "metadata": {},
   "outputs": [],
   "source": [
    "# Axis 0\n",
    "max_axis0 = np.max(features_reshaped, axis=0)"
   ]
  },
  {
   "cell_type": "code",
   "execution_count": null,
   "id": "669cb9f5-7c50-47fe-8fc8-4c1ea7af099e",
   "metadata": {},
   "outputs": [],
   "source": [
    "# Axis 1\n",
    "max_axis1 = np.max(features_reshaped, axis=1)"
   ]
  },
  {
   "cell_type": "markdown",
   "id": "898792f7-7b63-45a9-b12e-ff5d4b3b6628",
   "metadata": {},
   "source": [
    "#### Exercise 2.9\n",
    "\n",
    "We can see from the output that the highest probability is the last index ([4] or [-1]). \n",
    "\n",
    "We want to figure out which party this corresponds to. Of course we can do this manually, but often we want an automated solution.\n",
    "\n",
    "To do this, we can use the `np.argmax()` function on the `max_axis1` object to return the index of the highest probability. This will return [4] in this case. \n",
    "\n",
    "Use the index to figure out which party we are talking about by filtering the `labels_reshaped` using the output from the argmax.\n",
    "\n",
    "If you have done it correct, it should return an array with 'V' (Venstre). \n"
   ]
  },
  {
   "cell_type": "markdown",
   "id": "c4d0c001-badd-4f8d-81da-5a808c1de8d4",
   "metadata": {},
   "source": [
    "#### Solution 2.9"
   ]
  },
  {
   "cell_type": "code",
   "execution_count": null,
   "id": "b9693029-fa79-4fb8-a642-b4859370fed5",
   "metadata": {},
   "outputs": [],
   "source": [
    "# Write your solution here:\n",
    "labels_reshaped[np.argmax(max_axis1)]"
   ]
  },
  {
   "cell_type": "markdown",
   "id": "19fc646f-e3be-43fd-89ac-ff9b11633aff",
   "metadata": {},
   "source": [
    "#### Exercise 2.10\n",
    "We now return to our original `labels` object with shape (50,). \n",
    "\n",
    "The workflow with two arrays called `features` and `labels` is very common in machine learning applications. For some unknown reasons, many algorithms in Python assume that the output is two-dimensional. In most cases the `features` vector is N-dimensional. This is not the case here and as a result, it would cause problems. \n",
    "\n",
    "For the example here, we only reshape `labels` to shape (50, 1). Save the reshaped array in an object called `labels_new`. \n",
    "\n",
    "Verify that the result is correct using `.shape`. \n",
    "\n",
    "*Hint:* This can be done using both the `.reshape()` method and the `np.newaxis` function. Use the latter in this case."
   ]
  },
  {
   "cell_type": "markdown",
   "id": "3138b6fb-86e9-4702-a188-f8e2a8f4edfa",
   "metadata": {},
   "source": [
    "#### Solution 2.10"
   ]
  },
  {
   "cell_type": "code",
   "execution_count": null,
   "id": "9d779ea3-1b28-4307-a839-7583d6d1cd74",
   "metadata": {},
   "outputs": [],
   "source": [
    "# Reshape array using np.newaxis\n",
    "labels_new = labels[:, np.newaxis]"
   ]
  },
  {
   "cell_type": "code",
   "execution_count": null,
   "id": "08221184",
   "metadata": {},
   "outputs": [],
   "source": [
    "# Verify shape \n",
    "labels_new.shape"
   ]
  },
  {
   "cell_type": "code",
   "execution_count": null,
   "id": "25337b6f-53d8-455d-b7f9-cf8ff372df04",
   "metadata": {},
   "outputs": [],
   "source": [
    "# Alternative solution\n",
    "labels_new = labels.reshape(labels.shape[0], 1)           # I use labels.shape[0] to get the number of rows.\n",
    "labels_new.shape"
   ]
  },
  {
   "cell_type": "markdown",
   "id": "47899221-a5cd-4b64-a3f9-4a05acbf9444",
   "metadata": {},
   "source": [
    "## Question 3: Writing and Reading Files"
   ]
  },
  {
   "cell_type": "markdown",
   "id": "a8e1faae-17f1-4828-9344-4f54e26b069c",
   "metadata": {},
   "source": [
    "#### Exercise 3.1\n",
    "We now want to write and read some files to get familiar with typical file formats. \n",
    "\n",
    "Start by writing the newly reshaped array `labels_new` to a numpy file.\n",
    "\n",
    "This can be done using both `np.save()` `np.savetxt()`. Try using both. Can you use both? If not, why?\n",
    "\n",
    "When you have saved it, read in the saved file using the `np.load()` function. Save the data in an object called `labels_loaded`. \n",
    "\n",
    "*Hint:* You probably get an error when reading the file again. Read the error message and adapt your code. It should be straightforward."
   ]
  },
  {
   "cell_type": "code",
   "execution_count": null,
   "id": "a2564faa",
   "metadata": {},
   "outputs": [],
   "source": [
    "# SETUP\n",
    "import os\n",
    "import platform\n",
    "\n",
    "path_to_folder = 'Dropbox/teaching/css_fall2023'\n",
    "\n",
    "if platform.system() == 'Linux':\n",
    "    base_dir = '/home/rask/'\n",
    "else:\n",
    "    base_dir = 'C:/Users/au535365/'\n",
    "\n",
    "base_dir = os.path.join(base_dir, path_to_folder)"
   ]
  },
  {
   "cell_type": "markdown",
   "id": "004c92f3-c998-46c2-8abe-428183d0744c",
   "metadata": {},
   "source": [
    "#### Solution 3.1"
   ]
  },
  {
   "cell_type": "code",
   "execution_count": null,
   "id": "64cd9088-b0af-4476-b775-cf77b334530e",
   "metadata": {},
   "outputs": [],
   "source": [
    "# np.save to a filename called 'labels_new_save.npy'\n",
    "np.save(os.path.join(base_dir, 'data/class2/labels_new_save.npy'), labels_new) "
   ]
  },
  {
   "cell_type": "code",
   "execution_count": null,
   "id": "07c1df74-7795-4c9e-9c81-cf3d761b9d5c",
   "metadata": {},
   "outputs": [],
   "source": [
    "# np.savetxt to a filename called 'labels_new_savetxt.npy'\n",
    "np.savetxt(os.path.join(base_dir, 'data/class2/labels_new_savetxt.npy'), labels_new) "
   ]
  },
  {
   "cell_type": "code",
   "execution_count": null,
   "id": "160c1b1d-1647-41eb-bd68-2ffcdadc1e3b",
   "metadata": {},
   "outputs": [],
   "source": [
    "# np.load the file 'labels_new_save.npy'\n",
    "labels_loaded = np.load(os.path.join(base_dir, 'data/class2/labels_new_npsave.npy'), allow_pickle=True) "
   ]
  },
  {
   "cell_type": "markdown",
   "id": "bc7648ed-5f7e-45c8-b53a-f51d1717d7af",
   "metadata": {},
   "source": [
    "#### Exercise 3.2\n",
    "\n",
    "We forgot to write our Pandas dataframe `grouped_df`. \n",
    "\n",
    "Write the dataframe to a `.csv` file using the `.to_csv()` method. Remember to specify `index=False`. \n",
    "\n",
    "When this is done, read the file back in. Save it in an object called `grouped_df_loaded`."
   ]
  },
  {
   "cell_type": "markdown",
   "id": "8738e588-c67d-4566-8024-23d10ee86430",
   "metadata": {},
   "source": [
    "#### Solution 3.2"
   ]
  },
  {
   "cell_type": "code",
   "execution_count": null,
   "id": "f608c18a-fc63-4d03-9089-80527ea13757",
   "metadata": {},
   "outputs": [],
   "source": [
    "# Write to csv\n",
    "grouped_df.to_csv(os.path.join(base_dir, 'data/class2/partyyear-CPI.csv'), index=False)"
   ]
  },
  {
   "cell_type": "code",
   "execution_count": null,
   "id": "af71dcde-b9bb-47f7-a4c0-473dfeeaff96",
   "metadata": {},
   "outputs": [],
   "source": [
    "# Read as csv\n",
    "grouped_df_loaded = pd.read_csv(os.path.join(base_dir, 'data/class2/partyyear-CPI.csv'))"
   ]
  }
 ],
 "metadata": {
  "kernelspec": {
   "display_name": "Python 3 (ipykernel)",
   "language": "python",
   "name": "python3"
  },
  "language_info": {
   "codemirror_mode": {
    "name": "ipython",
    "version": 3
   },
   "file_extension": ".py",
   "mimetype": "text/x-python",
   "name": "python",
   "nbconvert_exporter": "python",
   "pygments_lexer": "ipython3",
   "version": "3.10.12"
  }
 },
 "nbformat": 4,
 "nbformat_minor": 5
}
