{
 "cells": [
  {
   "cell_type": "markdown",
   "id": "30955c5d",
   "metadata": {},
   "source": [
    "# Class 2: Coding Tour\n",
    "\n",
    "\n",
    "### 1. Pandas\n",
    "    \n",
    "    1.1 Reading in a pandas dataframe\n",
    "    1.2 Inspecting a dataframe\n",
    "    1.3 Modifying columns\n",
    "    1.4 Indexing and slicing\n",
    "    1.5 Summary statistics\n",
    "    1.6 Apply operations\n",
    "    1.7 Groupby\n",
    "\n",
    "\n",
    "### 2. NumPy\n",
    "\n",
    "    2.1 Basic operations\n",
    "    2.2 Joining arrays\n",
    "    2.3 Multidimensional arrays\n",
    "    2.4 Missing values\n",
    "\n",
    "\n",
    "### 3. Classes\n",
    "\n",
    "\n",
    "### 4. Reading and Writing Files\n",
    "    4.0 Filepaths\n",
    "    4.1 Pandas\n",
    "    4.2 NumPy\n",
    "    4.3 Pickle\n",
    "    \n"
   ]
  },
  {
   "cell_type": "markdown",
   "id": "fb60fe05",
   "metadata": {},
   "source": [
    "# 1. Pandas\n",
    "\n",
    "Pandas is *the* library in Python when working with tabular data.\n",
    "\n",
    "But.... It sucks....\n",
    "\n",
    "Compared to tidyverse or data.table in R (or the syntax in Stata), pandas is so messy.\n",
    "\n",
    "But.... Since we are used to think in data in terms of rows and columns, it is the most convenient to store data in Python."
   ]
  },
  {
   "cell_type": "code",
   "execution_count": null,
   "id": "31618603",
   "metadata": {},
   "outputs": [],
   "source": [
    "import pandas as pd"
   ]
  },
  {
   "cell_type": "markdown",
   "id": "9d764b19",
   "metadata": {},
   "source": [
    "### 1.1 Reading and writing using Pandas"
   ]
  },
  {
   "cell_type": "code",
   "execution_count": null,
   "id": "f45a5c72",
   "metadata": {},
   "outputs": [],
   "source": [
    "# Specify filepath. REMEMBER TO CHANGE THE PATH TO YOUR OWN!!!\n",
    "# Note that you can download the data from the course GitHub repo in the data/ folder.\n",
    "# It is very important to specify the correct filepath. \n",
    "# Whether the '/'s should turn / or \\ this way me depend on your operating system\n",
    "fpath = 'C:/Users/au535365/Dropbox/teaching/css_fall2023/data/Corp_Folketing.csv'"
   ]
  },
  {
   "cell_type": "code",
   "execution_count": null,
   "id": "f4d71561",
   "metadata": {},
   "outputs": [],
   "source": [
    "# Read in the filepath to pandas - we explain this later in the tutorial :-)\n",
    "df = pd.read_csv(fpath)"
   ]
  },
  {
   "cell_type": "markdown",
   "id": "051edffd",
   "metadata": {},
   "source": [
    "## Detour - Absolute and Relative Filepaths\n",
    "\n",
    "Directory, folders, and filepaths are boring, but key koncepts when working with data. We simply needs to know where our data, code, and so on are located.  "
   ]
  },
  {
   "cell_type": "code",
   "execution_count": null,
   "id": "04f277c7",
   "metadata": {},
   "outputs": [],
   "source": [
    "import os"
   ]
  },
  {
   "cell_type": "code",
   "execution_count": null,
   "id": "b12a8ce5",
   "metadata": {},
   "outputs": [],
   "source": [
    "# Get current working directory with os.getcwd()\n",
    "os.getcwd()"
   ]
  },
  {
   "cell_type": "code",
   "execution_count": null,
   "id": "c6031229",
   "metadata": {},
   "outputs": [],
   "source": [
    "# Change working directory with os.chdir()\n",
    "os.chdir('C:/Users/au535365/Dropbox/teaching/css-fall2023')"
   ]
  },
  {
   "cell_type": "code",
   "execution_count": null,
   "id": "c623999b",
   "metadata": {},
   "outputs": [],
   "source": [
    "os.chdir('C:/Users/au535365/Dropbox/teaching/css_fall2023')"
   ]
  },
  {
   "cell_type": "code",
   "execution_count": null,
   "id": "eb5ccd2f",
   "metadata": {},
   "outputs": [],
   "source": [
    "# We are starting in the working directory and everything moves from there\n",
    "os.listdir()"
   ]
  },
  {
   "cell_type": "code",
   "execution_count": null,
   "id": "0502a63c",
   "metadata": {},
   "outputs": [],
   "source": [
    "# Absolute path\n",
    "fpath = 'C:/Users/au535365/Dropbox/teaching/css_fall2023/data/Corp_Folketing.csv'\n",
    "df = pd.read_csv(fpath)"
   ]
  },
  {
   "cell_type": "code",
   "execution_count": null,
   "id": "d2d7686d",
   "metadata": {},
   "outputs": [],
   "source": [
    "# Relative path\n",
    "df = pd.read_csv('data/Corp_Folketing.csv')"
   ]
  },
  {
   "cell_type": "markdown",
   "id": "eda55504",
   "metadata": {},
   "source": [
    "### 1.2 Inspecting a dataframe"
   ]
  },
  {
   "cell_type": "code",
   "execution_count": null,
   "id": "1aaf7a97",
   "metadata": {
    "scrolled": true
   },
   "outputs": [],
   "source": [
    "# Overview of what's in the dataframe:\n",
    "# Number of rows\n",
    "# Number of columns\n",
    "# Type of columns\n",
    "\n",
    "df.info()"
   ]
  },
  {
   "cell_type": "code",
   "execution_count": null,
   "id": "3684fef9",
   "metadata": {},
   "outputs": [],
   "source": [
    "# Get column names\n",
    "df.columns"
   ]
  },
  {
   "cell_type": "code",
   "execution_count": null,
   "id": "83098bb4",
   "metadata": {
    "scrolled": true
   },
   "outputs": [],
   "source": [
    "# See top n rows (see bottom n rows with .tail)\n",
    "df.head(n=10)"
   ]
  },
  {
   "cell_type": "code",
   "execution_count": null,
   "id": "4f9b3a31",
   "metadata": {},
   "outputs": [],
   "source": [
    "# See unique values in column \n",
    "df.date.unique().tolist()"
   ]
  },
  {
   "cell_type": "code",
   "execution_count": null,
   "id": "e1e6ab91",
   "metadata": {},
   "outputs": [],
   "source": [
    "# Columns can also be accessed like this. I prefer this way.\n",
    "df['date']"
   ]
  },
  {
   "cell_type": "markdown",
   "id": "b8f4a008",
   "metadata": {},
   "source": [
    "### 1.3 Modifying columns\n",
    "\n",
    "    - Renaming\n",
    "    - Type casting"
   ]
  },
  {
   "cell_type": "code",
   "execution_count": null,
   "id": "8ae63b83",
   "metadata": {},
   "outputs": [],
   "source": [
    "# Rename columns\n",
    "df.rename(columns={'party.facts.id': 'party_id'}, inplace=True)"
   ]
  },
  {
   "cell_type": "code",
   "execution_count": null,
   "id": "ba667955",
   "metadata": {},
   "outputs": [],
   "source": [
    "# Type casting of column. Bit complicated sometimes if the column has NaNs. I often use a work-around solution.\n",
    "df['party_id'] = pd.Series([int(x) if pd.notnull(x) else None for x in df.party_id.tolist()], dtype=object)"
   ]
  },
  {
   "cell_type": "code",
   "execution_count": null,
   "id": "0de45827",
   "metadata": {},
   "outputs": [],
   "source": [
    "# Type casting is straightforward without NaNs\n",
    "df['speechnumber'] = df['speechnumber'].astype(float)\n",
    "df['speechnumber']"
   ]
  },
  {
   "cell_type": "code",
   "execution_count": null,
   "id": "fc5e126d",
   "metadata": {},
   "outputs": [],
   "source": [
    "# Convert back to int\n",
    "df['speechnumber'] = df['speechnumber'].astype(int)\n",
    "df['speechnumber']"
   ]
  },
  {
   "cell_type": "markdown",
   "id": "e22963cd",
   "metadata": {},
   "source": [
    "### 1.4 Indexing and slicing\n",
    "\n",
    "The most fundamental action in data analysis is the ability to “select” elements within your dataset.\n",
    "\n",
    "Pandas indexing and slicing is a little bit tedious I think. \n",
    "\n",
    "Two ways:\n",
    "* `.loc`  (label indexing)\n",
    "* `.iloc` (integer indexing)\n",
    "\n",
    "Usually, I prefer `.loc` since it is more explicit.\n",
    "\n",
    "Often, we want to select specific rows, columns or even some specific cells."
   ]
  },
  {
   "cell_type": "code",
   "execution_count": null,
   "id": "e1732684",
   "metadata": {},
   "outputs": [],
   "source": [
    "# Subset a dataframe to include speeches given by legislators from S\n",
    "df_s = df.loc[df['party'] == 'S']\n",
    "df_s"
   ]
  },
  {
   "cell_type": "code",
   "execution_count": null,
   "id": "ba3df061",
   "metadata": {},
   "outputs": [],
   "source": [
    "df.loc[df['party'] == 'S', 'test'] = str('hej')"
   ]
  },
  {
   "cell_type": "code",
   "execution_count": null,
   "id": "d55f6156",
   "metadata": {
    "scrolled": true
   },
   "outputs": [],
   "source": [
    "# Extract first row with .loc\n",
    "# What happens here?\n",
    "df_s.loc[0]"
   ]
  },
  {
   "cell_type": "code",
   "execution_count": null,
   "id": "9c88021f",
   "metadata": {},
   "outputs": [],
   "source": [
    "# Extract first row with .iloc\n",
    "# What happens here?\n",
    "df_s.iloc[0]"
   ]
  },
  {
   "cell_type": "code",
   "execution_count": null,
   "id": "e713d057",
   "metadata": {},
   "outputs": [],
   "source": [
    "# To enable using df_s.loc[0,:], we need to reset indices. NB: USE WITH CARE!!!!\n",
    "df_s.reset_index(drop=True, inplace=True)\n",
    "df_s.loc[0]"
   ]
  },
  {
   "cell_type": "code",
   "execution_count": null,
   "id": "4efc866d",
   "metadata": {},
   "outputs": [],
   "source": [
    "# Get speaker value for the 10th row using .loc\n",
    "df_s.loc[10, 'speaker']"
   ]
  },
  {
   "cell_type": "code",
   "execution_count": null,
   "id": "1074ff3e",
   "metadata": {},
   "outputs": [],
   "source": [
    "# This returns an error since iloc assumes we use integers to index the dataframe\n",
    "df_s.iloc[10, 'speaker']"
   ]
  },
  {
   "cell_type": "code",
   "execution_count": null,
   "id": "f347a6be",
   "metadata": {},
   "outputs": [],
   "source": [
    "# Slice a dataframe from the first to the 20th element by taking every second value.\n",
    "df_s.loc[0:20:2, ['party', 'speaker']]"
   ]
  },
  {
   "cell_type": "code",
   "execution_count": null,
   "id": "987e16ac",
   "metadata": {},
   "outputs": [],
   "source": [
    "# Remove rows with chair == False\n",
    "df = df.loc[df['chair'] == False]"
   ]
  },
  {
   "cell_type": "code",
   "execution_count": null,
   "id": "e0c4ef7f",
   "metadata": {
    "scrolled": true
   },
   "outputs": [],
   "source": [
    "# Keep only speeches given by legislators from certain parties\n",
    "red_parties = ['S', 'EL', 'SF', 'RV', 'ALT']\n",
    "blue_parties = ['V', 'DF', 'KF', 'LA']\n",
    "\n",
    "df = df.loc[df['party'].isin(red_parties + blue_parties)]\n",
    "df"
   ]
  },
  {
   "cell_type": "code",
   "execution_count": null,
   "id": "e798f1ba-3261-4529-b4b4-e4e6838e67ef",
   "metadata": {},
   "outputs": [],
   "source": [
    "# Reset indices\n",
    "df.reset_index(drop=True, inplace=True)"
   ]
  },
  {
   "cell_type": "markdown",
   "id": "695eadec",
   "metadata": {},
   "source": [
    "### 1.5 Summary statistics"
   ]
  },
  {
   "cell_type": "code",
   "execution_count": null,
   "id": "57913ea9",
   "metadata": {
    "scrolled": true
   },
   "outputs": [],
   "source": [
    "# Count values by party\n",
    "df['party'].value_counts()"
   ]
  },
  {
   "cell_type": "code",
   "execution_count": null,
   "id": "3a50b651",
   "metadata": {},
   "outputs": [],
   "source": [
    "# Count values by chair - note the different way of calling a column\n",
    "df.chair.value_counts()"
   ]
  },
  {
   "cell_type": "code",
   "execution_count": null,
   "id": "51cf9280",
   "metadata": {
    "scrolled": true
   },
   "outputs": [],
   "source": [
    "# Summary stats - only applicable to numerical values\n",
    "df['terms'].describe()"
   ]
  },
  {
   "cell_type": "markdown",
   "id": "0e68f8a8",
   "metadata": {},
   "source": [
    "### 1.6 Apply\n",
    "\n",
    "The `apply()` inherits from the pandas module and is very effective in applying a function on an element-wise basis.\n",
    "\n",
    "If we, for instance, want to convert all values in a column to 1 if X and to 0 if Y, this can be done using the `apply()`.\n",
    "\n",
    "\n"
   ]
  },
  {
   "cell_type": "code",
   "execution_count": null,
   "id": "a2a177c2",
   "metadata": {},
   "outputs": [],
   "source": [
    "# We want to extract the year from the data variable. \n",
    "df['date'].apply(lambda x: x.split('-')[0])"
   ]
  },
  {
   "cell_type": "code",
   "execution_count": null,
   "id": "7ae72f87",
   "metadata": {},
   "outputs": [],
   "source": [
    "# Can be directly assigned as a new column: \n",
    "df['year'] = df['date'].apply(lambda x: x.split('-')[0])"
   ]
  },
  {
   "cell_type": "code",
   "execution_count": null,
   "id": "1f6d47ba",
   "metadata": {},
   "outputs": [],
   "source": [
    "# Conditional value assignment \n",
    "df['party_S'] = df['party'].apply(lambda x: 'Yes' if x == 'S' else 'No')"
   ]
  },
  {
   "cell_type": "code",
   "execution_count": null,
   "id": "24bfa9c0",
   "metadata": {},
   "outputs": [],
   "source": [
    "# To see why it is neccesary, consider this example. Here we are computing the length of the text column. \n",
    "# Do you think the `len()` function returns the length at an element-wise operation? Well...\n",
    "df['chars'] = len(df['text'])\n",
    "print(df['chars'])"
   ]
  },
  {
   "cell_type": "code",
   "execution_count": null,
   "id": "cb61f251",
   "metadata": {},
   "outputs": [],
   "source": [
    "df['chars'] = len(df['text'])"
   ]
  },
  {
   "cell_type": "code",
   "execution_count": null,
   "id": "493daf77",
   "metadata": {},
   "outputs": [],
   "source": [
    "# We need the apply method!\n",
    "df['chars'] = df['text'].apply(lambda x: len(x))\n",
    "print(df['chars'])"
   ]
  },
  {
   "cell_type": "markdown",
   "id": "194410c1",
   "metadata": {},
   "source": [
    "### 1.7 Groupby\n",
    "\n",
    "The `.groupby()` operation is very convenient when we want to operate within groups.\n"
   ]
  },
  {
   "cell_type": "code",
   "execution_count": null,
   "id": "84bcbba4",
   "metadata": {},
   "outputs": [],
   "source": [
    "# Grouping dataframes by one or more columns. \n",
    "terms_df = df.groupby(['party'])['terms'].describe()"
   ]
  },
  {
   "cell_type": "code",
   "execution_count": null,
   "id": "3ce48795",
   "metadata": {},
   "outputs": [],
   "source": [
    "terms_df"
   ]
  },
  {
   "cell_type": "code",
   "execution_count": null,
   "id": "bf79bc3f",
   "metadata": {},
   "outputs": [],
   "source": [
    "# Simple clean-up\n",
    "terms_df['party'] = terms_df.index.tolist()\n",
    "terms_df.reset_index(drop=True, inplace=True)\n",
    "\n",
    "# Now we can see which parties use most words on average\n",
    "terms_df"
   ]
  },
  {
   "cell_type": "code",
   "execution_count": null,
   "id": "a3103505",
   "metadata": {},
   "outputs": [],
   "source": [
    "grouped_df = df.groupby(['party', 'year'])['terms'].describe().reset_index()\n",
    "grouped_df"
   ]
  },
  {
   "cell_type": "code",
   "execution_count": null,
   "id": "fa6029e9",
   "metadata": {},
   "outputs": [],
   "source": [
    "# Extract only the mean\n",
    "grouped_df = df.groupby(['party', 'year'])['terms'].mean().reset_index()\n",
    "grouped_df"
   ]
  },
  {
   "cell_type": "code",
   "execution_count": null,
   "id": "3ed8bcba",
   "metadata": {},
   "outputs": [],
   "source": [
    "df['party_mean_terms'] = df.groupby(['party', 'year'])['terms'].transform('mean')\n",
    "df"
   ]
  },
  {
   "cell_type": "code",
   "execution_count": null,
   "id": "137f2662-3ec2-4a3b-8392-b80c9ce92827",
   "metadata": {},
   "outputs": [],
   "source": [
    "# We need to make sure that Python interpret the data correctly.\n",
    "# grouped_df['year'] = grouped_df['year'].astype(int)"
   ]
  },
  {
   "cell_type": "code",
   "execution_count": null,
   "id": "ed1f0e25-8c34-414f-bc7a-bfd35812122e",
   "metadata": {},
   "outputs": [],
   "source": [
    "import seaborn as sns\n",
    "import matplotlib.pyplot as plt\n",
    "sns.set_theme()"
   ]
  },
  {
   "cell_type": "code",
   "execution_count": null,
   "id": "b234e854",
   "metadata": {},
   "outputs": [],
   "source": [
    "# grouped_df['year'][0]\n",
    "# grouped_df['year'] = grouped_df['year'].astype(int)"
   ]
  },
  {
   "cell_type": "code",
   "execution_count": null,
   "id": "8834b2f0-aab7-439c-9b66-b068a1e119b4",
   "metadata": {},
   "outputs": [],
   "source": [
    "# Plot the mean number of words for each party over time\n",
    "fig, ax = plt.subplots()\n",
    "for k, v in grouped_df.groupby('party'):\n",
    "    v.plot(x='year', y='terms', label=k, ax=ax, marker='o', markersize=3)\n",
    "plt.xlabel('Year', fontsize=10)\n",
    "plt.ylabel('Average number of words', fontsize=10)\n",
    "plt.xticks(size=10)\n",
    "plt.yticks(size=10)\n",
    "plt.legend(frameon=False, fontsize=10)\n",
    "plt.show()"
   ]
  },
  {
   "cell_type": "markdown",
   "id": "cd25784e-b7d4-4431-851c-d94bc33bb65b",
   "metadata": {},
   "source": [
    "# 2. NumPy \n",
    "\n",
    "Almost everything in Python has ties to NumPy, short for **Numerical Python**. \n",
    "\n",
    "Often, you will be in a case where you have a Pandas dataframe, which you want to pass forward to NumPy. \n",
    "\n",
    "NumPy is very efficient and exploits that computers are very fast at using linear algebra. "
   ]
  },
  {
   "cell_type": "code",
   "execution_count": null,
   "id": "4368bcd9-0dc6-4175-be7a-46d629a14b69",
   "metadata": {},
   "outputs": [],
   "source": [
    "import numpy as np"
   ]
  },
  {
   "cell_type": "markdown",
   "id": "7c0ab203-e94d-4fc4-b6ab-3415d430490d",
   "metadata": {},
   "source": [
    "### 2.1 Basic operations"
   ]
  },
  {
   "cell_type": "code",
   "execution_count": null,
   "id": "20784331-2f23-432d-b502-0ab13b974817",
   "metadata": {},
   "outputs": [],
   "source": [
    "# Create 1d array\n",
    "myarr0 = np.arange(10)\n",
    "myarr0"
   ]
  },
  {
   "cell_type": "code",
   "execution_count": null,
   "id": "0365a974-276e-4f67-bcc9-b337cbf7717c",
   "metadata": {},
   "outputs": [],
   "source": [
    "# Identical in values to:\n",
    "mylist0 = list(range(10))"
   ]
  },
  {
   "cell_type": "code",
   "execution_count": null,
   "id": "46fdab87-29fe-46cd-9e48-a5b721405486",
   "metadata": {},
   "outputs": [],
   "source": [
    "# What's the shape of array? (row, col) syntax\n",
    "myarr0.shape"
   ]
  },
  {
   "cell_type": "code",
   "execution_count": null,
   "id": "72346a46-dd3a-4596-8823-665611e42092",
   "metadata": {},
   "outputs": [],
   "source": [
    "# Indexing works just like for lists - get first two elements like this:\n",
    "myarr0[:2]"
   ]
  },
  {
   "cell_type": "code",
   "execution_count": null,
   "id": "eb1e449b-b6b0-4e78-beaa-91650534cc1f",
   "metadata": {},
   "outputs": [],
   "source": [
    "# Filtering a 1d array\n",
    "myarr0[myarr1 < 10]"
   ]
  },
  {
   "cell_type": "code",
   "execution_count": null,
   "id": "279955dd-2504-44d9-b554-a7f8fc8e7aae",
   "metadata": {},
   "outputs": [],
   "source": [
    "# Filtering numbers by multiple conditions\n",
    "myarr0[(myarr0 >= 5) & (myarr0 <= 10) | (myarr0 < 2)]"
   ]
  },
  {
   "cell_type": "code",
   "execution_count": null,
   "id": "a1011688-c819-474c-b6e0-598575a1bc59",
   "metadata": {},
   "outputs": [],
   "source": [
    "# Replacing values in a 1d array\n",
    "myarr1[myarr1 < 10] = 0\n",
    "myarr1"
   ]
  },
  {
   "cell_type": "code",
   "execution_count": null,
   "id": "601805a5-7a91-47e2-859a-9bd5fee46a86",
   "metadata": {},
   "outputs": [],
   "source": [
    "# Reshaping an array\n",
    "myarr1 = myarr0.reshape(2,5)\n",
    "\n",
    "# Now it is two dimensional!\n",
    "myarr1.shape"
   ]
  },
  {
   "cell_type": "code",
   "execution_count": null,
   "id": "a8b031b6-1a32-458f-b12c-a9e6aa2c8f15",
   "metadata": {},
   "outputs": [],
   "source": [
    "# Setting the col to -1 means that NumPy will figure it out\n",
    "myarr2 = myarr0.reshape(2, -1)\n",
    "myarr2.shape"
   ]
  },
  {
   "cell_type": "code",
   "execution_count": null,
   "id": "1eb637df-7d99-43a6-ab8e-21f09da97332",
   "metadata": {},
   "outputs": [],
   "source": [
    "# # We can automatically increase the dimension of our array by using np.newaxis\n",
    "print(f\"Dimensions of original array: {myarr0.shape}\")\n",
    "print(f\"Dimensions of modified array: {myarr0[:, np.newaxis].shape }\")"
   ]
  },
  {
   "cell_type": "code",
   "execution_count": null,
   "id": "fa6c342a-9f78-4918-ba33-e8602d0e4c88",
   "metadata": {},
   "outputs": [],
   "source": [
    "# Extract indices where two arrays match\n",
    "\n",
    "a = np.array([1,2,3,2,3,4,3,4,5,6])\n",
    "b = np.array([7,2,10,2,7,4,9,4,9,8])\n",
    "\n",
    "np.where(a == b)[0]"
   ]
  },
  {
   "cell_type": "code",
   "execution_count": null,
   "id": "ac191c2f-d55f-4c42-88bf-65613efbe69d",
   "metadata": {},
   "outputs": [],
   "source": [
    "# Find maximum value element-wise\n",
    "a = np.array([5, 7, 9, 8, 6, 4, 5])\n",
    "b = np.array([6, 3, 4, 8, 9, 7, 1])\n",
    "\n",
    "[np.max([a,b]) for a, b in zip(a, b)]"
   ]
  },
  {
   "cell_type": "code",
   "execution_count": null,
   "id": "bd9573b5-65b2-4601-a737-4397aafa8bff",
   "metadata": {},
   "outputs": [],
   "source": [
    "# Find index of max and min value\n",
    "np.argmax(a), np.argmin(a)"
   ]
  },
  {
   "cell_type": "code",
   "execution_count": null,
   "id": "a71f8501-4716-42dd-86d2-427020d677ed",
   "metadata": {},
   "outputs": [],
   "source": [
    "# Stats\n",
    "np.mean(a), np.std(a), np.max(a), np.min(a)"
   ]
  },
  {
   "cell_type": "code",
   "execution_count": null,
   "id": "5029832c-4e55-40c5-a210-6fbcb01036dc",
   "metadata": {},
   "outputs": [],
   "source": [
    "# Find unique values\n",
    "a = np.array([0,0,1,1])\n",
    "np.unique(a)"
   ]
  },
  {
   "cell_type": "code",
   "execution_count": null,
   "id": "6f68d38d-5286-42c8-b287-99ca73ec92ca",
   "metadata": {},
   "outputs": [],
   "source": [
    "# Many numpy operations also work on lists!\n",
    "np.unique([0,0,1, 1])"
   ]
  },
  {
   "cell_type": "code",
   "execution_count": null,
   "id": "340946c7-e2d9-4ae3-a531-3917d00ee44e",
   "metadata": {},
   "outputs": [],
   "source": [
    "# Sort an array\n",
    "a = np.array([1,2,9,5,4])\n",
    "np.sort(a)"
   ]
  },
  {
   "cell_type": "code",
   "execution_count": null,
   "id": "aeac89c7-5a91-452d-9120-54541ebf9e64",
   "metadata": {},
   "outputs": [],
   "source": [
    "# Get indices which will sort an array\n",
    "np.argsort(a)"
   ]
  },
  {
   "cell_type": "code",
   "execution_count": null,
   "id": "ad6bf212-c8fd-4591-8dda-0a3f720db32b",
   "metadata": {},
   "outputs": [],
   "source": [
    "# Sort using argsort\n",
    "a[np.argsort(a)]"
   ]
  },
  {
   "cell_type": "code",
   "execution_count": null,
   "id": "0934bf39",
   "metadata": {},
   "outputs": [],
   "source": [
    "# Check if array has certain elements\n",
    "np.isin(a, [0, 1, 2])"
   ]
  },
  {
   "cell_type": "code",
   "execution_count": null,
   "id": "eaf0b6a4-3f8e-4c22-99f0-d68b1392b14d",
   "metadata": {},
   "outputs": [],
   "source": [
    "# Save an array like this:\n",
    "np.save('some_array', a)"
   ]
  },
  {
   "cell_type": "markdown",
   "id": "44344a08-1321-42ee-8a24-961466e131a1",
   "metadata": {},
   "source": [
    "### 2.2 Joining arrays"
   ]
  },
  {
   "cell_type": "code",
   "execution_count": null,
   "id": "a6cc849d-a2c5-4c83-864a-383d0a611ed4",
   "metadata": {},
   "outputs": [],
   "source": [
    "# Vertical stacking of arrays\n",
    "a = np.arange(10)\n",
    "b = np.repeat(1, 10)\n",
    "\n",
    "m = np.vstack([a,b])\n",
    "print(f\"Array: \\n{m}\\n\\n\")\n",
    "print(f\"Shape of array: {m.shape}\")"
   ]
  },
  {
   "cell_type": "code",
   "execution_count": null,
   "id": "f35829e1-6855-4809-b373-2287ddd1061a",
   "metadata": {},
   "outputs": [],
   "source": [
    "a, b = a.reshape(2,5), b.reshape(2,5)\n",
    "\n",
    "m = np.vstack([a,b])\n",
    "print(f\"Array: \\n{m}\\n\\n\")\n",
    "print(f\"Shape of array: {m.shape}\")"
   ]
  },
  {
   "cell_type": "code",
   "execution_count": null,
   "id": "16ab0505-ec91-4571-b42d-8ff48ec45dcc",
   "metadata": {},
   "outputs": [],
   "source": [
    "# Horizontal stacking - basically concatenation\n",
    "# Solution:\n",
    "a = np.arange(10)\n",
    "b = np.repeat(1, 10)\n",
    "\n",
    "m = np.hstack([a,b])\n",
    "print(f\"Array: \\n{m}\\n\\n\")\n",
    "print(f\"Shape of array: {m.shape}\")"
   ]
  },
  {
   "cell_type": "code",
   "execution_count": null,
   "id": "5910ece7-c28f-49f3-b716-ed4b6f473fb5",
   "metadata": {},
   "outputs": [],
   "source": [
    "# Concatenation: row-wise\n",
    "print(np.concatenate([a, b], axis=0))"
   ]
  },
  {
   "cell_type": "code",
   "execution_count": null,
   "id": "5f194ca9-d0ca-4175-a367-e3c91e36637d",
   "metadata": {},
   "outputs": [],
   "source": [
    "# Concatenation: column-wise\n",
    "np.concatenate([a, b], axis=1)\n",
    "\n",
    "# Not possible due to 1d arrays!"
   ]
  },
  {
   "cell_type": "code",
   "execution_count": null,
   "id": "dd9c003d-a8a0-44f8-b2de-d4fb5bd5e532",
   "metadata": {},
   "outputs": [],
   "source": [
    "a, b = a.reshape(2,5), b.reshape(2,5)\n",
    "np.concatenate([a, b], axis=1)"
   ]
  },
  {
   "cell_type": "markdown",
   "id": "6a93bdae-cd85-49c6-a7ff-2f6c91aedd4b",
   "metadata": {},
   "source": [
    "### 2.3 N-dimensional arrays (matrices)\n",
    "\n",
    "The real power of NumPy comes from the ability to handle N dimensions and not just a single one. We have already seen that arrays can have more than one dimension."
   ]
  },
  {
   "cell_type": "code",
   "execution_count": null,
   "id": "7ab09774-56e8-4bf7-b2bf-d6e09d9ca1c1",
   "metadata": {},
   "outputs": [],
   "source": [
    "# Create a matrix of dimension 3x3 of booleans. \n",
    "\n",
    "# One solution:\n",
    "m0 = np.ones((3,3), dtype=bool)\n",
    "\n",
    "# Another solution\n",
    "m1 = np.ones((9), dtype=bool).reshape(3,3)\n",
    "\n",
    "m0==m1"
   ]
  },
  {
   "cell_type": "code",
   "execution_count": null,
   "id": "ffc05123-369d-4dfc-9d6b-839388419f35",
   "metadata": {},
   "outputs": [],
   "source": [
    "# Generate 3x4 matrix with random numbers\n",
    "array = np.random.randn(3, 4)\n",
    "array"
   ]
  },
  {
   "cell_type": "code",
   "execution_count": null,
   "id": "a3923a53-c64b-4551-bc62-f2a73cad7381",
   "metadata": {},
   "outputs": [],
   "source": [
    "# Subsetting row 1, column 1 - What's the expected output?\n",
    "array[1,1]"
   ]
  },
  {
   "cell_type": "code",
   "execution_count": null,
   "id": "566562bb",
   "metadata": {},
   "outputs": [],
   "source": [
    "array[0,]"
   ]
  },
  {
   "cell_type": "code",
   "execution_count": null,
   "id": "a15c2b9c-b76e-4eaf-8210-591e432a0638",
   "metadata": {},
   "outputs": [],
   "source": [
    "# indexing row 1, and col from 1 to the last col\n",
    "array[1:,1:]"
   ]
  },
  {
   "cell_type": "code",
   "execution_count": null,
   "id": "4863a094-93a5-4d4a-a687-1689e39a84cb",
   "metadata": {},
   "outputs": [],
   "source": [
    "# Reverse rows\n",
    "array[::-1 , :]"
   ]
  },
  {
   "cell_type": "code",
   "execution_count": null,
   "id": "444afee3-6601-4822-bcd0-400f253910d7",
   "metadata": {},
   "outputs": [],
   "source": [
    "# Reverse cols\n",
    "array[: , ::-1]"
   ]
  },
  {
   "cell_type": "code",
   "execution_count": null,
   "id": "e73a32ba-043d-4279-8ab5-45300646d7f0",
   "metadata": {},
   "outputs": [],
   "source": [
    "multiarray = np.array([[[1, 2, 3], [4, 5, 6]], [[7, 8, 9], [10, 11, 12]]])\n",
    "multiarray.shape            # 2 arrays, each with dimension 2x3"
   ]
  },
  {
   "cell_type": "code",
   "execution_count": null,
   "id": "5fdfc525-3dca-4314-bcd2-35d2cd61010a",
   "metadata": {},
   "outputs": [],
   "source": [
    "multiarray = np.array([[[1, 2], [4, 5]], [[7, 8], [10, 11]], [[9, 10], [10, 10]]])\n",
    "multiarray.shape            # 3 arrays, each with dimension 2x2"
   ]
  },
  {
   "cell_type": "markdown",
   "id": "0ed020dd-c069-469b-ba12-e6c64076a4ab",
   "metadata": {},
   "source": [
    "### 2.4 Missing values"
   ]
  },
  {
   "cell_type": "code",
   "execution_count": null,
   "id": "ddf4ab88-3094-4bcd-afdc-ebb2390c9390",
   "metadata": {},
   "outputs": [],
   "source": [
    "# Find missing values using np.isnan\n",
    "missing_array = np.array([1,2,2, np.nan, np.nan, 3])\n",
    "missing_bool = np.isnan(missing_array)\n",
    "missing_bool"
   ]
  },
  {
   "cell_type": "code",
   "execution_count": null,
   "id": "53fc1bdc-4ea1-4701-b006-032c778953dd",
   "metadata": {},
   "outputs": [],
   "source": [
    "# Combine with np.where to get indices\n",
    "np.where(missing_bool)[0]"
   ]
  },
  {
   "cell_type": "code",
   "execution_count": null,
   "id": "5dd114e1-c059-42e5-b69b-6697b02dc2d8",
   "metadata": {},
   "outputs": [],
   "source": [
    "# np.isnan also works on N-dimensional arrays\n",
    "missing_array0 = np.array([1,2,2, np.nan, np.nan, 3])\n",
    "missing_array1 = np.array([1,np.nan,2, 3, np.nan, 3])\n",
    "np.isnan(np.vstack([missing_array0, missing_array1]))"
   ]
  },
  {
   "cell_type": "markdown",
   "id": "eb2f38ea-bf7f-4e6d-bc18-dfe3cc76a924",
   "metadata": {},
   "source": [
    "# 3. Classes \n",
    "\n",
    "Classes are a fundamental concept in object-oriented programming, and they allow you to create custom data types with attributes (variables) and methods (functions) associated with them. \n",
    "\n",
    "You will rarely need to make classes yourself, but everything you use is a class!"
   ]
  },
  {
   "cell_type": "code",
   "execution_count": null,
   "id": "e411f894-9355-436b-bb3c-4b3418af1e9d",
   "metadata": {},
   "outputs": [],
   "source": [
    "# Define a class named \"Student\" - we use the 'class' keyword\n",
    "class Student:\n",
    "    \n",
    "    # Constructor method (__init__) initializes the object's attributes\n",
    "    def __init__(self, name, age, grade):\n",
    "        self.name = name\n",
    "        self.age = age\n",
    "        self.grade = grade\n",
    "\n",
    "    # Method to display student information\n",
    "    def display_info(self):\n",
    "        logage = np.log(self.age)\n",
    "        print(f\"Name: {self.name}, Age: {self.age}, Grade: {self.grade}\")"
   ]
  },
  {
   "cell_type": "code",
   "execution_count": null,
   "id": "32ccf33f-b61b-4029-9540-1c32d707ee79",
   "metadata": {},
   "outputs": [],
   "source": [
    "# Create instances (objects) of the Student class\n",
    "student1 = Student(\"Alice\", 18, \"A\")\n",
    "student2 = Student(\"Bob\", 17, \"B\")\n",
    "\n",
    "# Accessing attributes and calling methods of the objects\n",
    "print(\"Student 1:\")\n",
    "student1.display_info()  \n",
    "\n",
    "print(\"\\nStudent 2:\")\n",
    "student2.display_info()"
   ]
  },
  {
   "cell_type": "code",
   "execution_count": null,
   "id": "622a8326-d248-456d-b5bc-627021023a45",
   "metadata": {},
   "outputs": [],
   "source": [
    "student1.name, student1.age, student1.grade"
   ]
  },
  {
   "cell_type": "code",
   "execution_count": null,
   "id": "c45ca4b2-ca1d-4550-b50f-67eb7a5e8633",
   "metadata": {},
   "outputs": [],
   "source": [
    "student1.logage"
   ]
  },
  {
   "cell_type": "code",
   "execution_count": null,
   "id": "55d5a0fb-ee79-48bf-bcec-722dd07cbbfc",
   "metadata": {},
   "outputs": [],
   "source": [
    "#  Sometimes, we want a class to inherit from another class. We will encounter this when we build neural networks with PyTorch.\n",
    "\n",
    "class Person:\n",
    "    \"\"\"Example of the base class\"\"\"\n",
    "    def __init__(self, name):\n",
    "        self.name = name\n",
    "\n",
    "    def get_name(self):\n",
    "        \"\"\"Get person name\"\"\"\n",
    "        return self.name\n",
    "\n",
    "\n",
    "class Employee(Person):\n",
    "    def __init__(self, name, staff_id):\n",
    "        super().__init__(name)\n",
    "        self.staff_id = staff_id\n",
    "\n",
    "    def get_full_id(self):\n",
    "        \"\"\"Get full employee id\"\"\"\n",
    "        return self.get_name() + ', ' + str(self.staff_id)"
   ]
  },
  {
   "cell_type": "code",
   "execution_count": null,
   "id": "773288a8-f4f1-4a74-8942-c29f9d15c83a",
   "metadata": {},
   "outputs": [],
   "source": [
    "emp = Employee(name='Bob', staff_id=10)"
   ]
  },
  {
   "cell_type": "code",
   "execution_count": null,
   "id": "774889fc-b7b0-4b1c-88de-559487226c66",
   "metadata": {},
   "outputs": [],
   "source": [
    "# Employee inherits the .get_name() method from the Person class!\n",
    "emp.get_name()"
   ]
  },
  {
   "cell_type": "code",
   "execution_count": null,
   "id": "7b7d0fac-537b-4dac-b592-2bf9842bf97a",
   "metadata": {},
   "outputs": [],
   "source": [
    "# but we can still access the methods specific to the new class\n",
    "emp.get_full_id()"
   ]
  },
  {
   "cell_type": "markdown",
   "id": "f791bb62-4ae1-4da5-9ea4-b31d016f1de7",
   "metadata": {},
   "source": [
    "# 4. Files \n",
    "\n",
    "Reading and writing files in Python is usually quite simple and have, as everything else, awesome documentation and community-support. \n",
    "\n",
    "There are a few ways that it is good to get your hands around:\n",
    "\n",
    "0. Filepaths\n",
    "1. Pandas\n",
    "2. NumPy\n",
    "3. Pickle\n",
    "4. Parquet\n",
    "5. Base Python\n"
   ]
  },
  {
   "cell_type": "markdown",
   "id": "66633415",
   "metadata": {},
   "source": [
    "### 4.0 Filepaths\n",
    "\n",
    "Filepaths might seem simple, but often causes a lot of trouble, in particular across operating systems.\n",
    "\n",
    "Luckily, Python has some great tools to make you work with paths.\n",
    "\n",
    "The first important thing to notice is the difference between *absolute* and *relative* filepaths."
   ]
  },
  {
   "cell_type": "code",
   "execution_count": null,
   "id": "07c6476d",
   "metadata": {},
   "outputs": [],
   "source": [
    "# What is this? \n",
    "'C:/Users/au535365/Dropbox/teaching/css_fall2023/data/Corp_Folketing.csv'"
   ]
  },
  {
   "cell_type": "code",
   "execution_count": null,
   "id": "707c3eb5",
   "metadata": {},
   "outputs": [],
   "source": [
    "# What about this?\n",
    "'data/Corp_Folketing.csv'"
   ]
  },
  {
   "cell_type": "markdown",
   "id": "4e5bca9a",
   "metadata": {},
   "source": [
    "When you open a Jupyter Notebook, you always starts at the directory from which you opened the notebook. \n",
    "\n",
    "We can check it directly using the `os` module and the `.getcwd()` method, which is short for '**get** **c**urrent **w**orking **d**irectory'."
   ]
  },
  {
   "cell_type": "code",
   "execution_count": null,
   "id": "49fab495",
   "metadata": {},
   "outputs": [],
   "source": [
    "import os\n",
    "os.getcwd()"
   ]
  },
  {
   "cell_type": "markdown",
   "id": "52491000",
   "metadata": {},
   "source": [
    "We want to start from the outer folder of our project, in my case it is `css_fall2023`"
   ]
  },
  {
   "cell_type": "markdown",
   "id": "14572ccc",
   "metadata": {},
   "source": [
    "I change it by using the `os` module and the `.chdir` method, which is short for '**ch**ange **dir**ectory'.\n",
    "\n",
    "It is good practice to do that in the beginning of each notebook you are working with!"
   ]
  },
  {
   "cell_type": "code",
   "execution_count": null,
   "id": "8520854d",
   "metadata": {},
   "outputs": [],
   "source": [
    "os.chdir('C:/Users/au535365/Dropbox/teaching/css_fall2023/')"
   ]
  },
  {
   "cell_type": "code",
   "execution_count": null,
   "id": "88ae3839",
   "metadata": {},
   "outputs": [],
   "source": [
    "os.getcwd()"
   ]
  },
  {
   "cell_type": "markdown",
   "id": "52c7f825-2f9b-4fd2-a6e2-fce231478a93",
   "metadata": {},
   "source": [
    "### 4.1 Pandas"
   ]
  },
  {
   "cell_type": "code",
   "execution_count": null,
   "id": "73d10b3b-675c-4928-941f-146ac4f84184",
   "metadata": {},
   "outputs": [],
   "source": [
    "# Reading using absolute path\n",
    "fpath = 'C:/Users/au535365/Dropbox/teaching/css_fall2023/data/Corp_Folketing.csv'\n",
    "df = pd.read_csv(fpath)"
   ]
  },
  {
   "cell_type": "code",
   "execution_count": null,
   "id": "13994e2d",
   "metadata": {},
   "outputs": [],
   "source": [
    "# Reading using relative path\n",
    "fpath = 'data/Corp_Folketing.csv'\n",
    "df = pd.read_csv(fpath)"
   ]
  },
  {
   "cell_type": "code",
   "execution_count": null,
   "id": "fb977045",
   "metadata": {},
   "outputs": [],
   "source": [
    "# Reading using relative path with extra added /\n",
    "fpath = '/data/Corp_Folketing.csv'\n",
    "df = pd.read_csv(fpath)"
   ]
  },
  {
   "cell_type": "code",
   "execution_count": null,
   "id": "d9918998-d3bc-419e-9519-adce82248b4a",
   "metadata": {},
   "outputs": [],
   "source": [
    "# Writing \n",
    "df[::20].to_csv('data/tester.csv', index=False)"
   ]
  },
  {
   "cell_type": "markdown",
   "id": "86c1988d-a966-40a5-89bf-f27084a2a664",
   "metadata": {},
   "source": [
    "### 4.2 NumPy"
   ]
  },
  {
   "cell_type": "code",
   "execution_count": null,
   "id": "7a1ccc0b-c38e-4de2-9b14-28dfa9a2df62",
   "metadata": {},
   "outputs": [],
   "source": [
    "# Reading\n",
    "from io import StringIO   # StringIO behaves like a file object\n",
    "\n",
    "c = StringIO(\"0 1\\n2 3\")\n",
    "\n",
    "a = np.loadtxt(c)"
   ]
  },
  {
   "cell_type": "code",
   "execution_count": null,
   "id": "3677b6bf-f985-4d43-bb0b-2386f912234b",
   "metadata": {},
   "outputs": [],
   "source": [
    "# Writing \n",
    "np.savetxt('data/nparray-txt.npy'), a, delimiter=' ')\n",
    "np.save('data/nparray-npy.npy', a)"
   ]
  },
  {
   "cell_type": "code",
   "execution_count": null,
   "id": "f916d789",
   "metadata": {},
   "outputs": [],
   "source": [
    "# Reading\n",
    "np.loadtxt('data/nparray-txt.npy')"
   ]
  },
  {
   "cell_type": "code",
   "execution_count": null,
   "id": "c76b07d4",
   "metadata": {},
   "outputs": [],
   "source": [
    "# Reading \n",
    "np.load('data/nparray-npy.npy')"
   ]
  },
  {
   "cell_type": "markdown",
   "id": "113b1698-ab4b-4332-bcfd-14aed3341926",
   "metadata": {},
   "source": [
    "### 4.3 Pickle"
   ]
  },
  {
   "cell_type": "code",
   "execution_count": null,
   "id": "0032a193-3e53-4fe8-8ded-45b5062014f0",
   "metadata": {},
   "outputs": [],
   "source": [
    "import pickle"
   ]
  },
  {
   "cell_type": "code",
   "execution_count": null,
   "id": "c4f3852a-1293-4893-8b5d-78b4e0dd511d",
   "metadata": {},
   "outputs": [],
   "source": [
    "# Reading\n",
    "# The 'rb' argument specifies that we are loading a file\n",
    "fpath = 'data/diarization'\n",
    "with open(fpath, 'rb') as f:\n",
    "    data = pickle.load(f)\n",
    "    f.close()"
   ]
  },
  {
   "cell_type": "code",
   "execution_count": null,
   "id": "80635ae0-1e45-4ca1-aa3a-15f1472490de",
   "metadata": {},
   "outputs": [],
   "source": [
    "# Writing\n",
    "# The 'wb' argument specifies that we are saving a file\n",
    "fpath = 'data/diarization-new'\n",
    "with open(fpath, 'wb') as f:\n",
    "    pickle.dump(data, f)       # object in first pos, filepath in second pos\n",
    "    f.close()"
   ]
  },
  {
   "cell_type": "markdown",
   "id": "035afc81-02e6-4232-b431-7566ef1cb668",
   "metadata": {},
   "source": [
    "### 4.4 Parquet (Optional)"
   ]
  },
  {
   "cell_type": "code",
   "execution_count": null,
   "id": "dd7def41-e007-442a-a17e-127b2f8975d7",
   "metadata": {},
   "outputs": [],
   "source": [
    "# Parquet is a very efficient way of save data, but also a bit tricky. Play around if you feel for it.\n",
    "# import pyarrow as pa\n",
    "# parquet_table = pa.Table.from_pandas(df)\n",
    "# pa.parquet.write_table(parquet_table, '/home/rask/Dropbox/teaching/css_fall2023/data/Corp_Folketing.parquet')"
   ]
  },
  {
   "cell_type": "markdown",
   "id": "1e8bb52f-c878-44e8-9258-2870106073be",
   "metadata": {},
   "source": [
    "### 4.5 Base Python (Optional)"
   ]
  },
  {
   "cell_type": "code",
   "execution_count": null,
   "id": "f0a96427-7821-4e8f-8e84-2ebe738e4a45",
   "metadata": {},
   "outputs": [],
   "source": [
    "# import csv\n",
    "# fpath = '/home/rask/Dropbox/teaching/css_fall2023/data/tabseparated.txt'\n",
    "\n",
    "# # Reading\n",
    "# with open(fpath, newline = '') as games:                                                                                          \n",
    "#     reader = csv.reader(games, delimiter='\\t')\n",
    "#     for read in reader:\n",
    "#         print(read)\n",
    "\n",
    "# You will never write a file like this, I assure you. Too tedious."
   ]
  }
 ],
 "metadata": {
  "kernelspec": {
   "display_name": "Python 3 (ipykernel)",
   "language": "python",
   "name": "python3"
  },
  "language_info": {
   "codemirror_mode": {
    "name": "ipython",
    "version": 3
   },
   "file_extension": ".py",
   "mimetype": "text/x-python",
   "name": "python",
   "nbconvert_exporter": "python",
   "pygments_lexer": "ipython3",
   "version": "3.10.12"
  }
 },
 "nbformat": 4,
 "nbformat_minor": 5
}
