{
 "cells": [
  {
   "cell_type": "markdown",
   "id": "30955c5d",
   "metadata": {},
   "source": [
    "# Class 2: Coding Tour\n",
    "\n",
    "\n",
    "### 1. Pandas\n",
    "    \n",
    "    1.1 Reading in a pandas dataframe\n",
    "    1.2 Inspecting a dataframe\n",
    "    1.3 Modifying columns\n",
    "    1.4 Indexing and slicing\n",
    "    1.5 Summary statistics\n",
    "    1.6 Apply operations\n",
    "\n",
    "\n",
    "### 2. NumPy\n",
    "\n",
    "    2.1 Basic operations\n",
    "    2.2 Joining arrays\n",
    "    2.3 Multidimensional arrays\n",
    "    2.4 Missing values\n",
    "\n",
    "\n",
    "### 3. Classes\n",
    "\n",
    "\n",
    "### 4. Reading and Writing Files\n",
    "\n",
    "    4.1 Pandas\n",
    "    4.2 NumPy\n",
    "    4.3 Pickle\n",
    "    4.4 Parquet\n",
    "    4.5 Base Python\n",
    "    \n"
   ]
  },
  {
   "cell_type": "markdown",
   "id": "66bf50b4-2902-4692-9182-8e3c0baae45b",
   "metadata": {},
   "source": [
    "# 0. Setup"
   ]
  },
  {
   "cell_type": "code",
   "execution_count": 2,
   "id": "4fcaeabe-daec-4d20-bed0-360d33bd558f",
   "metadata": {},
   "outputs": [],
   "source": [
    "# SETUP\n",
    "\n",
    "import os\n",
    "\n",
    "if os.uname().sysname == 'Linux':\n",
    "    base_dir = '/home/rask/'\n",
    "else:\n",
    "    base_dir = 'C:/Users/au535365/'"
   ]
  },
  {
   "cell_type": "markdown",
   "id": "fb60fe05",
   "metadata": {},
   "source": [
    "# 1. Pandas"
   ]
  },
  {
   "cell_type": "code",
   "execution_count": 3,
   "id": "31618603",
   "metadata": {},
   "outputs": [],
   "source": [
    "import pandas as pd\n",
    "import pyarrow.parquet as pq\n",
    "parquet_file = os.path.join(base_dir, 'Dropbox/data/parlspeech/DK/ParlSpeech-V2/Corp_Folketing_V2.parquet')\n",
    "csv_file = os.path.join(base_dir, 'Dropbox/research/stigma-paper/data/emotion/emotionality_scores.csv')"
   ]
  },
  {
   "cell_type": "markdown",
   "id": "9d764b19",
   "metadata": {},
   "source": [
    "### 1.1 Reading and writing using Pandas"
   ]
  },
  {
   "cell_type": "code",
   "execution_count": 4,
   "id": "05af18fa",
   "metadata": {},
   "outputs": [
    {
     "ename": "AttributeError",
     "evalue": "module 'pyarrow' has no attribute 'parquet'",
     "output_type": "error",
     "traceback": [
      "\u001b[0;31m---------------------------------------------------------------------------\u001b[0m",
      "\u001b[0;31mAttributeError\u001b[0m                            Traceback (most recent call last)",
      "Cell \u001b[0;32mIn[4], line 2\u001b[0m\n\u001b[1;32m      1\u001b[0m \u001b[38;5;66;03m# Parquet file\u001b[39;00m\n\u001b[0;32m----> 2\u001b[0m df \u001b[38;5;241m=\u001b[39m \u001b[43mpyarrow\u001b[49m\u001b[38;5;241;43m.\u001b[39;49m\u001b[43mparquet\u001b[49m\u001b[38;5;241m.\u001b[39mread_table(parquet_file)\n\u001b[1;32m      3\u001b[0m df \u001b[38;5;241m=\u001b[39m df\u001b[38;5;241m.\u001b[39mto_pandas()\n",
      "File \u001b[0;32m~/miniconda3/lib/python3.10/site-packages/pyarrow/__init__.py:317\u001b[0m, in \u001b[0;36m__getattr__\u001b[0;34m(name)\u001b[0m\n\u001b[1;32m    313\u001b[0m     _warnings\u001b[38;5;241m.\u001b[39mwarn(_msg\u001b[38;5;241m.\u001b[39mformat(name, new_name),\n\u001b[1;32m    314\u001b[0m                    \u001b[38;5;167;01mFutureWarning\u001b[39;00m, stacklevel\u001b[38;5;241m=\u001b[39m\u001b[38;5;241m2\u001b[39m)\n\u001b[1;32m    315\u001b[0m     \u001b[38;5;28;01mreturn\u001b[39;00m obj\n\u001b[0;32m--> 317\u001b[0m \u001b[38;5;28;01mraise\u001b[39;00m \u001b[38;5;167;01mAttributeError\u001b[39;00m(\n\u001b[1;32m    318\u001b[0m     \u001b[38;5;124m\"\u001b[39m\u001b[38;5;124mmodule \u001b[39m\u001b[38;5;124m'\u001b[39m\u001b[38;5;124mpyarrow\u001b[39m\u001b[38;5;124m'\u001b[39m\u001b[38;5;124m has no attribute \u001b[39m\u001b[38;5;124m'\u001b[39m\u001b[38;5;132;01m{0}\u001b[39;00m\u001b[38;5;124m'\u001b[39m\u001b[38;5;124m\"\u001b[39m\u001b[38;5;241m.\u001b[39mformat(name)\n\u001b[1;32m    319\u001b[0m )\n",
      "\u001b[0;31mAttributeError\u001b[0m: module 'pyarrow' has no attribute 'parquet'"
     ]
    }
   ],
   "source": [
    "# Parquet file\n",
    "df = pyarrow.parquet.read_table(parquet_file)\n",
    "df = df.to_pandas()"
   ]
  },
  {
   "cell_type": "code",
   "execution_count": null,
   "id": "295ea55b-fc6e-47ac-bf0e-bf4be7b32a1a",
   "metadata": {},
   "outputs": [],
   "source": [
    "# CSV file\n",
    "csv_df = pd.read_csv(csv_file)"
   ]
  },
  {
   "cell_type": "code",
   "execution_count": null,
   "id": "895ce236",
   "metadata": {},
   "outputs": [],
   "source": [
    "# Also possible to read .dta files!\n",
    "# pd.read_stata()\n",
    "\n",
    "# And even .rds files using the pyreadr module!"
   ]
  },
  {
   "cell_type": "code",
   "execution_count": null,
   "id": "1a03803f",
   "metadata": {},
   "outputs": [],
   "source": [
    "# When writing a dataframe, you specify the name of the dataframe and then .to_csv\n",
    "# df.to_csv(index=False)"
   ]
  },
  {
   "cell_type": "markdown",
   "id": "eda55504",
   "metadata": {},
   "source": [
    "### 1.2 Inspecting a dataframe"
   ]
  },
  {
   "cell_type": "code",
   "execution_count": null,
   "id": "1aaf7a97",
   "metadata": {
    "scrolled": true
   },
   "outputs": [],
   "source": [
    "# Overview of what's in the dataframe:\n",
    "# Number of rows\n",
    "# Number of columns\n",
    "# Type of columns\n",
    "\n",
    "df.info()"
   ]
  },
  {
   "cell_type": "code",
   "execution_count": null,
   "id": "3684fef9",
   "metadata": {},
   "outputs": [],
   "source": [
    "# Get column names\n",
    "df.columns"
   ]
  },
  {
   "cell_type": "code",
   "execution_count": null,
   "id": "83098bb4",
   "metadata": {
    "scrolled": true
   },
   "outputs": [],
   "source": [
    "# See top n rows (see bottom n rows with .tail)\n",
    "df.head(n=10)"
   ]
  },
  {
   "cell_type": "code",
   "execution_count": null,
   "id": "4f9b3a31",
   "metadata": {},
   "outputs": [],
   "source": [
    "# See unique values in column\n",
    "df.date.unique().tolist()"
   ]
  },
  {
   "cell_type": "markdown",
   "id": "b8f4a008",
   "metadata": {},
   "source": [
    "### 1.3 Modifying columns\n",
    "\n",
    "    - Renaming\n",
    "    - Type casting"
   ]
  },
  {
   "cell_type": "code",
   "execution_count": null,
   "id": "8ae63b83",
   "metadata": {},
   "outputs": [],
   "source": [
    "# Rename columns\n",
    "df.rename(columns={'party.facts.id': 'party_id'}, inplace=True)"
   ]
  },
  {
   "cell_type": "code",
   "execution_count": null,
   "id": "ba667955",
   "metadata": {},
   "outputs": [],
   "source": [
    "# Type casting of column. Bit complicated sometimes. I often use a work-around solution.\n",
    "df['party_id'] = pd.Series([int(x) if pd.notnull(x) else None for x in df.party_id.tolist()], dtype=object)"
   ]
  },
  {
   "cell_type": "markdown",
   "id": "e22963cd",
   "metadata": {},
   "source": [
    "### 1.4 Indexing and slicing\n",
    "\n",
    "The most fundamental action in data analysis is the ability to “select” elements within your dataset.\n",
    "\n",
    "Pandas indexing and slicing is a little bit tedious I think. \n",
    "\n",
    "Two ways:\n",
    "* `.loc`  (label indexing)\n",
    "* `.iloc` (integer indexing)\n",
    "\n",
    "Usually, I prefer `.loc` since it is more explicit.\n",
    "\n",
    "Often, we want to select specific rows, columns or even some specific cells."
   ]
  },
  {
   "cell_type": "code",
   "execution_count": null,
   "id": "e1732684",
   "metadata": {},
   "outputs": [],
   "source": [
    "# Subset a dataframe to include speeches given by legislators from S\n",
    "df_s = df.loc[df['party'] == 'S']\n",
    "df_s"
   ]
  },
  {
   "cell_type": "code",
   "execution_count": null,
   "id": "d55f6156",
   "metadata": {},
   "outputs": [],
   "source": [
    "# Extract first row with .loc\n",
    "# What happens here?\n",
    "df_s.loc[0]"
   ]
  },
  {
   "cell_type": "code",
   "execution_count": null,
   "id": "9c88021f",
   "metadata": {},
   "outputs": [],
   "source": [
    "# Extract first row with .iloc\n",
    "# What happens here?\n",
    "df_s.iloc[0]"
   ]
  },
  {
   "cell_type": "code",
   "execution_count": null,
   "id": "e713d057",
   "metadata": {},
   "outputs": [],
   "source": [
    "# To enable using df_s.loc[0,:], we need to reset indices. Use with care!\n",
    "df_s.reset_index(drop=True, inplace=True)\n",
    "df_s.loc[0]"
   ]
  },
  {
   "cell_type": "code",
   "execution_count": null,
   "id": "4efc866d",
   "metadata": {},
   "outputs": [],
   "source": [
    "# Get speaker value for the 10th row using .loc\n",
    "df_s.loc[10, 'speaker']"
   ]
  },
  {
   "cell_type": "code",
   "execution_count": null,
   "id": "1074ff3e",
   "metadata": {},
   "outputs": [],
   "source": [
    "# This returns an error since iloc assumes we use integers to index the dataframe\n",
    "df_s.iloc[10, 'speaker']"
   ]
  },
  {
   "cell_type": "code",
   "execution_count": null,
   "id": "f347a6be",
   "metadata": {},
   "outputs": [],
   "source": [
    "# Slice a dataframe from the first to the 20th element by taking every second value.\n",
    "df_s.loc[0:20:2, ['party', 'speaker']]"
   ]
  },
  {
   "cell_type": "code",
   "execution_count": null,
   "id": "987e16ac",
   "metadata": {},
   "outputs": [],
   "source": [
    "# Remove rows with chair == False\n",
    "df = df.loc[df['chair'] == False]"
   ]
  },
  {
   "cell_type": "code",
   "execution_count": null,
   "id": "e0c4ef7f",
   "metadata": {
    "scrolled": true
   },
   "outputs": [],
   "source": [
    "# Keep only speeches given by legislators from certain parties\n",
    "red_parties = ['S', 'EL', 'SF', 'RV', 'ALT']\n",
    "blue_parties = ['V', 'DF', 'KF', 'LA']\n",
    "\n",
    "df = df.loc[df['party'].isin(red_parties + blue_parties)]\n",
    "df"
   ]
  },
  {
   "cell_type": "code",
   "execution_count": null,
   "id": "e798f1ba-3261-4529-b4b4-e4e6838e67ef",
   "metadata": {},
   "outputs": [],
   "source": [
    "# Reset indices\n",
    "df.reset_index(drop=True, inplace=True)"
   ]
  },
  {
   "cell_type": "markdown",
   "id": "695eadec",
   "metadata": {},
   "source": [
    "### 1.5 Summary statistics"
   ]
  },
  {
   "cell_type": "code",
   "execution_count": null,
   "id": "57913ea9",
   "metadata": {
    "scrolled": true
   },
   "outputs": [],
   "source": [
    "# Count values by party\n",
    "df['party'].value_counts()"
   ]
  },
  {
   "cell_type": "code",
   "execution_count": null,
   "id": "3a50b651",
   "metadata": {},
   "outputs": [],
   "source": [
    "# Count values by chair - note the different way of calling a column\n",
    "df.chair.value_counts()"
   ]
  },
  {
   "cell_type": "code",
   "execution_count": null,
   "id": "51cf9280",
   "metadata": {
    "scrolled": true
   },
   "outputs": [],
   "source": [
    "# Summary stats - only applicable to numerical values\n",
    "df['terms'].describe()"
   ]
  },
  {
   "cell_type": "markdown",
   "id": "0e68f8a8",
   "metadata": {},
   "source": [
    "### 1.6 Apply\n",
    "\n",
    "The `apply()` inherits from the pandas module and is very effective in applying a function on an element-wise basis.\n",
    "\n",
    "If we, for instance, want to convert all values in a column to 1 if X and to 0 if Y, this can be done using the `apply()`.\n",
    "\n",
    "\n"
   ]
  },
  {
   "cell_type": "code",
   "execution_count": null,
   "id": "a2a177c2",
   "metadata": {},
   "outputs": [],
   "source": [
    "# We want to extract the year from the data variable. \n",
    "df['date'].apply(lambda x: x.split('-')[0])"
   ]
  },
  {
   "cell_type": "code",
   "execution_count": null,
   "id": "7ae72f87",
   "metadata": {},
   "outputs": [],
   "source": [
    "# Can be directly assigned as a new column: \n",
    "df.loc[:, 'year'] = df['date'].apply(lambda x: x.split('-')[0])"
   ]
  },
  {
   "cell_type": "code",
   "execution_count": null,
   "id": "24bfa9c0",
   "metadata": {},
   "outputs": [],
   "source": [
    "# To see why it is neccesary, consider this example. Here we are computing the length of the text column. \n",
    "# Do you think the `len()` function returns the length at an element-wise operation? Well...\n",
    "df['chars'] = len(df['text'])\n",
    "print(df['chars'])"
   ]
  },
  {
   "cell_type": "code",
   "execution_count": null,
   "id": "cb61f251",
   "metadata": {},
   "outputs": [],
   "source": [
    "df.loc[:, 'chars'] = len(df['text'])"
   ]
  },
  {
   "cell_type": "code",
   "execution_count": null,
   "id": "493daf77",
   "metadata": {},
   "outputs": [],
   "source": [
    "# We need the apply method!\n",
    "df['chars'] = df['text'].apply(lambda x: len(x))\n",
    "print(df['chars'])"
   ]
  },
  {
   "cell_type": "code",
   "execution_count": null,
   "id": "84bcbba4",
   "metadata": {},
   "outputs": [],
   "source": [
    "# Another way to do element-wise operations, is by grouping dataframes by one or more columns. \n",
    "terms_df = df.groupby(['party'])['terms'].describe()"
   ]
  },
  {
   "cell_type": "code",
   "execution_count": null,
   "id": "bf79bc3f",
   "metadata": {},
   "outputs": [],
   "source": [
    "# Simple clean-up\n",
    "terms_df['party'] = terms_df.index.tolist()\n",
    "terms_df.reset_index(drop=True, inplace=True)\n",
    "\n",
    "# Now we can see which parties speak more often. \n",
    "terms_df"
   ]
  },
  {
   "cell_type": "code",
   "execution_count": null,
   "id": "1851365b",
   "metadata": {},
   "outputs": [],
   "source": [
    "df.groupby(['party'])['terms'].describe()"
   ]
  },
  {
   "cell_type": "code",
   "execution_count": null,
   "id": "a3103505",
   "metadata": {},
   "outputs": [],
   "source": [
    "grouped_df = df.groupby(['party', 'year'])['terms'].describe().reset_index()\n",
    "grouped_df"
   ]
  },
  {
   "cell_type": "code",
   "execution_count": null,
   "id": "fa6029e9",
   "metadata": {},
   "outputs": [],
   "source": [
    "# Extract only the mean\n",
    "grouped_df = df.groupby(['party', 'year'])['terms'].mean().reset_index()\n",
    "grouped_df"
   ]
  },
  {
   "cell_type": "code",
   "execution_count": null,
   "id": "137f2662-3ec2-4a3b-8392-b80c9ce92827",
   "metadata": {},
   "outputs": [],
   "source": [
    "# We need to make sure that Python interpret the data correctly.\n",
    "# grouped_df['year'] = grouped_df['year'].astype(int)"
   ]
  },
  {
   "cell_type": "code",
   "execution_count": null,
   "id": "ed1f0e25-8c34-414f-bc7a-bfd35812122e",
   "metadata": {},
   "outputs": [],
   "source": [
    "import seaborn as sns\n",
    "import matplotlib.pyplot as plt\n",
    "sns.set_theme()"
   ]
  },
  {
   "cell_type": "code",
   "execution_count": null,
   "id": "8834b2f0-aab7-439c-9b66-b068a1e119b4",
   "metadata": {},
   "outputs": [],
   "source": [
    "# Plot the mean number of words for each party over time\n",
    "fig, ax = plt.subplots()\n",
    "for k, v in grouped_df.groupby('party'):\n",
    "    v.plot(x='year', y='terms', label=k, ax=ax, marker='o', markersize=3)\n",
    "plt.xlabel('Year', fontsize=10)\n",
    "plt.ylabel('Average number of words', fontsize=10)\n",
    "plt.xticks(size=10)\n",
    "plt.yticks(size=10)\n",
    "plt.legend(frameon=False, fontsize=10)\n",
    "plt.show()"
   ]
  },
  {
   "cell_type": "markdown",
   "id": "cd25784e-b7d4-4431-851c-d94bc33bb65b",
   "metadata": {},
   "source": [
    "# 2. NumPy \n",
    "\n",
    "Almost everything in Python has ties to NumPy, short for **Numerical Python**. \n",
    "\n",
    "Often, you will be in a case where you have a Pandas dataframe, which you want to pass forward to NumPy. \n",
    "\n",
    "NumPy is very efficient and exploits that computers are very fast at using linear algebra. "
   ]
  },
  {
   "cell_type": "code",
   "execution_count": 4,
   "id": "4368bcd9-0dc6-4175-be7a-46d629a14b69",
   "metadata": {},
   "outputs": [],
   "source": [
    "import numpy as np"
   ]
  },
  {
   "cell_type": "markdown",
   "id": "7c0ab203-e94d-4fc4-b6ab-3415d430490d",
   "metadata": {},
   "source": [
    "### 2.1 Basic operations"
   ]
  },
  {
   "cell_type": "code",
   "execution_count": 262,
   "id": "20784331-2f23-432d-b502-0ab13b974817",
   "metadata": {},
   "outputs": [
    {
     "data": {
      "text/plain": [
       "array([0, 1, 2, 3, 4, 5, 6, 7, 8, 9])"
      ]
     },
     "execution_count": 262,
     "metadata": {},
     "output_type": "execute_result"
    }
   ],
   "source": [
    "# Create 1d array\n",
    "myarr0 = np.arange(10)\n",
    "myarr0"
   ]
  },
  {
   "cell_type": "code",
   "execution_count": 16,
   "id": "0365a974-276e-4f67-bcc9-b337cbf7717c",
   "metadata": {},
   "outputs": [],
   "source": [
    "# Identical in values to:\n",
    "mylist0 = list(range(10))"
   ]
  },
  {
   "cell_type": "code",
   "execution_count": 31,
   "id": "e50bcc5d-e5dc-4578-9eb5-4c6aad3a3274",
   "metadata": {},
   "outputs": [
    {
     "name": "stdout",
     "output_type": "stream",
     "text": [
      "CPU times: user 37 µs, sys: 28 µs, total: 65 µs\n",
      "Wall time: 70.6 µs\n"
     ]
    }
   ],
   "source": [
    "%time for _ in range(10): myarr1 = myarr0 * 2"
   ]
  },
  {
   "cell_type": "code",
   "execution_count": 18,
   "id": "342ebfa0-9e0d-4ab3-a876-6154412766b5",
   "metadata": {},
   "outputs": [
    {
     "name": "stdout",
     "output_type": "stream",
     "text": [
      "CPU times: user 10 µs, sys: 8 µs, total: 18 µs\n",
      "Wall time: 22.9 µs\n"
     ]
    }
   ],
   "source": [
    "%time for _ in range(10): mylist1 = [x * 2 for x in mylist0]"
   ]
  },
  {
   "cell_type": "code",
   "execution_count": 55,
   "id": "46fdab87-29fe-46cd-9e48-a5b721405486",
   "metadata": {},
   "outputs": [
    {
     "data": {
      "text/plain": [
       "(10,)"
      ]
     },
     "execution_count": 55,
     "metadata": {},
     "output_type": "execute_result"
    }
   ],
   "source": [
    "# What's the shape of array? (row, col) syntax\n",
    "myarr1.shape"
   ]
  },
  {
   "cell_type": "code",
   "execution_count": 264,
   "id": "72346a46-dd3a-4596-8823-665611e42092",
   "metadata": {},
   "outputs": [
    {
     "data": {
      "text/plain": [
       "array([0, 1])"
      ]
     },
     "execution_count": 264,
     "metadata": {},
     "output_type": "execute_result"
    }
   ],
   "source": [
    "# Indexing works just like for lists - get first two elements like this:\n",
    "myarr0[:2]"
   ]
  },
  {
   "cell_type": "code",
   "execution_count": 39,
   "id": "eb1e449b-b6b0-4e78-beaa-91650534cc1f",
   "metadata": {},
   "outputs": [
    {
     "data": {
      "text/plain": [
       "array([0, 2, 4, 6, 8])"
      ]
     },
     "execution_count": 39,
     "metadata": {},
     "output_type": "execute_result"
    }
   ],
   "source": [
    "# Filtering a 1d array\n",
    "myarr1[myarr1 < 10]"
   ]
  },
  {
   "cell_type": "code",
   "execution_count": 202,
   "id": "279955dd-2504-44d9-b554-a7f8fc8e7aae",
   "metadata": {},
   "outputs": [
    {
     "data": {
      "text/plain": [
       "array([ 0,  6,  8, 10])"
      ]
     },
     "execution_count": 202,
     "metadata": {},
     "output_type": "execute_result"
    }
   ],
   "source": [
    "# Filtering numbers by multiple conditions\n",
    "myarr1[(myarr1 >= 5) & (myarr1 <= 10) | (myarr1 < 2)]"
   ]
  },
  {
   "cell_type": "code",
   "execution_count": 40,
   "id": "a1011688-c819-474c-b6e0-598575a1bc59",
   "metadata": {},
   "outputs": [],
   "source": [
    "# Replacing values in a 1d array\n",
    "myarr1[myarr1 < 10] = 0"
   ]
  },
  {
   "cell_type": "code",
   "execution_count": 74,
   "id": "601805a5-7a91-47e2-859a-9bd5fee46a86",
   "metadata": {},
   "outputs": [
    {
     "data": {
      "text/plain": [
       "(10,)"
      ]
     },
     "execution_count": 74,
     "metadata": {},
     "output_type": "execute_result"
    }
   ],
   "source": [
    "# Reshaping an array\n",
    "myarr1.reshape(2,6)\n",
    "\n",
    "# Now it is two dimensional!\n",
    "myarr1.shape"
   ]
  },
  {
   "cell_type": "code",
   "execution_count": 72,
   "id": "a8b031b6-1a32-458f-b12c-a9e6aa2c8f15",
   "metadata": {},
   "outputs": [
    {
     "data": {
      "text/plain": [
       "(2, 5)"
      ]
     },
     "execution_count": 72,
     "metadata": {},
     "output_type": "execute_result"
    }
   ],
   "source": [
    "# Setting the col to -1 means that NumPy will figure it out\n",
    "myarr2 = myarr1.reshape(2, -1)"
   ]
  },
  {
   "cell_type": "code",
   "execution_count": 206,
   "id": "1eb637df-7d99-43a6-ab8e-21f09da97332",
   "metadata": {},
   "outputs": [
    {
     "name": "stdout",
     "output_type": "stream",
     "text": [
      "Dimensions of original array: (10,)\n",
      "Dimensions of modified array: (10, 1)\n"
     ]
    }
   ],
   "source": [
    "# # We can automatically increase the dimension of our array by using np.newaxis\n",
    "print(f\"Dimensions of original array: {myarr1.shape}\")\n",
    "print(f\"Dimensions of modified array: {myarr1[:, np.newaxis].shape }\")"
   ]
  },
  {
   "cell_type": "code",
   "execution_count": 208,
   "id": "fa6c342a-9f78-4918-ba33-e8602d0e4c88",
   "metadata": {},
   "outputs": [
    {
     "data": {
      "text/plain": [
       "array([1, 3, 5, 7])"
      ]
     },
     "execution_count": 208,
     "metadata": {},
     "output_type": "execute_result"
    }
   ],
   "source": [
    "# Extract indices where two arrays match\n",
    "\n",
    "a = np.array([1,2,3,2,3,4,3,4,5,6])\n",
    "b = np.array([7,2,10,2,7,4,9,4,9,8])\n",
    "\n",
    "np.where(a == b)[0]"
   ]
  },
  {
   "cell_type": "code",
   "execution_count": 86,
   "id": "6e3f3b4b-d299-4b9f-bc15-7818cedcd073",
   "metadata": {},
   "outputs": [
    {
     "data": {
      "text/plain": [
       "(array([0, 1, 2, 3, 4, 5, 6, 7, 8, 9]),\n",
       " array([ 0,  2,  4,  6,  8, 10, 12, 14, 16, 18]))"
      ]
     },
     "execution_count": 86,
     "metadata": {},
     "output_type": "execute_result"
    }
   ],
   "source": [
    "myarr0, myarr1"
   ]
  },
  {
   "cell_type": "code",
   "execution_count": 101,
   "id": "ac191c2f-d55f-4c42-88bf-65613efbe69d",
   "metadata": {},
   "outputs": [
    {
     "data": {
      "text/plain": [
       "[6, 7, 9, 8, 9, 7, 5]"
      ]
     },
     "execution_count": 101,
     "metadata": {},
     "output_type": "execute_result"
    }
   ],
   "source": [
    "# Find maximum value element-wise\n",
    "a = np.array([5, 7, 9, 8, 6, 4, 5])\n",
    "b = np.array([6, 3, 4, 8, 9, 7, 1])\n",
    "\n",
    "# Find maximum value \n",
    "[max(a,b) for a, b in zip(a, b)]"
   ]
  },
  {
   "cell_type": "code",
   "execution_count": 104,
   "id": "bd9573b5-65b2-4601-a737-4397aafa8bff",
   "metadata": {},
   "outputs": [
    {
     "data": {
      "text/plain": [
       "(2, 6)"
      ]
     },
     "execution_count": 104,
     "metadata": {},
     "output_type": "execute_result"
    }
   ],
   "source": [
    "# Find index of max and min value\n",
    "np.argmax(a), np.argmin(b)"
   ]
  },
  {
   "cell_type": "code",
   "execution_count": 105,
   "id": "a71f8501-4716-42dd-86d2-427020d677ed",
   "metadata": {},
   "outputs": [
    {
     "data": {
      "text/plain": [
       "(6.285714285714286, 1.6659862556700857, 9, 4)"
      ]
     },
     "execution_count": 105,
     "metadata": {},
     "output_type": "execute_result"
    }
   ],
   "source": [
    "# Stats\n",
    "np.mean(a), np.std(a), np.max(a), np.min(a)"
   ]
  },
  {
   "cell_type": "code",
   "execution_count": 209,
   "id": "5029832c-4e55-40c5-a210-6fbcb01036dc",
   "metadata": {},
   "outputs": [
    {
     "data": {
      "text/plain": [
       "array([0, 1])"
      ]
     },
     "execution_count": 209,
     "metadata": {},
     "output_type": "execute_result"
    }
   ],
   "source": [
    "# Find unique values\n",
    "a = np.array([0,0,1,1])\n",
    "np.unique(a)"
   ]
  },
  {
   "cell_type": "code",
   "execution_count": 211,
   "id": "6f68d38d-5286-42c8-b287-99ca73ec92ca",
   "metadata": {},
   "outputs": [
    {
     "data": {
      "text/plain": [
       "array([0, 1])"
      ]
     },
     "execution_count": 211,
     "metadata": {},
     "output_type": "execute_result"
    }
   ],
   "source": [
    "# Many numpy operations also work on lists!\n",
    "np.unique([0,0,1, 1])"
   ]
  },
  {
   "cell_type": "code",
   "execution_count": 212,
   "id": "340946c7-e2d9-4ae3-a531-3917d00ee44e",
   "metadata": {},
   "outputs": [
    {
     "data": {
      "text/plain": [
       "array([1, 2, 4, 5, 9])"
      ]
     },
     "execution_count": 212,
     "metadata": {},
     "output_type": "execute_result"
    }
   ],
   "source": [
    "# Sort an array\n",
    "a = np.array([1,2,9,5,4])\n",
    "np.sort(a)"
   ]
  },
  {
   "cell_type": "code",
   "execution_count": 215,
   "id": "aeac89c7-5a91-452d-9120-54541ebf9e64",
   "metadata": {},
   "outputs": [
    {
     "data": {
      "text/plain": [
       "array([1, 2, 4, 5, 9])"
      ]
     },
     "execution_count": 215,
     "metadata": {},
     "output_type": "execute_result"
    }
   ],
   "source": [
    "# Get indices which will sort an array\n",
    "np.argsort(a)"
   ]
  },
  {
   "cell_type": "code",
   "execution_count": null,
   "id": "ad6bf212-c8fd-4591-8dda-0a3f720db32b",
   "metadata": {},
   "outputs": [],
   "source": [
    "a[np.argsort(a)]"
   ]
  },
  {
   "cell_type": "code",
   "execution_count": null,
   "id": "eaf0b6a4-3f8e-4c22-99f0-d68b1392b14d",
   "metadata": {},
   "outputs": [],
   "source": [
    "# Save an array like this:\n",
    "np.save('some_array', a)"
   ]
  },
  {
   "cell_type": "markdown",
   "id": "44344a08-1321-42ee-8a24-961466e131a1",
   "metadata": {},
   "source": [
    "### 2.2 Joining arrays"
   ]
  },
  {
   "cell_type": "code",
   "execution_count": 226,
   "id": "a6cc849d-a2c5-4c83-864a-383d0a611ed4",
   "metadata": {},
   "outputs": [
    {
     "name": "stdout",
     "output_type": "stream",
     "text": [
      "Array: \n",
      "[[0 1 2 3 4 5 6 7 8 9]\n",
      " [1 1 1 1 1 1 1 1 1 1]]\n",
      "\n",
      "\n",
      "Shape of array: (2, 10)\n"
     ]
    }
   ],
   "source": [
    "# Vertical stacking of arrays\n",
    "a = np.arange(10)\n",
    "b = np.repeat(1, 10)\n",
    "\n",
    "m = np.vstack([a,b])\n",
    "print(f\"Array: \\n{m}\\n\\n\")\n",
    "print(f\"Shape of array: {m.shape}\")"
   ]
  },
  {
   "cell_type": "code",
   "execution_count": 70,
   "id": "f35829e1-6855-4809-b373-2287ddd1061a",
   "metadata": {},
   "outputs": [
    {
     "name": "stdout",
     "output_type": "stream",
     "text": [
      "Array: \n",
      "[[0 1 2 3 4]\n",
      " [5 6 7 8 9]\n",
      " [1 1 1 1 1]\n",
      " [1 1 1 1 1]]\n",
      "\n",
      "\n",
      "Shape of array: (4, 5)\n"
     ]
    }
   ],
   "source": [
    "a, b = a.reshape(2,5), b.reshape(2,5)\n",
    "\n",
    "m = np.vstack([a,b])\n",
    "print(f\"Array: \\n{m}\\n\\n\")\n",
    "print(f\"Shape of array: {m.shape}\")"
   ]
  },
  {
   "cell_type": "code",
   "execution_count": 224,
   "id": "16ab0505-ec91-4571-b42d-8ff48ec45dcc",
   "metadata": {},
   "outputs": [
    {
     "name": "stdout",
     "output_type": "stream",
     "text": [
      "Array: \n",
      "[0 1 2 3 4 5 6 7 8 9 1 1 1 1 1 1 1 1 1 1]\n",
      "\n",
      "\n",
      "Shape of array: (20,)\n"
     ]
    }
   ],
   "source": [
    "# Horizontal stacking - basically concatenation\n",
    "# Solution:\n",
    "a = np.arange(10)\n",
    "b = np.repeat(1, 10)\n",
    "\n",
    "m = np.hstack([a,b])\n",
    "print(f\"Array: \\n{m}\\n\\n\")\n",
    "print(f\"Shape of array: {m.shape}\")"
   ]
  },
  {
   "cell_type": "code",
   "execution_count": 221,
   "id": "5910ece7-c28f-49f3-b716-ed4b6f473fb5",
   "metadata": {},
   "outputs": [
    {
     "name": "stdout",
     "output_type": "stream",
     "text": [
      "[0 1 2 3 4 5 6 7 8 9 1 1 1 1 1 1 1 1 1 1]\n"
     ]
    }
   ],
   "source": [
    "# Concatenation: row-wise\n",
    "print(np.concatenate([a, b], axis=0))"
   ]
  },
  {
   "cell_type": "code",
   "execution_count": 230,
   "id": "5f194ca9-d0ca-4175-a367-e3c91e36637d",
   "metadata": {},
   "outputs": [
    {
     "ename": "AxisError",
     "evalue": "axis 1 is out of bounds for array of dimension 1",
     "output_type": "error",
     "traceback": [
      "\u001b[0;31m---------------------------------------------------------------------------\u001b[0m",
      "\u001b[0;31mAxisError\u001b[0m                                 Traceback (most recent call last)",
      "Cell \u001b[0;32mIn[230], line 2\u001b[0m\n\u001b[1;32m      1\u001b[0m \u001b[38;5;66;03m# Concatenation - vertically\u001b[39;00m\n\u001b[0;32m----> 2\u001b[0m \u001b[43mnp\u001b[49m\u001b[38;5;241;43m.\u001b[39;49m\u001b[43mconcatenate\u001b[49m\u001b[43m(\u001b[49m\u001b[43m[\u001b[49m\u001b[43ma\u001b[49m\u001b[43m,\u001b[49m\u001b[43m \u001b[49m\u001b[43mb\u001b[49m\u001b[43m]\u001b[49m\u001b[43m,\u001b[49m\u001b[43m \u001b[49m\u001b[43maxis\u001b[49m\u001b[38;5;241;43m=\u001b[39;49m\u001b[38;5;241;43m1\u001b[39;49m\u001b[43m)\u001b[49m\n\u001b[1;32m      4\u001b[0m \u001b[38;5;66;03m# Not possible due to 1d arrays!\u001b[39;00m\n",
      "File \u001b[0;32m<__array_function__ internals>:200\u001b[0m, in \u001b[0;36mconcatenate\u001b[0;34m(*args, **kwargs)\u001b[0m\n",
      "\u001b[0;31mAxisError\u001b[0m: axis 1 is out of bounds for array of dimension 1"
     ]
    }
   ],
   "source": [
    "# Concatenation: column-wise\n",
    "np.concatenate([a, b], axis=1)\n",
    "\n",
    "# Not possible due to 1d arrays!"
   ]
  },
  {
   "cell_type": "code",
   "execution_count": 241,
   "id": "dd9c003d-a8a0-44f8-b2de-d4fb5bd5e532",
   "metadata": {},
   "outputs": [
    {
     "data": {
      "text/plain": [
       "array([[0, 1, 2, 3, 4, 1, 1, 1, 1, 1],\n",
       "       [5, 6, 7, 8, 9, 1, 1, 1, 1, 1]])"
      ]
     },
     "execution_count": 241,
     "metadata": {},
     "output_type": "execute_result"
    }
   ],
   "source": [
    "a, b = a.reshape(2,5), b.reshape(2,5)\n",
    "np.concatenate([a, b], axis=1)"
   ]
  },
  {
   "cell_type": "markdown",
   "id": "6a93bdae-cd85-49c6-a7ff-2f6c91aedd4b",
   "metadata": {},
   "source": [
    "### 2.3 N-dimensional arrays (matrices)\n",
    "\n",
    "The real power of NumPy comes from the ability to handle N dimensions and not just a single one. We have already seen that arrays can have more than one dimension."
   ]
  },
  {
   "cell_type": "code",
   "execution_count": 106,
   "id": "7ab09774-56e8-4bf7-b2bf-d6e09d9ca1c1",
   "metadata": {},
   "outputs": [
    {
     "data": {
      "text/plain": [
       "array([[ True,  True,  True],\n",
       "       [ True,  True,  True],\n",
       "       [ True,  True,  True]])"
      ]
     },
     "execution_count": 106,
     "metadata": {},
     "output_type": "execute_result"
    }
   ],
   "source": [
    "# Create a matrix of dimension 3x3 of booleans. \n",
    "\n",
    "# One solution:\n",
    "m0 = np.ones((3,3), dtype=bool)\n",
    "\n",
    "# Another solution\n",
    "m1 = np.ones((9), dtype=bool).reshape(3,3)\n",
    "\n",
    "m0"
   ]
  },
  {
   "cell_type": "code",
   "execution_count": 157,
   "id": "ffc05123-369d-4dfc-9d6b-839388419f35",
   "metadata": {},
   "outputs": [],
   "source": [
    "# Generate 3x4 matrix with random numbers\n",
    "array = np.random.randn(2, 3)"
   ]
  },
  {
   "cell_type": "code",
   "execution_count": 158,
   "id": "a3923a53-c64b-4551-bc62-f2a73cad7381",
   "metadata": {},
   "outputs": [
    {
     "data": {
      "text/plain": [
       "True"
      ]
     },
     "execution_count": 158,
     "metadata": {},
     "output_type": "execute_result"
    }
   ],
   "source": [
    "# Subsetting row 1, column 1 (NB: Zero-indexing!!!)\n",
    "array[1,1] == array[1][1]"
   ]
  },
  {
   "cell_type": "code",
   "execution_count": 159,
   "id": "a15c2b9c-b76e-4eaf-8210-591e432a0638",
   "metadata": {},
   "outputs": [
    {
     "data": {
      "text/plain": [
       "array([[1.176514  , 0.53616497]])"
      ]
     },
     "execution_count": 159,
     "metadata": {},
     "output_type": "execute_result"
    }
   ],
   "source": [
    "# indexing row 1, and col from 1 to the last col\n",
    "array[1:,1:]"
   ]
  },
  {
   "cell_type": "code",
   "execution_count": 160,
   "id": "4863a094-93a5-4d4a-a687-1689e39a84cb",
   "metadata": {},
   "outputs": [
    {
     "data": {
      "text/plain": [
       "array([[ 0.42958903,  1.176514  ,  0.53616497],\n",
       "       [ 0.81578153, -0.92932608,  0.18363494]])"
      ]
     },
     "execution_count": 160,
     "metadata": {},
     "output_type": "execute_result"
    }
   ],
   "source": [
    "# Reverse rows\n",
    "array[::-1 , :]"
   ]
  },
  {
   "cell_type": "code",
   "execution_count": 161,
   "id": "444afee3-6601-4822-bcd0-400f253910d7",
   "metadata": {},
   "outputs": [
    {
     "data": {
      "text/plain": [
       "array([[ 0.18363494, -0.92932608,  0.81578153],\n",
       "       [ 0.53616497,  1.176514  ,  0.42958903]])"
      ]
     },
     "execution_count": 161,
     "metadata": {},
     "output_type": "execute_result"
    }
   ],
   "source": [
    "# Reverse cols\n",
    "array[: , ::-1]"
   ]
  },
  {
   "cell_type": "code",
   "execution_count": 259,
   "id": "e73a32ba-043d-4279-8ab5-45300646d7f0",
   "metadata": {},
   "outputs": [
    {
     "data": {
      "text/plain": [
       "(2, 2, 3)"
      ]
     },
     "execution_count": 259,
     "metadata": {},
     "output_type": "execute_result"
    }
   ],
   "source": [
    "multiarray = np.array([[[1, 2, 3], [4, 5, 6]], [[7, 8, 9], [10, 11, 12]]])\n",
    "multiarray.shape            # 2 arrays, each with dimension 2x3"
   ]
  },
  {
   "cell_type": "code",
   "execution_count": 261,
   "id": "5fdfc525-3dca-4314-bcd2-35d2cd61010a",
   "metadata": {},
   "outputs": [
    {
     "data": {
      "text/plain": [
       "(3, 2, 2)"
      ]
     },
     "execution_count": 261,
     "metadata": {},
     "output_type": "execute_result"
    }
   ],
   "source": [
    "multiarray = np.array([[[1, 2], [4, 5]], [[7, 8], [10, 11]], [[9, 10], [10, 10]]])\n",
    "multiarray.shape            # 3 arrays, each with dimension 2x2"
   ]
  },
  {
   "cell_type": "markdown",
   "id": "0ed020dd-c069-469b-ba12-e6c64076a4ab",
   "metadata": {},
   "source": [
    "### 2.4 Missing values"
   ]
  },
  {
   "cell_type": "code",
   "execution_count": 185,
   "id": "ddf4ab88-3094-4bcd-afdc-ebb2390c9390",
   "metadata": {},
   "outputs": [
    {
     "data": {
      "text/plain": [
       "array([False, False, False,  True,  True, False])"
      ]
     },
     "execution_count": 185,
     "metadata": {},
     "output_type": "execute_result"
    }
   ],
   "source": [
    "# Find missing values using np.isnan\n",
    "missing_array = np.array([1,2,2, np.nan, np.nan, 3])\n",
    "missing_bool = np.isnan(missing_array)\n",
    "missing_bool"
   ]
  },
  {
   "cell_type": "code",
   "execution_count": 176,
   "id": "53fc1bdc-4ea1-4701-b006-032c778953dd",
   "metadata": {},
   "outputs": [
    {
     "data": {
      "text/plain": [
       "array([3, 4])"
      ]
     },
     "execution_count": 176,
     "metadata": {},
     "output_type": "execute_result"
    }
   ],
   "source": [
    "# Combine with np.where to get indices\n",
    "np.where(missing_bool)[0]"
   ]
  },
  {
   "cell_type": "code",
   "execution_count": 184,
   "id": "5dd114e1-c059-42e5-b69b-6697b02dc2d8",
   "metadata": {},
   "outputs": [
    {
     "data": {
      "text/plain": [
       "array([[False, False, False,  True,  True, False],\n",
       "       [False,  True, False, False,  True, False]])"
      ]
     },
     "execution_count": 184,
     "metadata": {},
     "output_type": "execute_result"
    }
   ],
   "source": [
    "# np.isnan also works on N-dimensional arrays\n",
    "missing_array0 = np.array([1,2,2, np.nan, np.nan, 3])\n",
    "missing_array1 = np.array([1,np.nan,2, 3, np.nan, 3])\n",
    "np.isnan(np.vstack([missing_array0, missing_array1]))"
   ]
  },
  {
   "cell_type": "markdown",
   "id": "eb2f38ea-bf7f-4e6d-bc18-dfe3cc76a924",
   "metadata": {},
   "source": [
    "# 3. Classes \n",
    "\n",
    "Classes are a fundamental concept in object-oriented programming, and they allow you to create custom data types with attributes (variables) and methods (functions) associated with them. \n",
    "\n",
    "You will rarely need to make classes yourself, but everything you use is a class!"
   ]
  },
  {
   "cell_type": "code",
   "execution_count": 274,
   "id": "e411f894-9355-436b-bb3c-4b3418af1e9d",
   "metadata": {},
   "outputs": [],
   "source": [
    "# Define a class named \"Student\" - we use the 'class' keyword\n",
    "class Student:\n",
    "    \n",
    "    # Constructor method (__init__) initializes the object's attributes\n",
    "    def __init__(self, name, age, grade):\n",
    "        self.name = name\n",
    "        self.age = age\n",
    "        self.grade = grade\n",
    "\n",
    "    # Method to display student information\n",
    "    def display_info(self):\n",
    "        logage = np.log(self.age)\n",
    "        print(f\"Name: {self.name}, Age: {self.age}, Grade: {self.grade}\")"
   ]
  },
  {
   "cell_type": "code",
   "execution_count": 272,
   "id": "32ccf33f-b61b-4029-9540-1c32d707ee79",
   "metadata": {},
   "outputs": [
    {
     "name": "stdout",
     "output_type": "stream",
     "text": [
      "Student 1:\n",
      "Name: Alice, Age: 18, Grade: A\n",
      "\n",
      "Student 2:\n",
      "Name: Bob, Age: 17, Grade: B\n"
     ]
    }
   ],
   "source": [
    "# Create instances (objects) of the Student class\n",
    "student1 = Student(\"Alice\", 18, \"A\")\n",
    "student2 = Student(\"Bob\", 17, \"B\")\n",
    "\n",
    "# Accessing attributes and calling methods of the objects\n",
    "print(\"Student 1:\")\n",
    "student1.display_info()  \n",
    "\n",
    "print(\"\\nStudent 2:\")\n",
    "student2.display_info()"
   ]
  },
  {
   "cell_type": "code",
   "execution_count": 270,
   "id": "622a8326-d248-456d-b5bc-627021023a45",
   "metadata": {},
   "outputs": [
    {
     "data": {
      "text/plain": [
       "('Alice', 18, 'A')"
      ]
     },
     "execution_count": 270,
     "metadata": {},
     "output_type": "execute_result"
    }
   ],
   "source": [
    "student1.name, student1.age, student1.grade"
   ]
  },
  {
   "cell_type": "code",
   "execution_count": 275,
   "id": "c45ca4b2-ca1d-4550-b50f-67eb7a5e8633",
   "metadata": {},
   "outputs": [
    {
     "ename": "AttributeError",
     "evalue": "'Student' object has no attribute 'logage'",
     "output_type": "error",
     "traceback": [
      "\u001b[0;31m---------------------------------------------------------------------------\u001b[0m",
      "\u001b[0;31mAttributeError\u001b[0m                            Traceback (most recent call last)",
      "Cell \u001b[0;32mIn[275], line 1\u001b[0m\n\u001b[0;32m----> 1\u001b[0m \u001b[43mstudent1\u001b[49m\u001b[38;5;241;43m.\u001b[39;49m\u001b[43mlogage\u001b[49m\n",
      "\u001b[0;31mAttributeError\u001b[0m: 'Student' object has no attribute 'logage'"
     ]
    }
   ],
   "source": [
    "student1.logage"
   ]
  },
  {
   "cell_type": "code",
   "execution_count": 295,
   "id": "55d5a0fb-ee79-48bf-bcec-722dd07cbbfc",
   "metadata": {},
   "outputs": [],
   "source": [
    "#  Sometimes, we want a class to inherit from another class. We will encounter this when we build neural networks with PyTorch.\n",
    "\n",
    "class Person:\n",
    "    \"\"\"Example of the base class\"\"\"\n",
    "    def __init__(self, name):\n",
    "        self.name = name\n",
    "\n",
    "    def get_name(self):\n",
    "        \"\"\"Get person name\"\"\"\n",
    "        return self.name\n",
    "\n",
    "\n",
    "class Employee(Person):\n",
    "    def __init__(self, name, staff_id):\n",
    "        super().__init__(name)\n",
    "        self.staff_id = staff_id\n",
    "\n",
    "    def get_full_id(self):\n",
    "        \"\"\"Get full employee id\"\"\"\n",
    "        return self.get_name() + ', ' + str(self.staff_id)"
   ]
  },
  {
   "cell_type": "code",
   "execution_count": 297,
   "id": "773288a8-f4f1-4a74-8942-c29f9d15c83a",
   "metadata": {},
   "outputs": [],
   "source": [
    "emp = Employee(name='Bob', staff_id=10)"
   ]
  },
  {
   "cell_type": "code",
   "execution_count": 286,
   "id": "774889fc-b7b0-4b1c-88de-559487226c66",
   "metadata": {},
   "outputs": [
    {
     "data": {
      "text/plain": [
       "'Bob'"
      ]
     },
     "execution_count": 286,
     "metadata": {},
     "output_type": "execute_result"
    }
   ],
   "source": [
    "# Employee inherits the .get_name() method from the Person class!\n",
    "emp.get_name()"
   ]
  },
  {
   "cell_type": "code",
   "execution_count": 300,
   "id": "7b7d0fac-537b-4dac-b592-2bf9842bf97a",
   "metadata": {},
   "outputs": [
    {
     "data": {
      "text/plain": [
       "'Bob, 10'"
      ]
     },
     "execution_count": 300,
     "metadata": {},
     "output_type": "execute_result"
    }
   ],
   "source": [
    "# but we can still access the methods specific to the new class\n",
    "emp.get_full_id()"
   ]
  },
  {
   "cell_type": "markdown",
   "id": "f791bb62-4ae1-4da5-9ea4-b31d016f1de7",
   "metadata": {},
   "source": [
    "# 4. Files \n",
    "\n",
    "Reading and writing files in Python is usually quite simple and have, as everything else, awesome documentation and community-support. \n",
    "\n",
    "There are a few ways that it is good to get your hands around:\n",
    "\n",
    "1. Pandas\n",
    "2. NumPy\n",
    "3. Pickle\n",
    "4. Parquet\n",
    "5. Base Python\n"
   ]
  },
  {
   "cell_type": "markdown",
   "id": "52c7f825-2f9b-4fd2-a6e2-fce231478a93",
   "metadata": {},
   "source": [
    "### 4.1 Pandas"
   ]
  },
  {
   "cell_type": "code",
   "execution_count": 3,
   "id": "73d10b3b-675c-4928-941f-146ac4f84184",
   "metadata": {},
   "outputs": [],
   "source": [
    "# Reading\n",
    "csv_file = os.path.join(base_dir, 'Dropbox/research/stigma-paper/data/emotion/emotionality_scores.csv')\n",
    "df = pd.read_csv(csv_file)"
   ]
  },
  {
   "cell_type": "code",
   "execution_count": 4,
   "id": "d9918998-d3bc-419e-9519-adce82248b4a",
   "metadata": {},
   "outputs": [],
   "source": [
    "# Writing\n",
    "df.to_csv('/home/rask/Dropbox/teaching/css_fall2023/data/emotionality_scores-new.csv', index=False)"
   ]
  },
  {
   "cell_type": "markdown",
   "id": "86c1988d-a966-40a5-89bf-f27084a2a664",
   "metadata": {},
   "source": [
    "### 4.2 NumPy"
   ]
  },
  {
   "cell_type": "code",
   "execution_count": 21,
   "id": "7a1ccc0b-c38e-4de2-9b14-28dfa9a2df62",
   "metadata": {},
   "outputs": [],
   "source": [
    "# Reading\n",
    "from io import StringIO   # StringIO behaves like a file object\n",
    "\n",
    "c = StringIO(\"0 1\\n2 3\")\n",
    "\n",
    "a = np.loadtxt(c)"
   ]
  },
  {
   "cell_type": "code",
   "execution_count": null,
   "id": "3677b6bf-f985-4d43-bb0b-2386f912234b",
   "metadata": {},
   "outputs": [],
   "source": [
    "# Writing\n",
    "np.savetxt('FILEPATH', c, delimiter=' ')"
   ]
  },
  {
   "cell_type": "markdown",
   "id": "113b1698-ab4b-4332-bcfd-14aed3341926",
   "metadata": {},
   "source": [
    "### 4.3 Pickle"
   ]
  },
  {
   "cell_type": "code",
   "execution_count": 8,
   "id": "0032a193-3e53-4fe8-8ded-45b5062014f0",
   "metadata": {},
   "outputs": [],
   "source": [
    "import pickle"
   ]
  },
  {
   "cell_type": "code",
   "execution_count": 12,
   "id": "c4f3852a-1293-4893-8b5d-78b4e0dd511d",
   "metadata": {},
   "outputs": [],
   "source": [
    "# Reading\n",
    "# The 'rb' argument specifies that we are loading a file\n",
    "fpath = '/home/rask/Dropbox/teaching/css_fall2023/data/diarization'\n",
    "with open(fpath, 'rb') as f:\n",
    "    data = pickle.load(f)\n",
    "    f.close()"
   ]
  },
  {
   "cell_type": "code",
   "execution_count": 14,
   "id": "80635ae0-1e45-4ca1-aa3a-15f1472490de",
   "metadata": {},
   "outputs": [],
   "source": [
    "# Writing\n",
    "# The 'wb' argument specifies that we are saving a file\n",
    "fpath = '/home/rask/Dropbox/teaching/css_fall2023/data/diarization-new'\n",
    "with open(fpath, 'wb') as f:\n",
    "    pickle.dump(data, f)       # object in first pos, filepath in second pos\n",
    "    f.close()"
   ]
  },
  {
   "cell_type": "markdown",
   "id": "035afc81-02e6-4232-b431-7566ef1cb668",
   "metadata": {},
   "source": [
    "### 4.4 Parquet"
   ]
  },
  {
   "cell_type": "code",
   "execution_count": 16,
   "id": "2928b407-999c-4118-930a-c019790728f5",
   "metadata": {},
   "outputs": [],
   "source": [
    "import pyarrow as pa"
   ]
  },
  {
   "cell_type": "code",
   "execution_count": 17,
   "id": "f4326f68-3c26-4587-8da6-be803c2e8f46",
   "metadata": {},
   "outputs": [],
   "source": [
    "parquet_table = pa.Table.from_pandas(df)"
   ]
  },
  {
   "cell_type": "code",
   "execution_count": 20,
   "id": "dd7def41-e007-442a-a17e-127b2f8975d7",
   "metadata": {},
   "outputs": [],
   "source": [
    "pa.parquet.write_table(parquet_table, '/home/rask/Dropbox/teaching/css_fall2023/data/emotionality_scores-new.parquet')"
   ]
  },
  {
   "cell_type": "markdown",
   "id": "1e8bb52f-c878-44e8-9258-2870106073be",
   "metadata": {},
   "source": [
    "### 4.5 Base Python"
   ]
  },
  {
   "cell_type": "code",
   "execution_count": 43,
   "id": "f0a96427-7821-4e8f-8e84-2ebe738e4a45",
   "metadata": {},
   "outputs": [
    {
     "name": "stdout",
     "output_type": "stream",
     "text": [
      "['Mette Frederiksen, Nicolai Wammen']\n",
      "['Lars Løkke Rasmussen, Jon Stephensen']\n",
      "['Jakob Ellemann-Jensen, Stephanie Lose']\n"
     ]
    }
   ],
   "source": [
    "import csv\n",
    "fpath = '/home/rask/Dropbox/teaching/css_fall2023/data/tabseparated.txt'\n",
    "\n",
    "# Reading\n",
    "with open(fpath, newline = '') as games:                                                                                          \n",
    "    \treader = csv.reader(games, delimiter='\\t')\n",
    "    \tfor read in reader:\n",
    "    \t\tprint(read)\n",
    "\n",
    "# You will never write a file like this, I assure you. Too tedious."
   ]
  }
 ],
 "metadata": {
  "kernelspec": {
   "display_name": "Python 3 (ipykernel)",
   "language": "python",
   "name": "python3"
  },
  "language_info": {
   "codemirror_mode": {
    "name": "ipython",
    "version": 3
   },
   "file_extension": ".py",
   "mimetype": "text/x-python",
   "name": "python",
   "nbconvert_exporter": "python",
   "pygments_lexer": "ipython3",
   "version": "3.10.12"
  }
 },
 "nbformat": 4,
 "nbformat_minor": 5
}
