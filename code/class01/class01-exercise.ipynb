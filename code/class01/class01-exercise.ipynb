{
 "cells": [
  {
   "cell_type": "markdown",
   "id": "19555610",
   "metadata": {},
   "source": [
    "# Class 1: Exercise"
   ]
  },
  {
   "cell_type": "markdown",
   "id": "413d34e0",
   "metadata": {},
   "source": [
    "## Question 1: Lists"
   ]
  },
  {
   "cell_type": "markdown",
   "id": "fa275697",
   "metadata": {},
   "source": [
    "#### Exercise 1.1: \n",
    "Start by writing a list that have numbers from 0-10. Call the object `list1`. \n",
    "\n",
    "*Hint*: Use the `range()` function. "
   ]
  },
  {
   "cell_type": "markdown",
   "id": "e7095803",
   "metadata": {},
   "source": [
    "#### Solution 1.1"
   ]
  },
  {
   "cell_type": "code",
   "execution_count": null,
   "id": "f0d91346",
   "metadata": {},
   "outputs": [],
   "source": []
  },
  {
   "cell_type": "markdown",
   "id": "907502d8",
   "metadata": {},
   "source": [
    "#### Exercise 1.2\n",
    "\n",
    "Mastering indexing and slicing makes your Python life way more easier. \n",
    "\n",
    "Create a list `list1 = [1, 3, 5, 7, 9]`. \n",
    "\n",
    "How can you extract the first element? How about the third element? And what about the last element?\n",
    "\n",
    "When you have done that extract elements from the first to the third element. The third element should be included as well."
   ]
  },
  {
   "cell_type": "markdown",
   "id": "f6d675a8",
   "metadata": {},
   "source": [
    "#### Solution 1.2"
   ]
  },
  {
   "cell_type": "code",
   "execution_count": null,
   "id": "403071be",
   "metadata": {},
   "outputs": [],
   "source": [
    "# Define list \n",
    "list1 = [1, 3, 5, 7, 9]"
   ]
  },
  {
   "cell_type": "code",
   "execution_count": null,
   "id": "01dd4e48",
   "metadata": {},
   "outputs": [],
   "source": [
    "# First element\n"
   ]
  },
  {
   "cell_type": "code",
   "execution_count": null,
   "id": "05f60701",
   "metadata": {},
   "outputs": [],
   "source": [
    "# Third element\n"
   ]
  },
  {
   "cell_type": "code",
   "execution_count": null,
   "id": "1dcfd296",
   "metadata": {},
   "outputs": [],
   "source": [
    "# Last element\n"
   ]
  },
  {
   "cell_type": "code",
   "execution_count": null,
   "id": "4f3583d1",
   "metadata": {},
   "outputs": [],
   "source": [
    "# First to third element\n"
   ]
  },
  {
   "cell_type": "markdown",
   "id": "ae83c6c1",
   "metadata": {},
   "source": [
    "#### Exercise 1.3\n",
    "Using list comprehension, remove every second element from `list1` starting from the second element (1) in the list. Save the new list in an object called `list2`.\n",
    "\n",
    "*Hint*: Recall that lists can be indexed using colons `::` where the syntax is: start, stop, step. "
   ]
  },
  {
   "cell_type": "markdown",
   "id": "06596d78",
   "metadata": {},
   "source": [
    "#### Solution 1.3"
   ]
  },
  {
   "cell_type": "code",
   "execution_count": null,
   "id": "f3f2170f",
   "metadata": {},
   "outputs": [],
   "source": []
  },
  {
   "cell_type": "markdown",
   "id": "1f997f96",
   "metadata": {},
   "source": [
    "#### Exercise 1.4\n",
    "\n",
    "Assume we have the list of tuples `[(2, 5), (1, 2), (4, 4), (2, 3), (2, 1)]` saved as `list_of_tuples`.\n",
    "\n",
    "\n",
    "\n",
    "Sort list using the `sorted()` function by the last number of each tuple in the list.   \n"
   ]
  },
  {
   "cell_type": "markdown",
   "id": "ad474225",
   "metadata": {},
   "source": [
    "#### Solution 1.4"
   ]
  },
  {
   "cell_type": "code",
   "execution_count": null,
   "id": "b5362a4d",
   "metadata": {},
   "outputs": [],
   "source": [
    "# Generate list of tuples:\n",
    "list_of_tuples = [(2, 5), (1, 2), (4, 4), (2, 3), (2, 1)]"
   ]
  },
  {
   "cell_type": "code",
   "execution_count": null,
   "id": "b4a22d40",
   "metadata": {},
   "outputs": [],
   "source": [
    "# Sort by the last element:\n"
   ]
  },
  {
   "cell_type": "markdown",
   "id": "a0a56a00",
   "metadata": {},
   "source": [
    "#### Exercise 1.5\n",
    "\n",
    "We now want to append a series of numbers to a list. \n",
    "\n",
    "Our origibal list looks like this `original_list = [10,20,30,40,50,60,70,80,90,100]`.\n",
    "\n",
    "Append 110, 120 and 130 to the list. \n",
    "\n",
    "*Hint:* Use the `range()` function and append each number in a for loop or using a comprehension. "
   ]
  },
  {
   "cell_type": "markdown",
   "id": "0965af9c",
   "metadata": {},
   "source": [
    "#### Solution 1.5"
   ]
  },
  {
   "cell_type": "code",
   "execution_count": null,
   "id": "cbc1e0ee",
   "metadata": {},
   "outputs": [],
   "source": [
    "# Define list\n",
    "original_list = [10, 20, 30, 40, 50, 60, 70, 80, 90, 100]"
   ]
  },
  {
   "cell_type": "code",
   "execution_count": null,
   "id": "427ac228",
   "metadata": {},
   "outputs": [],
   "source": [
    "# Append:"
   ]
  },
  {
   "cell_type": "markdown",
   "id": "cff00f84",
   "metadata": {},
   "source": [
    "#### Exercise 1.6\n",
    "\n",
    "We now realise that we only wants to append if the value is not already in the list. \n",
    "\n",
    "Using your newly updated list, append 110, 120, 130, 140, 150 and 152 to the list if the value is not already present.\n",
    "Write a for loop that prints messages of whether the value is in the original list or not. Use `f\"{}\"` strings.\n",
    "\n",
    "*Hint:* Create a list of numbers to append. Create 110-150 using the `range` function and add 152 by concatenating two lists together using `+`"
   ]
  },
  {
   "cell_type": "markdown",
   "id": "45540427",
   "metadata": {},
   "source": [
    "#### Solution 1.6"
   ]
  },
  {
   "cell_type": "code",
   "execution_count": null,
   "id": "cd3944a0",
   "metadata": {},
   "outputs": [],
   "source": [
    "# Generate list of numbers to be appended"
   ]
  },
  {
   "cell_type": "code",
   "execution_count": null,
   "id": "dc3c01e1",
   "metadata": {},
   "outputs": [],
   "source": [
    "# Append if not already present"
   ]
  },
  {
   "cell_type": "markdown",
   "id": "1ed4491d",
   "metadata": {},
   "source": [
    "#### Exercise 1.7 \n",
    "\n",
    "Lists can also store lists themselves. Create a list of lists like this: `nested_list = [[1, 2, 3], ['a', 'b', 'c']]`\n",
    "\n",
    "Count the length of the list and each sublist. For the latter, you can use list comprehension or a for loop. "
   ]
  },
  {
   "cell_type": "markdown",
   "id": "46e968c4",
   "metadata": {},
   "source": [
    "#### Solution 1.7"
   ]
  },
  {
   "cell_type": "code",
   "execution_count": null,
   "id": "98d1c788",
   "metadata": {},
   "outputs": [],
   "source": [
    "nested_list = [[1, 2, 3], ['a', 'b', 'c', 'd']]"
   ]
  },
  {
   "cell_type": "code",
   "execution_count": null,
   "id": "59bc3429",
   "metadata": {},
   "outputs": [],
   "source": [
    "# Print length of the nested list:"
   ]
  },
  {
   "cell_type": "code",
   "execution_count": null,
   "id": "11e01170",
   "metadata": {},
   "outputs": [],
   "source": [
    "# Print length of the each sublist:"
   ]
  },
  {
   "cell_type": "markdown",
   "id": "b9f12547",
   "metadata": {},
   "source": [
    "## Question 2: Dictionaries\n",
    "\n",
    "In this question, we will explore the power of dictionaries. We start by creating two separate lists:"
   ]
  },
  {
   "cell_type": "code",
   "execution_count": null,
   "id": "97fd4491",
   "metadata": {},
   "outputs": [],
   "source": [
    "import pandas as pd"
   ]
  },
  {
   "cell_type": "code",
   "execution_count": null,
   "id": "b18f569d",
   "metadata": {},
   "outputs": [],
   "source": [
    "# Read table directly from HTML using pandas\n",
    "tables = pd.read_html(\"https://da.wikipedia.org/wiki/Regeringen_Mette_Frederiksen_II\")"
   ]
  },
  {
   "cell_type": "code",
   "execution_count": null,
   "id": "ef81cfb2",
   "metadata": {},
   "outputs": [],
   "source": [
    "# Access the correct table\n",
    "df = tables[2]\n",
    "bools = df.iloc[:, 5] == 'Nuværende'\n",
    "df = df[bools]\n",
    "del tables\n",
    "\n",
    "# Do some data cleaning \n",
    "df.columns.values[1] = \"title\"\n",
    "df.columns.values[3] = \"name\"\n",
    "df.columns.values[4] = \"date\"\n",
    "df.columns.values[6] = \"party\"\n",
    "df.columns = df.columns.str.strip()\n",
    "df = df.reset_index(drop=True)\n",
    "\n",
    "# Extract columns we want to work with\n",
    "df = df[['title', 'name', 'date', 'party']]\n",
    "\n",
    "# Now we are ready to define the lists\n",
    "title = df['title']\n",
    "name = df['name']\n",
    "date = df['date']\n",
    "party = df['party']"
   ]
  },
  {
   "cell_type": "markdown",
   "id": "3c765936",
   "metadata": {},
   "source": [
    "#### Exercise 2.1\n",
    "\n",
    "Now that we have extracted the relevant information, convert `title`, `name`, `date`, and `party` to lists. \n",
    "\n",
    "Before you do so, use the builtin-function `type()` to check which type they are. \n",
    "\n",
    "Save the lists with the same of the object and then _list (e.g. title_list)."
   ]
  },
  {
   "cell_type": "markdown",
   "id": "ab006b7d",
   "metadata": {},
   "source": [
    "#### Solution 2.1"
   ]
  },
  {
   "cell_type": "code",
   "execution_count": null,
   "id": "923d32bb",
   "metadata": {},
   "outputs": [],
   "source": [
    "# Check the type of title, name, date and party using the type() function:"
   ]
  },
  {
   "cell_type": "code",
   "execution_count": null,
   "id": "49bef8af",
   "metadata": {},
   "outputs": [],
   "source": [
    "# Convert each object to a list. Do you use the list()-function or the list brackets []?"
   ]
  },
  {
   "cell_type": "code",
   "execution_count": null,
   "id": "d966976f",
   "metadata": {},
   "outputs": [],
   "source": [
    "# Assert that party_list is indeed a list"
   ]
  },
  {
   "cell_type": "markdown",
   "id": "42480dc5",
   "metadata": {},
   "source": [
    "#### Exercise 2.2\n",
    "Now we have created four lists. We now want to combine these into a dictionary. Start by creating a dictionary with the name of the minister as the key and the party as the value. \n",
    "\n",
    "*Hint:* There are multiple solutions. You can use a for loop with the `enumerate()` or `range()` function. Alternatively, you use the `zip()` method. The latter is most elegant, but all do the trick."
   ]
  },
  {
   "cell_type": "markdown",
   "id": "e409f1b3",
   "metadata": {},
   "source": [
    "#### Solution 2.2"
   ]
  },
  {
   "cell_type": "markdown",
   "id": "46bb2631",
   "metadata": {},
   "source": [
    "#### Exercise 2.3 (Tricky)\n",
    "\n",
    "We will now see how dictionaries can contain nested dictionaries - just like a list can contain multiple lists.\n",
    "\n",
    "Create a dictionary called `minister_dict`. The keys of the dictionary should be the title of the minister.\n",
    "Each key should then have its own dictionary with the keys being the name of the minister, the minister's party and the date.\n",
    "\n",
    "*Hint:* Use dictionary comprehension and the `zip()` function to group each list element-wise."
   ]
  },
  {
   "cell_type": "markdown",
   "id": "784b90cd",
   "metadata": {},
   "source": [
    "#### Solution 2.3"
   ]
  },
  {
   "cell_type": "code",
   "execution_count": null,
   "id": "542ff67d",
   "metadata": {},
   "outputs": [],
   "source": [
    "# Write the dictionary comprehension here:"
   ]
  }
 ],
 "metadata": {
  "kernelspec": {
   "display_name": "Python 3 (ipykernel)",
   "language": "python",
   "name": "python3"
  },
  "language_info": {
   "codemirror_mode": {
    "name": "ipython",
    "version": 3
   },
   "file_extension": ".py",
   "mimetype": "text/x-python",
   "name": "python",
   "nbconvert_exporter": "python",
   "pygments_lexer": "ipython3",
   "version": "3.10.12"
  }
 },
 "nbformat": 4,
 "nbformat_minor": 5
}
