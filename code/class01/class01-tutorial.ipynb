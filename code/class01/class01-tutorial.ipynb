{
 "cells": [
  {
   "cell_type": "markdown",
   "id": "32c7c999",
   "metadata": {},
   "source": [
    "# Coding Tutorial - Class 1\n",
    "\n",
    "### Introduction to Python\n",
    "\n",
    "###### 1. Syntax and Variables\n",
    "    1.1 Objects\n",
    "    1.2 Indentation\n",
    "\n",
    "\n",
    "###### 2. Data Types\n",
    "    2.1 Integers\n",
    "    2.2 Booleans\n",
    "    2.3 Floats\n",
    "    2.4 Strings\n",
    "\n",
    "###### 3. Operators\n",
    "    3.1 Arithmetic\n",
    "    3.2 Membership\n",
    "    3.3 Identity\n",
    "    3.4 Logical\n",
    "    3.5 Comparison\n",
    "\n",
    "###### 4. Data Structures\n",
    "    4.1 Lists\n",
    "    4.2 Dictionaries\n",
    "    4.3 Sets\n",
    "\n",
    "###### 5. Control Flow\n",
    "    5.1 Iteration \n",
    "    5.2 Conditional iteration\n",
    "\n",
    "###### 6. Comprehensions\n",
    "    6.1 List comprehension\n",
    "    6.2 Dictionary comprehension\n",
    "\n",
    "###### 7 Inbuilt Functions\n",
    "    7.1 Zipping\n",
    "    7.2 Enumeration\n",
    "    7.3 Length\n",
    "    7.4 Range\n",
    "\n",
    "###### 8 Functions\n",
    "    8.1 Defining functions\n",
    "    8.2 Namespaces\n",
    "    8.3 Parameters and Arguments"
   ]
  },
  {
   "cell_type": "markdown",
   "id": "4ecbcb34",
   "metadata": {},
   "source": [
    "## 1 Syntax and Variables"
   ]
  },
  {
   "cell_type": "markdown",
   "id": "0beacf06",
   "metadata": {},
   "source": [
    "##### 1.1 Variables"
   ]
  },
  {
   "cell_type": "code",
   "execution_count": null,
   "id": "6ed311be",
   "metadata": {},
   "outputs": [],
   "source": [
    "# Python is completely object oriented, and not \"statically typed\".\n",
    "# You do not need to declare variables before using them, or declare\n",
    "# their type. Every variable in Python is an object.\n",
    "\n",
    "# Python has no command for declaring a variable. \n",
    "# A variable is created the moment you first assign a value to it.\n",
    "\n",
    "# A variable can have a short name (like x and y) or a more descriptive name\n",
    "# (age, carname, total_volume).\n",
    "\n",
    "# Rules for Python variables:\n",
    "# - A variable name must start with a letter or the underscore character.\n",
    "# - A variable name cannot start with a number.\n",
    "# - A variable name can only contain alpha-numeric characters and underscores (A-z, 0-9, and _ ).\n",
    "# - Variable names are case-sensitive (age, Age and AGE are three different variables)."
   ]
  },
  {
   "cell_type": "code",
   "execution_count": null,
   "id": "85364b7e",
   "metadata": {},
   "outputs": [],
   "source": [
    "1a = 2"
   ]
  },
  {
   "cell_type": "code",
   "execution_count": null,
   "id": "467cee26",
   "metadata": {},
   "outputs": [],
   "source": [
    "a a = 2"
   ]
  },
  {
   "cell_type": "code",
   "execution_count": null,
   "id": "0419300d",
   "metadata": {},
   "outputs": [],
   "source": [
    "a = 2\n",
    "a2 = 2\n",
    "a = 3\n",
    "\n",
    "assert a == 3    # ''=='' tests equivalence"
   ]
  },
  {
   "cell_type": "code",
   "execution_count": null,
   "id": "77161ba0",
   "metadata": {},
   "outputs": [],
   "source": [
    "# What happens here? \n",
    "a, b = 1, 2"
   ]
  },
  {
   "cell_type": "markdown",
   "id": "d4c7cdd0",
   "metadata": {},
   "source": [
    "##### 1.2 Syntax"
   ]
  },
  {
   "cell_type": "code",
   "execution_count": null,
   "id": "805a1ec3",
   "metadata": {},
   "outputs": [],
   "source": [
    "# Python uses new lines to complete a command, \n",
    "# as opposed to other programming languages which often use semicolons or parentheses.\n",
    "\n",
    "# Python relies on indentation, using whitespace, to define scope; such as the scope of loops, functions and classes. \n",
    "# Other programming languages often use curly-brackets for this purpose."
   ]
  },
  {
   "cell_type": "code",
   "execution_count": null,
   "id": "09b90cf5",
   "metadata": {},
   "outputs": [],
   "source": [
    "# newline\n",
    "a = 2\n",
    "b = 2"
   ]
  },
  {
   "cell_type": "code",
   "execution_count": null,
   "id": "9c7758fc",
   "metadata": {},
   "outputs": [],
   "source": [
    "# indentation\n",
    "for i in range(10):\n",
    "    print(i)"
   ]
  },
  {
   "cell_type": "markdown",
   "id": "50e80a5c",
   "metadata": {},
   "source": [
    "## 2 Data Types\n",
    "     2.1 Integers\n",
    "     2.2 Booleans\n",
    "     2.3 Floats\n",
    "     2.4 Strings"
   ]
  },
  {
   "cell_type": "markdown",
   "id": "ca9f142d",
   "metadata": {},
   "source": [
    "#####  2.1 Integers"
   ]
  },
  {
   "cell_type": "code",
   "execution_count": 1,
   "id": "96440c65",
   "metadata": {},
   "outputs": [
    {
     "data": {
      "text/plain": [
       "True"
      ]
     },
     "execution_count": 1,
     "metadata": {},
     "output_type": "execute_result"
    }
   ],
   "source": [
    "# Integers (int) are whole numbers, positive or negative.\n",
    "# Created by writing a number without a .\n",
    "a = 42\n",
    "b = 0\n",
    "c = -15343"
   ]
  },
  {
   "cell_type": "code",
   "execution_count": 31,
   "id": "f5390942",
   "metadata": {},
   "outputs": [
    {
     "data": {
      "text/plain": [
       "False"
      ]
     },
     "execution_count": 31,
     "metadata": {},
     "output_type": "execute_result"
    }
   ],
   "source": [
    "# We can check the type of object we are working woth using the built-in type() function\n",
    "type(a) == int"
   ]
  },
  {
   "cell_type": "markdown",
   "id": "af5784ac",
   "metadata": {},
   "source": [
    "#####  2.2 Booleans"
   ]
  },
  {
   "cell_type": "code",
   "execution_count": null,
   "id": "a90e14cd",
   "metadata": {},
   "outputs": [],
   "source": [
    "# Booleans are True/False values.\n",
    "a = True\n",
    "b = False"
   ]
  },
  {
   "cell_type": "code",
   "execution_count": null,
   "id": "09b4e40b",
   "metadata": {},
   "outputs": [],
   "source": [
    "# What happens here?\n",
    "True + True"
   ]
  },
  {
   "cell_type": "code",
   "execution_count": 2,
   "id": "1b27bbbf",
   "metadata": {},
   "outputs": [
    {
     "ename": "ZeroDivisionError",
     "evalue": "division by zero",
     "output_type": "error",
     "traceback": [
      "\u001b[1;31m---------------------------------------------------------------------------\u001b[0m",
      "\u001b[1;31mZeroDivisionError\u001b[0m                         Traceback (most recent call last)",
      "Cell \u001b[1;32mIn[2], line 2\u001b[0m\n\u001b[0;32m      1\u001b[0m \u001b[38;5;66;03m# What about here?\u001b[39;00m\n\u001b[1;32m----> 2\u001b[0m \u001b[38;5;28;43;01mFalse\u001b[39;49;00m\u001b[43m \u001b[49m\u001b[38;5;241;43m/\u001b[39;49m\u001b[43m \u001b[49m\u001b[38;5;28;43;01mFalse\u001b[39;49;00m\n",
      "\u001b[1;31mZeroDivisionError\u001b[0m: division by zero"
     ]
    }
   ],
   "source": [
    "# What about here?\n",
    "False / False"
   ]
  },
  {
   "cell_type": "markdown",
   "id": "50f270ea",
   "metadata": {},
   "source": [
    "##### 2.3 Floats"
   ]
  },
  {
   "cell_type": "code",
   "execution_count": 2,
   "id": "41c8bb10",
   "metadata": {},
   "outputs": [
    {
     "data": {
      "text/plain": [
       "True"
      ]
     },
     "execution_count": 2,
     "metadata": {},
     "output_type": "execute_result"
    }
   ],
   "source": [
    "# Floats are the representation of real numbers. Integers with a dot .\n",
    "\n",
    "a = 2.2 \n",
    "b = 0.5\n",
    "c = -155.3\n",
    "\n",
    "type(a) == float"
   ]
  },
  {
   "cell_type": "code",
   "execution_count": null,
   "id": "39e98621",
   "metadata": {},
   "outputs": [],
   "source": [
    "# What happens here?\n",
    "float(1)"
   ]
  },
  {
   "cell_type": "code",
   "execution_count": null,
   "id": "9f36a3d1",
   "metadata": {},
   "outputs": [],
   "source": [
    "# What about here?\n",
    "int(1.0)"
   ]
  },
  {
   "cell_type": "markdown",
   "id": "ed810adb",
   "metadata": {},
   "source": [
    "##### 2.4 Strings"
   ]
  },
  {
   "cell_type": "code",
   "execution_count": null,
   "id": "fe2107d1",
   "metadata": {},
   "outputs": [],
   "source": [
    "# Strings (str) are a sequence of characters."
   ]
  },
  {
   "cell_type": "code",
   "execution_count": 4,
   "id": "ba5373e6",
   "metadata": {},
   "outputs": [],
   "source": [
    "# Created by writing a sequence of letters between single or double quotes.\n",
    "first_word = \"Hello\"\n",
    "second_word = 'World'\n",
    "first_punct = \"!\""
   ]
  },
  {
   "cell_type": "code",
   "execution_count": null,
   "id": "ce67d227",
   "metadata": {},
   "outputs": [],
   "source": [
    "first_word == 'Hello'"
   ]
  },
  {
   "cell_type": "code",
   "execution_count": null,
   "id": "3310c55a",
   "metadata": {},
   "outputs": [],
   "source": [
    "print(first_word)"
   ]
  },
  {
   "cell_type": "code",
   "execution_count": null,
   "id": "35e23a5d",
   "metadata": {},
   "outputs": [],
   "source": [
    "first_word == 'Hello '"
   ]
  },
  {
   "cell_type": "code",
   "execution_count": 5,
   "id": "5d7eeedf",
   "metadata": {},
   "outputs": [
    {
     "name": "stdout",
     "output_type": "stream",
     "text": [
      "HelloWorld!\n"
     ]
    }
   ],
   "source": [
    "# Strings can be concatenated by the '+' operator\n",
    "print(first_word + second_word + first_punct)"
   ]
  },
  {
   "cell_type": "code",
   "execution_count": 6,
   "id": "a39262ec",
   "metadata": {},
   "outputs": [
    {
     "name": "stdout",
     "output_type": "stream",
     "text": [
      "Hello World!\n"
     ]
    }
   ],
   "source": [
    "print(first_word + \" \" + second_word + first_punct)"
   ]
  },
  {
   "cell_type": "code",
   "execution_count": 7,
   "id": "16adf8df",
   "metadata": {},
   "outputs": [
    {
     "name": "stdout",
     "output_type": "stream",
     "text": [
      "Hello World!\n"
     ]
    }
   ],
   "source": [
    "# Using f-string concatenation\n",
    "print(f\"{first_word} {second_word}{first_punct}\")"
   ]
  },
  {
   "cell_type": "code",
   "execution_count": 8,
   "id": "461e6a60",
   "metadata": {},
   "outputs": [
    {
     "name": "stdout",
     "output_type": "stream",
     "text": [
      "Mette Frederiksen is the prime minister in Denmark\n",
      "M is the first character of the string\n",
      "e is the second character of the string\n"
     ]
    }
   ],
   "source": [
    "# Strings (like other data structures) can be indexed using square brackets []. \n",
    "# This is possible since a string is an 'iterable' which is defined as an object which are capbable of \n",
    "# returning it members one at a time, permitting it to be iterated over.\n",
    "\n",
    "# NB: Zero-indexing!!!!!!!!!!!\n",
    "\n",
    "a = \"Mette Frederiksen\"\n",
    "\n",
    "print(a + \" is the prime minister in Denmark\")\n",
    "print(a[0] + \" is the first character of the string\")\n",
    "print(a[1] + \" is the second character of the string\")"
   ]
  },
  {
   "cell_type": "code",
   "execution_count": 12,
   "id": "371dfdf9",
   "metadata": {},
   "outputs": [
    {
     "data": {
      "text/plain": [
       "<method-wrapper '__iter__' of str object at 0x0000022E83BC9ED0>"
      ]
     },
     "execution_count": 12,
     "metadata": {},
     "output_type": "execute_result"
    }
   ],
   "source": [
    "a = \"Mette Frederiksen\"\n",
    "a.__iter__"
   ]
  },
  {
   "cell_type": "code",
   "execution_count": 13,
   "id": "9c417ef8",
   "metadata": {},
   "outputs": [
    {
     "ename": "AttributeError",
     "evalue": "'float' object has no attribute '__iter__'",
     "output_type": "error",
     "traceback": [
      "\u001b[1;31m---------------------------------------------------------------------------\u001b[0m",
      "\u001b[1;31mAttributeError\u001b[0m                            Traceback (most recent call last)",
      "Cell \u001b[1;32mIn[13], line 2\u001b[0m\n\u001b[0;32m      1\u001b[0m a \u001b[38;5;241m=\u001b[39m \u001b[38;5;241m1.0\u001b[39m\n\u001b[1;32m----> 2\u001b[0m \u001b[43ma\u001b[49m\u001b[38;5;241;43m.\u001b[39;49m\u001b[38;5;21;43m__iter__\u001b[39;49m\n",
      "\u001b[1;31mAttributeError\u001b[0m: 'float' object has no attribute '__iter__'"
     ]
    }
   ],
   "source": [
    "a = 1.0\n",
    "a.__iter__"
   ]
  },
  {
   "cell_type": "code",
   "execution_count": 18,
   "id": "872ff141",
   "metadata": {},
   "outputs": [
    {
     "data": {
      "text/plain": [
       "17"
      ]
     },
     "execution_count": 18,
     "metadata": {},
     "output_type": "execute_result"
    }
   ],
   "source": [
    "# That an object is iterable also means that it has a length attribute\n",
    "a = \"Mette Frederiksen\"\n",
    "len(a)"
   ]
  },
  {
   "cell_type": "code",
   "execution_count": 19,
   "id": "56c6703c",
   "metadata": {},
   "outputs": [
    {
     "ename": "TypeError",
     "evalue": "object of type 'float' has no len()",
     "output_type": "error",
     "traceback": [
      "\u001b[1;31m---------------------------------------------------------------------------\u001b[0m",
      "\u001b[1;31mTypeError\u001b[0m                                 Traceback (most recent call last)",
      "Cell \u001b[1;32mIn[19], line 3\u001b[0m\n\u001b[0;32m      1\u001b[0m \u001b[38;5;66;03m# Whereas non-iterables do not\u001b[39;00m\n\u001b[0;32m      2\u001b[0m a \u001b[38;5;241m=\u001b[39m \u001b[38;5;241m1.0\u001b[39m\n\u001b[1;32m----> 3\u001b[0m \u001b[38;5;28;43mlen\u001b[39;49m\u001b[43m(\u001b[49m\u001b[43ma\u001b[49m\u001b[43m)\u001b[49m\n",
      "\u001b[1;31mTypeError\u001b[0m: object of type 'float' has no len()"
     ]
    }
   ],
   "source": [
    "# Whereas non-iterables do not\n",
    "a = 1.0\n",
    "len(a)"
   ]
  },
  {
   "cell_type": "code",
   "execution_count": 20,
   "id": "e7decbd1",
   "metadata": {},
   "outputs": [
    {
     "name": "stdout",
     "output_type": "stream",
     "text": [
      "Me is the first two letters of the word\n"
     ]
    }
   ],
   "source": [
    "# Indexing also introduces slices. \n",
    "# Use the : to return a range of values.\n",
    "# The range [m:n] returns from the (m+1)th letter to the nth letter.\n",
    "a = \"Mette Frederiksen\"\n",
    "print(a[0:2] + \" is the first two letters of the word\")"
   ]
  },
  {
   "cell_type": "code",
   "execution_count": 21,
   "id": "3c9ebd89",
   "metadata": {},
   "outputs": [
    {
     "name": "stdout",
     "output_type": "stream",
     "text": [
      "et is the second and third letter of the word\n"
     ]
    }
   ],
   "source": [
    "print(a[1:3] + \" is the second and third letter of the word\")"
   ]
  },
  {
   "cell_type": "code",
   "execution_count": 22,
   "id": "1595e773",
   "metadata": {},
   "outputs": [
    {
     "data": {
      "text/plain": [
       "'Mette F'"
      ]
     },
     "execution_count": 22,
     "metadata": {},
     "output_type": "execute_result"
    }
   ],
   "source": [
    "# What is returned here?\n",
    "a[0:6] + a[6]"
   ]
  },
  {
   "cell_type": "code",
   "execution_count": 23,
   "id": "aab5490b",
   "metadata": {},
   "outputs": [
    {
     "name": "stdout",
     "output_type": "stream",
     "text": [
      "n\n"
     ]
    }
   ],
   "source": [
    "# We can also use negative indexing. \n",
    "# [-1] returns the last element of a sequence; in this case, the last character in a word.\n",
    "print(a[-1])"
   ]
  },
  {
   "cell_type": "code",
   "execution_count": 24,
   "id": "ed44c364",
   "metadata": {},
   "outputs": [
    {
     "name": "stdout",
     "output_type": "stream",
     "text": [
      "sen\n"
     ]
    }
   ],
   "source": [
    "print(a[-3:])"
   ]
  },
  {
   "cell_type": "code",
   "execution_count": 29,
   "id": "a9f9d75f",
   "metadata": {},
   "outputs": [
    {
     "data": {
      "text/plain": [
       "'MteFe'"
      ]
     },
     "execution_count": 29,
     "metadata": {},
     "output_type": "execute_result"
    }
   ],
   "source": [
    "# The syntax of slicing is start:stop:step.\n",
    "\n",
    "# Lets break this down: start=0:stop=10:step=2\n",
    "a[:10:2]"
   ]
  },
  {
   "cell_type": "markdown",
   "id": "6833c3be",
   "metadata": {},
   "source": [
    "## 3 Operators\n",
    "\n",
    "    3.1 Arithmetic\n",
    "    3.2 Membership\n",
    "    3.3 Identity\n",
    "    3.4 Logical\n",
    "    3.5 Comparison"
   ]
  },
  {
   "cell_type": "markdown",
   "id": "1ac39940",
   "metadata": {},
   "source": [
    "##### 3.1 Arithmetic"
   ]
  },
  {
   "cell_type": "code",
   "execution_count": 32,
   "id": "1e37a5c2",
   "metadata": {},
   "outputs": [
    {
     "data": {
      "text/plain": [
       "(8, 'ab')"
      ]
     },
     "execution_count": 32,
     "metadata": {},
     "output_type": "execute_result"
    }
   ],
   "source": [
    "# Addition\n",
    "5 + 3, 'a' + 'b'"
   ]
  },
  {
   "cell_type": "code",
   "execution_count": 34,
   "id": "44fc56d4",
   "metadata": {},
   "outputs": [
    {
     "data": {
      "text/plain": [
       "2"
      ]
     },
     "execution_count": 34,
     "metadata": {},
     "output_type": "execute_result"
    }
   ],
   "source": [
    "# Subtraction.\n",
    "5 - 3"
   ]
  },
  {
   "cell_type": "code",
   "execution_count": 35,
   "id": "b0bb795b",
   "metadata": {},
   "outputs": [
    {
     "data": {
      "text/plain": [
       "15"
      ]
     },
     "execution_count": 35,
     "metadata": {},
     "output_type": "execute_result"
    }
   ],
   "source": [
    "# Multiplication\n",
    "5 * 3"
   ]
  },
  {
   "cell_type": "code",
   "execution_count": null,
   "id": "3c50ee2b",
   "metadata": {},
   "outputs": [],
   "source": [
    "# Division (note it always returns a float)\n",
    "1/1"
   ]
  },
  {
   "cell_type": "code",
   "execution_count": null,
   "id": "2305b210",
   "metadata": {},
   "outputs": [],
   "source": [
    "# Exponentiation\n",
    "2 ** 3"
   ]
  },
  {
   "cell_type": "markdown",
   "id": "fbfd5feb",
   "metadata": {},
   "source": [
    "##### 3.2 Membership"
   ]
  },
  {
   "cell_type": "code",
   "execution_count": null,
   "id": "b8953a27",
   "metadata": {},
   "outputs": [],
   "source": [
    "# Membership operators are used to test if a sequence is presented in an object.\n",
    "party_list = [\"Venstre\", \"Socialdemokratiet\"]\n",
    "\n",
    "# Two types: 'in' and 'not in'\n",
    "# Results in a boolean value"
   ]
  },
  {
   "cell_type": "code",
   "execution_count": null,
   "id": "a56dd37e",
   "metadata": {},
   "outputs": [],
   "source": [
    "\"Venstre\" in party_list"
   ]
  },
  {
   "cell_type": "code",
   "execution_count": null,
   "id": "495ed447",
   "metadata": {},
   "outputs": [],
   "source": [
    "\"Enhedslisten\" in party_list"
   ]
  },
  {
   "cell_type": "code",
   "execution_count": null,
   "id": "967593e8",
   "metadata": {},
   "outputs": [],
   "source": [
    "\"Enhedslisten\" not in party_list"
   ]
  },
  {
   "cell_type": "markdown",
   "id": "e05354d1",
   "metadata": {},
   "source": [
    "##### 3.3 Identity"
   ]
  },
  {
   "cell_type": "code",
   "execution_count": null,
   "id": "70fd17aa",
   "metadata": {},
   "outputs": [],
   "source": [
    "# Identity operators are used to compare the objects, not if they are equal, but if they are actually\n",
    "# the same object, with the same memory location."
   ]
  },
  {
   "cell_type": "code",
   "execution_count": 36,
   "id": "ef6b70af",
   "metadata": {},
   "outputs": [],
   "source": [
    "first_party_list = [\"Venstre\", \"Socialdemokratiet\"]\n",
    "second_party_list = [\"Venstre\", \"Socialdemokratiet\"]\n",
    "third_party_list = first_party_list"
   ]
  },
  {
   "cell_type": "code",
   "execution_count": 37,
   "id": "aae3dd7b",
   "metadata": {},
   "outputs": [
    {
     "data": {
      "text/plain": [
       "True"
      ]
     },
     "execution_count": 37,
     "metadata": {},
     "output_type": "execute_result"
    }
   ],
   "source": [
    "# What does this yield? True or false?\n",
    "first_party_list is third_party_list"
   ]
  },
  {
   "cell_type": "code",
   "execution_count": 40,
   "id": "80e26266",
   "metadata": {},
   "outputs": [
    {
     "data": {
      "text/plain": [
       "False"
      ]
     },
     "execution_count": 40,
     "metadata": {},
     "output_type": "execute_result"
    }
   ],
   "source": [
    "# What about this?\n",
    "first_party_list is second_party_list"
   ]
  },
  {
   "cell_type": "code",
   "execution_count": 39,
   "id": "0aea37ce",
   "metadata": {},
   "outputs": [
    {
     "data": {
      "text/plain": [
       "True"
      ]
     },
     "execution_count": 39,
     "metadata": {},
     "output_type": "execute_result"
    }
   ],
   "source": [
    "# What about this then?\n",
    "first_party_list == second_party_list"
   ]
  },
  {
   "cell_type": "code",
   "execution_count": null,
   "id": "a0625af6",
   "metadata": {},
   "outputs": [],
   "source": [
    "# The == operator COMPARES the value or equality of two objects\n",
    "# whereas the Python is operator checks whether two variables\n",
    "# point to the same object in memory"
   ]
  },
  {
   "cell_type": "markdown",
   "id": "6ba77463",
   "metadata": {},
   "source": [
    "##### 3.4 Logical"
   ]
  },
  {
   "cell_type": "code",
   "execution_count": null,
   "id": "3573cf42",
   "metadata": {},
   "outputs": [],
   "source": [
    "# Logical operators are used to combine conditional statements.\n",
    " \n",
    "first_number = 5\n",
    "second_number = 10"
   ]
  },
  {
   "cell_type": "code",
   "execution_count": null,
   "id": "ebd177e2",
   "metadata": {},
   "outputs": [],
   "source": [
    "# And logical: returns True if both statements are true.\n",
    "first_number > 0 and second_number < 20"
   ]
  },
  {
   "cell_type": "code",
   "execution_count": null,
   "id": "ba99e13c",
   "metadata": {},
   "outputs": [],
   "source": [
    "# Or logical: returns True if one of the statements are true.\n",
    "first_number > 5 or second_number < 20"
   ]
  },
  {
   "cell_type": "code",
   "execution_count": null,
   "id": "f3bdda07",
   "metadata": {},
   "outputs": [],
   "source": [
    "# Not logical\n",
    "first_number != second_number"
   ]
  },
  {
   "cell_type": "markdown",
   "id": "a36248cb",
   "metadata": {},
   "source": [
    "##### 3.5 Comparison"
   ]
  },
  {
   "cell_type": "code",
   "execution_count": 41,
   "id": "e708e54d",
   "metadata": {},
   "outputs": [
    {
     "data": {
      "text/plain": [
       "True"
      ]
     },
     "execution_count": 41,
     "metadata": {},
     "output_type": "execute_result"
    }
   ],
   "source": [
    "# Comparison operators are used to compare two values.\n",
    "\n",
    "# Equality\n",
    "a = 5\n",
    "a == 5           "
   ]
  },
  {
   "cell_type": "code",
   "execution_count": null,
   "id": "8b65b10f",
   "metadata": {},
   "outputs": [],
   "source": [
    "# Not equal.\n",
    "a != 3"
   ]
  },
  {
   "cell_type": "code",
   "execution_count": null,
   "id": "62314561",
   "metadata": {},
   "outputs": [],
   "source": [
    "# Greater and less tha\n",
    "a > 3, a < 8"
   ]
  },
  {
   "cell_type": "code",
   "execution_count": null,
   "id": "8446aa17",
   "metadata": {},
   "outputs": [],
   "source": [
    "# Greater/less than or equal to \n",
    "a >= 5, a <= 5"
   ]
  },
  {
   "cell_type": "markdown",
   "id": "eb8b17cd",
   "metadata": {},
   "source": [
    "## 4. Data Structures\n",
    "    \n",
    "    4.1 Lists\n",
    "    4.2 Dictionaries\n"
   ]
  },
  {
   "cell_type": "markdown",
   "id": "ced17fbe",
   "metadata": {},
   "source": [
    "##### 4.1 Lists"
   ]
  },
  {
   "cell_type": "code",
   "execution_count": null,
   "id": "377fee03",
   "metadata": {},
   "outputs": [],
   "source": [
    "# Lists are the arguably the most Pythonic data container you find.\n",
    "# Many containers out there, but lists are so versatile. \n",
    "\n",
    "# Written as a list of comma-separated values (items) between square brackets []. \n",
    "# Lists might contain items of different types, but usually the items all have the same type."
   ]
  },
  {
   "cell_type": "code",
   "execution_count": 43,
   "id": "0f0b0b75",
   "metadata": {},
   "outputs": [],
   "source": [
    "# List with integer numbers from 1 to 5\n",
    "list1 = [1, 2, 3, 4, 5]"
   ]
  },
  {
   "cell_type": "code",
   "execution_count": null,
   "id": "817195c5",
   "metadata": {},
   "outputs": [],
   "source": [
    "# integer, float and string\n",
    "list2 = [1, 2.0, '3']  "
   ]
  },
  {
   "cell_type": "code",
   "execution_count": null,
   "id": "626fe34a",
   "metadata": {},
   "outputs": [],
   "source": [
    "#[x**2 for x in [1,2,3,4,5]]"
   ]
  },
  {
   "cell_type": "code",
   "execution_count": 45,
   "id": "8c803ac0",
   "metadata": {},
   "outputs": [
    {
     "data": {
      "text/plain": [
       "([1, 2], [4, 5], [1, 3])"
      ]
     },
     "execution_count": 45,
     "metadata": {},
     "output_type": "execute_result"
    }
   ],
   "source": [
    "# Indexing a list is similar to indexing a string. How come?\n",
    "list1[0:2], list1[-2:], list1[:3:2]"
   ]
  },
  {
   "cell_type": "code",
   "execution_count": 46,
   "id": "a2fe1830",
   "metadata": {},
   "outputs": [
    {
     "data": {
      "text/plain": [
       "5"
      ]
     },
     "execution_count": 46,
     "metadata": {},
     "output_type": "execute_result"
    }
   ],
   "source": [
    "# Do you think lists have a length attribute? If so, what will it return?\n",
    "len(list1)"
   ]
  },
  {
   "cell_type": "code",
   "execution_count": 47,
   "id": "67a8580e",
   "metadata": {},
   "outputs": [
    {
     "name": "stdout",
     "output_type": "stream",
     "text": [
      "[1, 2, 3, 4, 5, 6]\n"
     ]
    }
   ],
   "source": [
    "# Add elements to a list. Note the inplace-operation!\n",
    "list1.append(6)\n",
    "print(list1)"
   ]
  },
  {
   "cell_type": "code",
   "execution_count": 48,
   "id": "e22431b3",
   "metadata": {},
   "outputs": [],
   "source": [
    "# Remove elements from list with:\n",
    "del list1[-1]   # removes last index"
   ]
  },
  {
   "cell_type": "code",
   "execution_count": 49,
   "id": "f2b5e344",
   "metadata": {},
   "outputs": [
    {
     "data": {
      "text/plain": [
       "5"
      ]
     },
     "execution_count": 49,
     "metadata": {},
     "output_type": "execute_result"
    }
   ],
   "source": [
    "# Alternative way of removing an element\n",
    "list1.pop(-1)   # removes last index"
   ]
  },
  {
   "cell_type": "code",
   "execution_count": 50,
   "id": "0b35d64b",
   "metadata": {},
   "outputs": [
    {
     "name": "stdout",
     "output_type": "stream",
     "text": [
      "[1, 2, 3, 4]\n"
     ]
    }
   ],
   "source": [
    "# What is the resulting list1 we have left?\n",
    "print(list1)"
   ]
  },
  {
   "cell_type": "code",
   "execution_count": 51,
   "id": "6847424c",
   "metadata": {},
   "outputs": [
    {
     "ename": "TypeError",
     "evalue": "can only concatenate list (not \"int\") to list",
     "output_type": "error",
     "traceback": [
      "\u001b[1;31m---------------------------------------------------------------------------\u001b[0m",
      "\u001b[1;31mTypeError\u001b[0m                                 Traceback (most recent call last)",
      "Cell \u001b[1;32mIn[51], line 3\u001b[0m\n\u001b[0;32m      1\u001b[0m \u001b[38;5;66;03m# Alternative growth of lists through concatenation. \u001b[39;00m\n\u001b[0;32m      2\u001b[0m \u001b[38;5;66;03m# What happens here?\u001b[39;00m\n\u001b[1;32m----> 3\u001b[0m \u001b[43mlist1\u001b[49m\u001b[43m \u001b[49m\u001b[38;5;241;43m+\u001b[39;49m\u001b[43m \u001b[49m\u001b[38;5;241;43m5\u001b[39;49m\n",
      "\u001b[1;31mTypeError\u001b[0m: can only concatenate list (not \"int\") to list"
     ]
    }
   ],
   "source": [
    "# Alternative growth of lists through concatenation. \n",
    "# What happens here?\n",
    "list1 + 5"
   ]
  },
  {
   "cell_type": "code",
   "execution_count": null,
   "id": "c743e110",
   "metadata": {},
   "outputs": [],
   "source": []
  },
  {
   "cell_type": "code",
   "execution_count": 53,
   "id": "0ce537f0",
   "metadata": {},
   "outputs": [
    {
     "name": "stdout",
     "output_type": "stream",
     "text": [
      "[10, 2, 3, 4]\n"
     ]
    }
   ],
   "source": [
    "# Modify values in a list\n",
    "list1[0] = 10\n",
    "print(list1)"
   ]
  },
  {
   "cell_type": "code",
   "execution_count": 54,
   "id": "a5ebdbc0",
   "metadata": {},
   "outputs": [],
   "source": [
    "# Alternative way to generate a list\n",
    "list1 = list(range(6))   \n",
    "print(list1)"
   ]
  },
  {
   "cell_type": "markdown",
   "id": "90a17236",
   "metadata": {},
   "source": [
    "##### 4.2 Dictionaries"
   ]
  },
  {
   "cell_type": "code",
   "execution_count": 57,
   "id": "09954d23",
   "metadata": {},
   "outputs": [],
   "source": [
    "# Dictionaries are an unordered mapping of keys to values -- lists are ordered by indices. Dictionaries by keys. \n",
    "\n",
    "# Created by writing key:value pairs separated by commas between curly brackets {}\n",
    "\n",
    "partyleaders = {\n",
    "    'Mette Frederiksen': 'S',\n",
    "    'Morten Messerschmidt': 'DF'\n",
    "    }"
   ]
  },
  {
   "cell_type": "code",
   "execution_count": 59,
   "id": "174d8dd2",
   "metadata": {},
   "outputs": [
    {
     "ename": "KeyError",
     "evalue": "'Morte'",
     "output_type": "error",
     "traceback": [
      "\u001b[1;31m---------------------------------------------------------------------------\u001b[0m",
      "\u001b[1;31mKeyError\u001b[0m                                  Traceback (most recent call last)",
      "Cell \u001b[1;32mIn[59], line 1\u001b[0m\n\u001b[1;32m----> 1\u001b[0m \u001b[43mpartyleaders\u001b[49m\u001b[43m[\u001b[49m\u001b[38;5;124;43m'\u001b[39;49m\u001b[38;5;124;43mMorte\u001b[39;49m\u001b[38;5;124;43m'\u001b[39;49m\u001b[43m]\u001b[49m\n",
      "\u001b[1;31mKeyError\u001b[0m: 'Morte'"
     ]
    }
   ],
   "source": [
    "# We can not access elements in dictionaries by indices\n",
    "partyleaders[0]"
   ]
  },
  {
   "cell_type": "code",
   "execution_count": null,
   "id": "70870486",
   "metadata": {},
   "outputs": [],
   "source": [
    "# Access value of specific key\n",
    "partyleaders['Mette Frederiksen']"
   ]
  },
  {
   "cell_type": "code",
   "execution_count": 60,
   "id": "ebbbf17e",
   "metadata": {},
   "outputs": [
    {
     "data": {
      "text/plain": [
       "dict_keys(['Mette Frederiksen', 'Morten Messerschmidt'])"
      ]
     },
     "execution_count": 60,
     "metadata": {},
     "output_type": "execute_result"
    }
   ],
   "source": [
    "# Return all keys:\n",
    "partyleaders.keys()"
   ]
  },
  {
   "cell_type": "code",
   "execution_count": 61,
   "id": "591af2a0",
   "metadata": {},
   "outputs": [
    {
     "data": {
      "text/plain": [
       "['Mette Frederiksen', 'Morten Messerschmidt']"
      ]
     },
     "execution_count": 61,
     "metadata": {},
     "output_type": "execute_result"
    }
   ],
   "source": [
    "# Return keys as a list\n",
    "list(partyleaders.keys())"
   ]
  },
  {
   "cell_type": "code",
   "execution_count": 62,
   "id": "fb036f21",
   "metadata": {},
   "outputs": [
    {
     "data": {
      "text/plain": [
       "dict_values(['S', 'DF'])"
      ]
     },
     "execution_count": 62,
     "metadata": {},
     "output_type": "execute_result"
    }
   ],
   "source": [
    "# Access all values:\n",
    "partyleaders.values()"
   ]
  },
  {
   "cell_type": "code",
   "execution_count": 63,
   "id": "ec3d5d5e",
   "metadata": {},
   "outputs": [
    {
     "data": {
      "text/plain": [
       "dict_items([('Mette Frederiksen', 'S'), ('Morten Messerschmidt', 'DF')])"
      ]
     },
     "execution_count": 63,
     "metadata": {},
     "output_type": "execute_result"
    }
   ],
   "source": [
    "# Access both keys and values:\n",
    "partyleaders.items()"
   ]
  },
  {
   "cell_type": "code",
   "execution_count": 64,
   "id": "51d09dfe",
   "metadata": {},
   "outputs": [],
   "source": [
    "# Modify value \n",
    "partyleaders['Mette Frederiksen'] = 'DD'"
   ]
  },
  {
   "cell_type": "code",
   "execution_count": 65,
   "id": "aed21490",
   "metadata": {},
   "outputs": [],
   "source": [
    "# Add new value to dictionary\n",
    "partyleaders['Nicolai Wammen'] = 'S'"
   ]
  },
  {
   "cell_type": "markdown",
   "id": "c0e4a6ee",
   "metadata": {},
   "source": [
    "## 5. Control Flow\n",
    "    \n",
    "    5.1 Iteration \n",
    "    5.2 Conditional iteration\n"
   ]
  },
  {
   "cell_type": "markdown",
   "id": "0afe5792",
   "metadata": {},
   "source": [
    "##### 5.1 Iteration"
   ]
  },
  {
   "cell_type": "code",
   "execution_count": null,
   "id": "06ad7a51",
   "metadata": {},
   "outputs": [],
   "source": [
    "# A for-loop is a logical structure composed of two parts: an iterable and an action.\n",
    "for i in ITERABLE:\n",
    "    RUN_COMMAND"
   ]
  },
  {
   "cell_type": "code",
   "execution_count": 70,
   "id": "4b69ba75",
   "metadata": {},
   "outputs": [
    {
     "name": "stdout",
     "output_type": "stream",
     "text": [
      "0\n",
      "1\n",
      "2\n",
      "3\n",
      "4\n",
      "5\n"
     ]
    }
   ],
   "source": [
    "# Simple Example\n",
    "for l in list1:\n",
    "    print(l)"
   ]
  },
  {
   "cell_type": "code",
   "execution_count": null,
   "id": "726e0b33",
   "metadata": {},
   "outputs": [],
   "source": [
    "# Incrementing a counter with the += assignment operator (-= also exists)\n",
    "counter = 0\n",
    "for number in range(8):\n",
    "    counter += number"
   ]
  },
  {
   "cell_type": "code",
   "execution_count": 72,
   "id": "c195cd3b",
   "metadata": {},
   "outputs": [
    {
     "name": "stdout",
     "output_type": "stream",
     "text": [
      "Mette Frederiksen: RV\n",
      "Morten Messerschmidt: DF\n",
      "Nicolai Wammen: S\n"
     ]
    }
   ],
   "source": [
    "# Dictionaries are also iterable:\n",
    "for k, v in partyleaders.items():\n",
    "    print(f\"{k}: {v}\")"
   ]
  },
  {
   "cell_type": "markdown",
   "id": "317b4450",
   "metadata": {},
   "source": [
    "##### 5.2 Conditional iteration"
   ]
  },
  {
   "cell_type": "code",
   "execution_count": null,
   "id": "42972752",
   "metadata": {},
   "outputs": [],
   "source": [
    "# A lot of times, we are only interested in doing something if certain conditions are met.\n",
    "# We often use the operators we have talked about such as comparisons, identity and membership. "
   ]
  },
  {
   "cell_type": "code",
   "execution_count": 76,
   "id": "d21d7216",
   "metadata": {},
   "outputs": [
    {
     "name": "stdout",
     "output_type": "stream",
     "text": [
      "Absolute value is 4\n"
     ]
    }
   ],
   "source": [
    "# Conditional on comparison operator\n",
    "number = -2\n",
    "\n",
    "if number < 0:\n",
    "    number = number * -2\n",
    "\n",
    "print(\"Absolute value is\", number)"
   ]
  },
  {
   "cell_type": "code",
   "execution_count": 75,
   "id": "cf971a1e",
   "metadata": {},
   "outputs": [
    {
     "name": "stdout",
     "output_type": "stream",
     "text": [
      "Absolute value is 2\n"
     ]
    }
   ],
   "source": [
    "number = 2\n",
    "\n",
    "if number < 0:\n",
    "    number = number * -2\n",
    "\n",
    "print(\"Absolute value is\", number)"
   ]
  },
  {
   "cell_type": "code",
   "execution_count": 77,
   "id": "4b75f48c",
   "metadata": {},
   "outputs": [
    {
     "name": "stdout",
     "output_type": "stream",
     "text": [
      "You are in the right place!\n"
     ]
    }
   ],
   "source": [
    "# This uses the \"if\" command, which evaluate if the condition is True. \n",
    "# We can also specify the \"else\" command, which evaluate if the condition is False. \n",
    "language_to_learn = \"Python\"\n",
    "\n",
    "if language_to_learn == \"Python\":\n",
    "    print(\"You are in the right place!\")\n",
    "else:\n",
    "    print(\"You might be lost!\")"
   ]
  },
  {
   "cell_type": "code",
   "execution_count": 78,
   "id": "f7bde36f",
   "metadata": {},
   "outputs": [
    {
     "name": "stdout",
     "output_type": "stream",
     "text": [
      "You might be lost!\n"
     ]
    }
   ],
   "source": [
    "# This uses the \"if\" command, which evaluate if the condition is True. \n",
    "# We can also specify the \"else\" command, which evaluate if the condition is False. \n",
    "language_to_learn = \"Stata\"\n",
    "\n",
    "if language_to_learn == \"Python\":\n",
    "    print(\"You are in the right place!\")\n",
    "else:\n",
    "    print(\"You might be lost!\")"
   ]
  },
  {
   "cell_type": "code",
   "execution_count": 79,
   "id": "4ed15679",
   "metadata": {},
   "outputs": [
    {
     "name": "stdout",
     "output_type": "stream",
     "text": [
      "R is also cool :-)\n"
     ]
    }
   ],
   "source": [
    "language_to_learn = \"R\"\n",
    "\n",
    "if language_to_learn == \"Python\":\n",
    "    print(\"You are in the right place!\")\n",
    "elif language_to_learn == \"R\":\n",
    "    print(\"R is also cool :-)\")\n",
    "elif language_to_learn == \"C++\":\n",
    "    print(\"Very cool, but maybe too technical for our demand.\")\n",
    "else:\n",
    "    print(\"You might be lost!\")"
   ]
  },
  {
   "cell_type": "code",
   "execution_count": 83,
   "id": "3f01f8b5",
   "metadata": {},
   "outputs": [
    {
     "name": "stdout",
     "output_type": "stream",
     "text": [
      "0\n",
      "1\n",
      "2\n",
      "3\n",
      "4\n"
     ]
    }
   ],
   "source": [
    "# You can also skip an iteration with continue or dispurt the loop with break\n",
    "for i in range(5):\n",
    "#     if i == 1:\n",
    "#         continue\n",
    "#     if i == 4:\n",
    "#         break\n",
    "    print(i)"
   ]
  },
  {
   "cell_type": "markdown",
   "id": "20f3f7b1",
   "metadata": {},
   "source": [
    "## 6. Comprehensions\n",
    "    \n",
    "    6.1 List comprehension\n",
    "    6.2 Dictionary comprehension\n"
   ]
  },
  {
   "cell_type": "markdown",
   "id": "d2994fb1",
   "metadata": {},
   "source": [
    "##### 6.1 List comprehensions"
   ]
  },
  {
   "cell_type": "code",
   "execution_count": 85,
   "id": "b3a9e8cb",
   "metadata": {},
   "outputs": [],
   "source": [
    "# List comprehensions provide a concise way to create and modify lists. \n",
    "# Common applications are to make new lists where each element is \n",
    "# the result of some operations applied to each member of another\n",
    "# sequence or iterable, or to create a subsequence of those elements \n",
    "# that satisfy a certain condition.\n",
    "\n",
    "# A list comprehension consists of brackets containing an expression followed by a for clause,\n",
    "# then zero or more for or if clauses. The result will be a new list resulting from evaluating\n",
    "# the expression in the context of the for and if clauses which follow it."
   ]
  },
  {
   "cell_type": "code",
   "execution_count": null,
   "id": "9765d4b7",
   "metadata": {},
   "outputs": [],
   "source": [
    "# Create a list of squares using a for loop: \n",
    "squares = []\n",
    "for number in range(6):\n",
    "    squares.append(number ** 2)\n",
    "\n",
    "print(squares)"
   ]
  },
  {
   "cell_type": "code",
   "execution_count": null,
   "id": "544cccab",
   "metadata": {},
   "outputs": [],
   "source": [
    "# The list comprehension approach looks like this is:\n",
    "squares = [x ** 2 for x in range(6)]\n",
    "print(squares)"
   ]
  },
  {
   "cell_type": "code",
   "execution_count": 86,
   "id": "efdbf448",
   "metadata": {},
   "outputs": [
    {
     "name": "stdout",
     "output_type": "stream",
     "text": [
      "[(1, 3), (1, 4), (2, 3), (2, 1), (2, 4), (3, 1), (3, 4)]\n"
     ]
    }
   ],
   "source": [
    "# For example, this combines the elements of two lists if they are not equal. Very elegant!\n",
    "combinations_lc = [(x, y) for x in [1, 2, 3] for y in [3, 1, 4] if x != y]\n",
    "print(combinations_lc)"
   ]
  },
  {
   "cell_type": "code",
   "execution_count": 5,
   "id": "b18a0b44",
   "metadata": {},
   "outputs": [
    {
     "name": "stdout",
     "output_type": "stream",
     "text": [
      "[(1, 3), (1, 4), (2, 3), (2, 1), (2, 4), (3, 1), (3, 4)]\n"
     ]
    }
   ],
   "source": [
    "# Compare this to the for-loop way:\n",
    "combinations_fl = []\n",
    "for first_number in [1, 2, 3]:\n",
    "    for second_number in [3, 1, 4]:\n",
    "        if first_number != second_number:\n",
    "            combinations_fl.append((first_number, second_number))\n",
    "print(combinations_fl)"
   ]
  },
  {
   "cell_type": "code",
   "execution_count": 6,
   "id": "b0e97f4e",
   "metadata": {},
   "outputs": [
    {
     "data": {
      "text/plain": [
       "False"
      ]
     },
     "execution_count": 6,
     "metadata": {},
     "output_type": "execute_result"
    }
   ],
   "source": [
    "# Do they use refer to same memory slot?\n",
    "combinations_fl is combinations_lc"
   ]
  },
  {
   "cell_type": "code",
   "execution_count": 7,
   "id": "84da268e",
   "metadata": {},
   "outputs": [
    {
     "data": {
      "text/plain": [
       "True"
      ]
     },
     "execution_count": 7,
     "metadata": {},
     "output_type": "execute_result"
    }
   ],
   "source": [
    "# Are the values identical?\n",
    "combinations_fl == combinations_lc"
   ]
  },
  {
   "cell_type": "code",
   "execution_count": null,
   "id": "89e71087",
   "metadata": {},
   "outputs": [],
   "source": [
    "# A common use method is to flatten as list:\n",
    "vector = [[1, 2, 3], [4, 5, 6], [7, 8, 9]]\n",
    "flatten_vector = [num for elem in vector for num in elem]"
   ]
  },
  {
   "cell_type": "code",
   "execution_count": 87,
   "id": "f1155eb4",
   "metadata": {},
   "outputs": [
    {
     "name": "stdout",
     "output_type": "stream",
     "text": [
      "['even', 'odd', 'even', 'odd', 'even', 'odd', 'even', 'odd', 'even', 'odd']\n"
     ]
    }
   ],
   "source": [
    "# We can also add conditionals within a comprehension.\n",
    "odd_even = ['odd' if i % 2 == 1 else 'even' for i in range(10)]\n",
    "print(odd_even)"
   ]
  },
  {
   "cell_type": "markdown",
   "id": "fdd71b07",
   "metadata": {},
   "source": [
    "##### 6.2 Dictionary comprehensions"
   ]
  },
  {
   "cell_type": "code",
   "execution_count": null,
   "id": "5d49e53b",
   "metadata": {},
   "outputs": [],
   "source": [
    "# Dictionaries can be constructed using comprehensions as well."
   ]
  },
  {
   "cell_type": "code",
   "execution_count": null,
   "id": "1c29b5af",
   "metadata": {},
   "outputs": [],
   "source": [
    "dict_comp = {x: x**2 for x in (2, 4, 6)}\n",
    "print(dict_comp)"
   ]
  },
  {
   "cell_type": "markdown",
   "id": "fb154369",
   "metadata": {},
   "source": [
    "## Built-in Functions\n",
    "    7.1 Zipping\n",
    "    7.2 Enumeration\n",
    "    7.3 Length\n",
    "    7.4 Range"
   ]
  },
  {
   "cell_type": "markdown",
   "id": "4962cced",
   "metadata": {},
   "source": [
    "##### 7.1 Zipping"
   ]
  },
  {
   "cell_type": "code",
   "execution_count": 88,
   "id": "c487ebd6",
   "metadata": {},
   "outputs": [],
   "source": [
    "vector = [[1, 2, 3], [4, 5, 6], [7, 8, 9]]"
   ]
  },
  {
   "cell_type": "code",
   "execution_count": 98,
   "id": "36a379d5",
   "metadata": {},
   "outputs": [
    {
     "data": {
      "text/plain": [
       "[(1, 4, 7), (2, 5, 8), (3, 6, 9)]"
      ]
     },
     "execution_count": 98,
     "metadata": {},
     "output_type": "execute_result"
    }
   ],
   "source": [
    "# Unpacking iterables element-wise\n",
    "list(zip(*vector))"
   ]
  },
  {
   "cell_type": "code",
   "execution_count": 103,
   "id": "55ead469",
   "metadata": {},
   "outputs": [
    {
     "name": "stdout",
     "output_type": "stream",
     "text": [
      "[('John', 'Jenny'), ('Charles', 'Christy'), ('Mike', 'Monica')]\n"
     ]
    }
   ],
   "source": [
    "# Combine lists element-wise\n",
    "a = [\"John\", \"Charles\", \"Mike\"]\n",
    "b = [\"Jenny\", \"Christy\", \"Monica\"]\n",
    "\n",
    "x = list(zip(a, b))\n",
    "\n",
    "print(x)"
   ]
  },
  {
   "cell_type": "code",
   "execution_count": 109,
   "id": "189845b5",
   "metadata": {},
   "outputs": [
    {
     "data": {
      "text/plain": [
       "tuple"
      ]
     },
     "execution_count": 109,
     "metadata": {},
     "output_type": "execute_result"
    }
   ],
   "source": [
    "type(x[0])"
   ]
  },
  {
   "cell_type": "code",
   "execution_count": 108,
   "id": "3789e106",
   "metadata": {},
   "outputs": [
    {
     "data": {
      "text/plain": [
       "('John', 'Jenny')"
      ]
     },
     "execution_count": 108,
     "metadata": {},
     "output_type": "execute_result"
    }
   ],
   "source": [
    "x[0][0], x[0][1]"
   ]
  },
  {
   "cell_type": "code",
   "execution_count": 110,
   "id": "ad0de137",
   "metadata": {},
   "outputs": [
    {
     "name": "stdout",
     "output_type": "stream",
     "text": [
      "[(0, 'a'), (1, 'b'), (2, 'c')]\n"
     ]
    }
   ],
   "source": [
    "# Also possible with lists with different types of objects. \n",
    "a = [0, 1, 2]\n",
    "b = ['a', 'b', 'c']\n",
    "x = list(zip(a, b))\n",
    "print(x)"
   ]
  },
  {
   "cell_type": "code",
   "execution_count": 114,
   "id": "f66008e8",
   "metadata": {},
   "outputs": [
    {
     "data": {
      "text/plain": [
       "[(0, 1, 2), ('a', 'b', 'c')]"
      ]
     },
     "execution_count": 114,
     "metadata": {},
     "output_type": "execute_result"
    }
   ],
   "source": [
    "d = [(0, 'a'), (1, 'b'), (2, 'c')]\n",
    "list(zip(*d))"
   ]
  },
  {
   "cell_type": "markdown",
   "id": "b429ca86",
   "metadata": {},
   "source": [
    "###### 7.2 Enumeration"
   ]
  },
  {
   "cell_type": "markdown",
   "id": "46b5f879",
   "metadata": {},
   "source": [
    "https://www.geeksforgeeks.org/use-enumerate-and-zip-together-in-python/"
   ]
  },
  {
   "cell_type": "code",
   "execution_count": 115,
   "id": "4d2c0060",
   "metadata": {
    "scrolled": true
   },
   "outputs": [
    {
     "name": "stdout",
     "output_type": "stream",
     "text": [
      "[(0, 'a'), (1, 'b'), (2, 'c')]\n"
     ]
    }
   ],
   "source": [
    "l_enu = [(i, s) for i, s in enumerate(iterator2)]\n",
    "print(l_enu)"
   ]
  },
  {
   "cell_type": "code",
   "execution_count": 116,
   "id": "ab50f468",
   "metadata": {},
   "outputs": [],
   "source": [
    "# Create a list of names\n",
    "names = ['sravan', 'bobby', 'ojaswi', 'rohith', 'gnanesh']\n",
    "  \n",
    "# Create a list of subjects\n",
    "subjects = ['java', 'python', 'R', 'cpp', 'bigdata']\n",
    "  \n",
    "# Create a list of marks\n",
    "marks = [78, 100, 97, 89, 80]"
   ]
  },
  {
   "cell_type": "code",
   "execution_count": 9,
   "id": "37f51fa9",
   "metadata": {},
   "outputs": [
    {
     "name": "stdout",
     "output_type": "stream",
     "text": [
      "0 sravan java 78\n",
      "1 bobby python 100\n",
      "2 ojaswi R 97\n",
      "3 rohith cpp 89\n",
      "4 gnanesh bigdata 80\n"
     ]
    }
   ],
   "source": [
    "# Use enumerate() and zip() function # to iterate the lists.\n",
    "# What is the output of each iteration?\n",
    "for i, (names, subjects, marks) in enumerate(zip(names, subjects, marks)):\n",
    "    print(i, names, subjects, marks)"
   ]
  },
  {
   "cell_type": "markdown",
   "id": "825b18f0",
   "metadata": {},
   "source": [
    "###### 7.3 Length\n",
    "\n",
    "We have already encountered the `len()` function. This is a valuable built-in method that returns the length of an object if the object is iterable such as as strings, lists, dicts, and so on. "
   ]
  },
  {
   "cell_type": "code",
   "execution_count": 10,
   "id": "3b17f205",
   "metadata": {},
   "outputs": [],
   "source": [
    "len(speaker_party)"
   ]
  },
  {
   "cell_type": "markdown",
   "id": "2f45b541",
   "metadata": {},
   "source": [
    "###### 7.4 Range\n",
    "\n",
    "We have also encountered the `range()` function already. This is useful if we want to generate a sequence of numbers. The syntax is `range(start, stop, step)`. As default, the `start` parameter starts as 0. \n"
   ]
  },
  {
   "cell_type": "code",
   "execution_count": 19,
   "id": "7aa5ada9",
   "metadata": {},
   "outputs": [
    {
     "data": {
      "text/plain": [
       "(range(0, 5), [0, 1, 2, 3, 4])"
      ]
     },
     "execution_count": 19,
     "metadata": {},
     "output_type": "execute_result"
    }
   ],
   "source": [
    "range(5), list(range(5))"
   ]
  },
  {
   "cell_type": "markdown",
   "id": "1ef7b619",
   "metadata": {},
   "source": [
    "# 8 Functions\n",
    "    8.1 Defining functions\n",
    "    8.2 Namespaces\n",
    "    8.3 Parameters and Arguments"
   ]
  },
  {
   "cell_type": "markdown",
   "id": "21965a1f",
   "metadata": {},
   "source": [
    "###### 8.1 Defining Functions"
   ]
  },
  {
   "cell_type": "markdown",
   "id": "5f2a95b0",
   "metadata": {},
   "source": [
    "- The command `def` (short for definition) followed by a space tells Python that you are defining a function.\n",
    "\n",
    "- Functions are named followed by `def`. Good practice to keep function names lower letter. \n",
    "\n",
    "- The parameters are specified inside the parentheses `()` of the function name. \n",
    "\n",
    "- We use the `:` operator to explicitly say that the definition is done. \n",
    "\n",
    "- The following line must be indented. This tells Python that the code belongs to the function. "
   ]
  },
  {
   "cell_type": "code",
   "execution_count": 20,
   "id": "e203a7cb",
   "metadata": {},
   "outputs": [],
   "source": [
    "# Defining a simple function\n",
    "def add_one(x):\n",
    "    y = x+1\n",
    "    return y"
   ]
  },
  {
   "cell_type": "markdown",
   "id": "828a85cd",
   "metadata": {},
   "source": [
    "###### 8.2 Namespaces"
   ]
  },
  {
   "cell_type": "markdown",
   "id": "97ffedff",
   "metadata": {},
   "source": [
    "- Python has namespaces for variables.\n",
    "- There are multiple levels of namespace, but the two relevant to you are local and global.\n",
    "- Variables defined within a function are created within the local namespace of that function.\n",
    "- This means that they are only accessible from within the function.\n",
    "- Variables defined outside a function are created within the global namespace.\n",
    "- If a function contains a reference to a variable, it will first check to see whether the variable exists in the local namespace, and then the global one."
   ]
  },
  {
   "cell_type": "code",
   "execution_count": 117,
   "id": "047bb855",
   "metadata": {},
   "outputs": [],
   "source": [
    "# Lets clear the environment\n",
    "%reset -f"
   ]
  },
  {
   "cell_type": "code",
   "execution_count": 119,
   "id": "476dd2bc",
   "metadata": {},
   "outputs": [
    {
     "ename": "NameError",
     "evalue": "name 'y' is not defined",
     "output_type": "error",
     "traceback": [
      "\u001b[1;31m---------------------------------------------------------------------------\u001b[0m",
      "\u001b[1;31mNameError\u001b[0m                                 Traceback (most recent call last)",
      "Cell \u001b[1;32mIn[119], line 6\u001b[0m\n\u001b[0;32m      3\u001b[0m     y \u001b[38;5;241m=\u001b[39m \u001b[38;5;241m5\u001b[39m\n\u001b[0;32m      4\u001b[0m     \u001b[38;5;28;01mreturn\u001b[39;00m x \u001b[38;5;241m+\u001b[39m y\n\u001b[1;32m----> 6\u001b[0m \u001b[38;5;28mprint\u001b[39m(\u001b[43my\u001b[49m)\n",
      "\u001b[1;31mNameError\u001b[0m: name 'y' is not defined"
     ]
    }
   ],
   "source": [
    "# What will print return here?\n",
    "def f(x):\n",
    "    y = 5\n",
    "    return x + y\n",
    "\n",
    "print(y)"
   ]
  },
  {
   "cell_type": "code",
   "execution_count": 120,
   "id": "3457e2fe",
   "metadata": {},
   "outputs": [
    {
     "name": "stdout",
     "output_type": "stream",
     "text": [
      "10\n"
     ]
    }
   ],
   "source": [
    "# In this case where y is already defined, the function always try to access the local object first. What does it return?\n",
    "y = 0\n",
    "\n",
    "def f(x):\n",
    "    y = 5\n",
    "    return x + y\n",
    "\n",
    "print(f(5))"
   ]
  },
  {
   "cell_type": "code",
   "execution_count": 24,
   "id": "e6d45b9f",
   "metadata": {},
   "outputs": [
    {
     "name": "stdout",
     "output_type": "stream",
     "text": [
      "7\n"
     ]
    }
   ],
   "source": [
    "# If the function can not find any local object called y, it looks in the global namespace. What is returned here?\n",
    "y = 2\n",
    "\n",
    "def f(x):\n",
    "    return x + y\n",
    "\n",
    "print(f(5))"
   ]
  },
  {
   "cell_type": "code",
   "execution_count": 121,
   "id": "0df2fb58",
   "metadata": {},
   "outputs": [],
   "source": [
    "# Most functions are written explicitly. However, it is also possible to define so-called anonymous functions. \n",
    "# These are called lambda functions. In the example below, the f() and lambda functions is identical\n",
    "def f(x):\n",
    "    return x+1\n",
    "\n",
    "lambda_f = lambda x: x+1\n",
    "\n",
    "# We will see neat uses of lambda functions when we want to iterate over columns or rows in pandas dataframes. "
   ]
  },
  {
   "cell_type": "code",
   "execution_count": 122,
   "id": "793dd2cc",
   "metadata": {},
   "outputs": [
    {
     "data": {
      "text/plain": [
       "[(4, 'four'), (1, 'one'), (3, 'three'), (2, 'two')]"
      ]
     },
     "execution_count": 122,
     "metadata": {},
     "output_type": "execute_result"
    }
   ],
   "source": [
    "# Another use of lambda is to pass a small function as an argument.\n",
    "pairs = [(1, 'one'), (2, 'two'), (3, 'three'), (4, 'four')]\n",
    "\n",
    "# Sort pairs by text key\n",
    "sorted(pairs, key=lambda pair: pair[1])"
   ]
  },
  {
   "cell_type": "markdown",
   "id": "983bccf7",
   "metadata": {},
   "source": [
    "###### 8.3 Parameters and Values"
   ]
  },
  {
   "cell_type": "code",
   "execution_count": 36,
   "id": "e69b448e",
   "metadata": {},
   "outputs": [],
   "source": [
    "# In the simple function, x is a parameter that the function must be given. \n",
    "def add_one(x):\n",
    "    y = x+1\n",
    "    return y"
   ]
  },
  {
   "cell_type": "code",
   "execution_count": 123,
   "id": "535df1c7",
   "metadata": {},
   "outputs": [
    {
     "ename": "NameError",
     "evalue": "name 'add_one' is not defined",
     "output_type": "error",
     "traceback": [
      "\u001b[1;31m---------------------------------------------------------------------------\u001b[0m",
      "\u001b[1;31mNameError\u001b[0m                                 Traceback (most recent call last)",
      "Cell \u001b[1;32mIn[123], line 1\u001b[0m\n\u001b[1;32m----> 1\u001b[0m \u001b[43madd_one\u001b[49m()\n",
      "\u001b[1;31mNameError\u001b[0m: name 'add_one' is not defined"
     ]
    }
   ],
   "source": [
    "add_one()"
   ]
  },
  {
   "cell_type": "code",
   "execution_count": 39,
   "id": "770e3049",
   "metadata": {},
   "outputs": [
    {
     "data": {
      "text/plain": [
       "2"
      ]
     },
     "execution_count": 39,
     "metadata": {},
     "output_type": "execute_result"
    }
   ],
   "source": [
    "# Positional argument\n",
    "add_one(1)"
   ]
  },
  {
   "cell_type": "code",
   "execution_count": 38,
   "id": "14c70d31",
   "metadata": {},
   "outputs": [
    {
     "data": {
      "text/plain": [
       "2"
      ]
     },
     "execution_count": 38,
     "metadata": {},
     "output_type": "execute_result"
    }
   ],
   "source": [
    "# Keyword argument\n",
    "add_one(x=1)"
   ]
  },
  {
   "cell_type": "code",
   "execution_count": 124,
   "id": "becab038",
   "metadata": {},
   "outputs": [],
   "source": [
    "# In the simple function, x is a parameter that the function must be given. \n",
    "def add_one(x, y=None):\n",
    "    \n",
    "    if y:\n",
    "        return x + 1 + y\n",
    "    else:\n",
    "        return x + 1"
   ]
  },
  {
   "cell_type": "code",
   "execution_count": 125,
   "id": "a19f0027",
   "metadata": {},
   "outputs": [
    {
     "data": {
      "text/plain": [
       "(2, 12)"
      ]
     },
     "execution_count": 125,
     "metadata": {},
     "output_type": "execute_result"
    }
   ],
   "source": [
    "add_one(x=1), add_one(x=1, y=10)"
   ]
  },
  {
   "cell_type": "code",
   "execution_count": 48,
   "id": "3615fe7c",
   "metadata": {},
   "outputs": [
    {
     "ename": "SyntaxError",
     "evalue": "positional argument follows keyword argument (439698205.py, line 3)",
     "output_type": "error",
     "traceback": [
      "\u001b[1;36m  Cell \u001b[1;32mIn[48], line 3\u001b[1;36m\u001b[0m\n\u001b[1;33m    add_one(y=10, 1)\u001b[0m\n\u001b[1;37m                  ^\u001b[0m\n\u001b[1;31mSyntaxError\u001b[0m\u001b[1;31m:\u001b[0m positional argument follows keyword argument\n"
     ]
    }
   ],
   "source": [
    "# If using both positional and keyword arguments, all positional arguments must come before the keywords. \n",
    "# This, for instance, returns an error:\n",
    "add_one(y=10, 1)"
   ]
  },
  {
   "cell_type": "code",
   "execution_count": 49,
   "id": "6a33e59b",
   "metadata": {},
   "outputs": [
    {
     "data": {
      "text/plain": [
       "12"
      ]
     },
     "execution_count": 49,
     "metadata": {},
     "output_type": "execute_result"
    }
   ],
   "source": [
    "# This works. Good practice is to use keyword arguments. If the function is simple, positional arguments are just fine.\n",
    "add_one(1, y=10)"
   ]
  },
  {
   "cell_type": "code",
   "execution_count": 58,
   "id": "5a65b641",
   "metadata": {},
   "outputs": [],
   "source": [
    "# You can also annotate a function to increase the transparency.\n",
    "# Not required, only to understand the function better. \n",
    "def breakfast(ham: str, eggs: str = 'eggs') -> str:\n",
    "    \"\"\"Breakfast creator.\n",
    "\n",
    "    This function has a positional argument, a keyword argument, and the return value annotated.\n",
    "    \"\"\"\n",
    "    return ham + ' and ' + eggs"
   ]
  },
  {
   "cell_type": "code",
   "execution_count": 55,
   "id": "502abc4f",
   "metadata": {},
   "outputs": [
    {
     "data": {
      "text/plain": [
       "{'ham': str, 'eggs': str, 'return': str}"
      ]
     },
     "execution_count": 55,
     "metadata": {},
     "output_type": "execute_result"
    }
   ],
   "source": [
    "# Accessible with __annotations__ attribute\n",
    "breakfast.__annotations__"
   ]
  }
 ],
 "metadata": {
  "kernelspec": {
   "display_name": "Python 3 (ipykernel)",
   "language": "python",
   "name": "python3"
  },
  "language_info": {
   "codemirror_mode": {
    "name": "ipython",
    "version": 3
   },
   "file_extension": ".py",
   "mimetype": "text/x-python",
   "name": "python",
   "nbconvert_exporter": "python",
   "pygments_lexer": "ipython3",
   "version": "3.10.12"
  }
 },
 "nbformat": 4,
 "nbformat_minor": 5
}
