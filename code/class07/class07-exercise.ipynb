{
 "cells": [
  {
   "cell_type": "markdown",
   "id": "679bac2d",
   "metadata": {},
   "source": [
    "# Class 7: Topics Modeling and Dictionary-based Analysis - Exercise"
   ]
  },
  {
   "cell_type": "markdown",
   "id": "41e0dc56",
   "metadata": {},
   "source": [
    "## 0 Setup "
   ]
  },
  {
   "cell_type": "code",
   "execution_count": 71,
   "id": "82760f9d",
   "metadata": {},
   "outputs": [],
   "source": [
    "# Import basic Python modules\n",
    "import os\n",
    "import platform\n",
    "\n",
    "# Data mangement libraries\n",
    "import numpy as np\n",
    "import pandas as pd\n",
    "\n",
    "# For progress bar\n",
    "from tqdm import tqdm\n",
    "\n",
    "# Gensim\n",
    "from gensim.corpora.dictionary import Dictionary\n",
    "from gensim.models.ldamodel import LdaModel\n",
    "\n",
    "# SpaCy\n",
    "import spacy\n",
    "\n",
    "# For regular expressions\n",
    "import re\n",
    "\n",
    "# For sentiment analysis\n",
    "from sentida import Sentida"
   ]
  },
  {
   "cell_type": "code",
   "execution_count": 22,
   "id": "69246e78",
   "metadata": {},
   "outputs": [
    {
     "data": {
      "text/plain": [
       "'/home/rask/Dropbox/teaching/css_fall2023'"
      ]
     },
     "execution_count": 22,
     "metadata": {},
     "output_type": "execute_result"
    }
   ],
   "source": [
    "# # # # Working Directory # # # #\n",
    "\n",
    "if platform.system() == 'Linux':\n",
    "    wd = '/home/rask/'\n",
    "else:\n",
    "    wd = 'C:/Users/au535365/'\n",
    "\n",
    "wd = os.path.join(wd, 'Dropbox/teaching/css_fall2023')\n",
    "    \n",
    "# Change directory\n",
    "os.chdir(wd)\n",
    "\n",
    "# Confirm that the working directory is as intended \n",
    "os.getcwd()"
   ]
  },
  {
   "cell_type": "markdown",
   "id": "a1a57ead",
   "metadata": {},
   "source": [
    "#### Exercise 0.0: Reading in Data\n",
    "\n",
    "We start by reading in data. We work the same data as in *class05* and *class06* but restrict ourselves to a single year. You can choose whatever year you like, but make sure to have at least $10,000$ in the dataframe when you have loaded the data. Call the dataframe `df`\n",
    "\n",
    "Note also tha we can read the data directly from GitHub. See the notebook `class05-filereading.ipynb` for details."
   ]
  },
  {
   "cell_type": "markdown",
   "id": "f67bd8c8",
   "metadata": {},
   "source": [
    "#### Solution 0.0"
   ]
  },
  {
   "cell_type": "markdown",
   "id": "c1bfc55b",
   "metadata": {},
   "source": [
    "#### Exercise 0.1: Removal of Short Texts\n",
    "\n",
    "Text-based methods generally work better with longer documents. Hence, we remove short texts, which are likely to be uninformative anyway. \n",
    "\n",
    "Compute the number of characters in each speech and keep only speeches with $V$ or more characters. Argue for your choice of $V$."
   ]
  },
  {
   "cell_type": "markdown",
   "id": "2841ef0b",
   "metadata": {},
   "source": [
    "#### Solution 0.1"
   ]
  },
  {
   "cell_type": "markdown",
   "id": "6d3cf74a",
   "metadata": {},
   "source": [
    "## 1 Topic Modeling\n",
    "\n",
    "The exercises in the next section regards topic modeling. Our task is to identify topics discussed in parliamentary speeches from the Danish parliament in the given term that you decided upon in *exercise 0.0*. This is **very** common task when you work with text data. Mastering it will make your life easier :-) "
   ]
  },
  {
   "cell_type": "markdown",
   "id": "b17943a2",
   "metadata": {},
   "source": [
    "#### Exercise 1.0: Load SpaCy Model\n",
    "\n",
    "1) Load in the spacy model we used in *class06* and assign to an object called `spacy_pipeline_da`.\n",
    "2) Define a list called `texts` with the `text` column from `df`. Remember to type cast it as a list."
   ]
  },
  {
   "cell_type": "markdown",
   "id": "9a99038f",
   "metadata": {},
   "source": [
    "#### Solution 1.0"
   ]
  },
  {
   "cell_type": "markdown",
   "id": "6b70fc9d",
   "metadata": {},
   "source": [
    "#### Exercise 1.1: Text Cleaning I\n",
    "\n",
    "Cleaning our text is a very important step in working with text data. \n",
    "\n",
    "  1. Remove the weird encoding '\\xa0'. This encoding does not always appear, but sometimes it will. Remove it.\n",
    "  2. Remove two or more consecutive whitespaces.\n",
    "    \n",
    "You can use the `re` module for these tasks wrapped in list comprehensions. We also did this in the tutorial.\n",
    "\n",
    "A good tip is to assign the cleaned text to a new object, for instance called `texts_cleaned` or another name of your choice."
   ]
  },
  {
   "cell_type": "markdown",
   "id": "aa8aecb4",
   "metadata": {},
   "source": [
    "#### Solution 1.1"
   ]
  },
  {
   "cell_type": "markdown",
   "id": "e52c87f1",
   "metadata": {},
   "source": [
    "#### Exercise 1.2: Text Cleaning II\n",
    "\n",
    "Each language has a set of stopwords, which we typically wants to remove. \n",
    "\n",
    "Each corpus also has a set of corpus-specific characteristics that can be viewed as stopwords. In parliamentary speeches, this includes words like *ordfører*, *lovforslag*, and so on. Furthermore, mentionings of legislators and parties are very common and often uninformative, at least for the perspective of topic modelling.  \n",
    "\n",
    "Below, I provide you a bunch of lists with names of politicians, procedural words, and parties that we want to remove in `removal_words`. I also make the regular expression for you `removal_pattern`. Try to figure out what's going on if you like. Maybe ask ChatGPT.\n",
    "\n",
    "Your task is now to:\n",
    "\n",
    "1. Define a list of Danish stopwords using the loaded pipeline `spacy_pipeline_da` (we also did this in *class06* and in the *class07-tutorial*). Call the object `stopwords`.\n",
    "\n",
    "2. Remove the words defined in the regular expression `removal_pattern` from your cleaned text from *exercise 1.3* \n",
    "\n",
    "3. Remove two or more consecutive whitespaces (reuse your code from *exercise 1.3*).\n",
    "\n",
    "\n"
   ]
  },
  {
   "cell_type": "code",
   "execution_count": 37,
   "id": "159cefb6",
   "metadata": {},
   "outputs": [],
   "source": [
    "names_to_remove = [x[:-1] + '[a-z]+' for x in list(df.speaker.unique())]\n",
    "\n",
    "procedural_to_remove = ['[Ll]ovforsla[a-z]+', 'ordfør[a-z]+', 'spørgsmå[a-z]+',\n",
    "                        'forsla[a-z]+', 'L', 'B', '[Hh]r', '[Ff]ru', '[Aa]fstemnin[a-z]+',\n",
    "                        '[Ff]orhandlin[a-z]+', '[Hh]r', '[Ff]ru']\n",
    "                   \n",
    "parties_to_remove = ['[Ll]iberal [Aa]llianc[a-z]+', 'LA', '[Dd]et [Kk]onservative [Ff]olkepar[a-z]+', 'KF',\n",
    "                   '[Dd]e [Kk]onservati[a-z]+', 'Venst[a-z]+', '[Dd]ansk [Ff]olkepart[a-z]+', \n",
    "                   '[Nn]ye [Bb]orgerli[a-z]+', '[Dd]e [Rr]adikal[a-z]+', '[Ss]ocialdemokratie[a-z+]',\n",
    "                   '[Ss]ocialdemokra[a-z]+', '[Ss]ocialistis[a-z]+ [Ff]olkepart[a-z]+', 'SF',\n",
    "                   '[Aa]lternative[a-z]+', '[Ee]nhedslist[a-z]+', '[Rr]adika[a-z]+']        \n",
    "\n",
    "removal_words = parties_to_remove + procedural_to_remove + names_to_remove\n",
    "        \n",
    "removal_pattern = r'\\b(?:' + '|'.join(removal_words) + r')\\b'"
   ]
  },
  {
   "cell_type": "markdown",
   "id": "60757981",
   "metadata": {},
   "source": [
    "#### Solution 1.2"
   ]
  },
  {
   "cell_type": "markdown",
   "id": "deee71e1",
   "metadata": {},
   "source": [
    "#### Exercise 1.3: Tokenization\n",
    "\n",
    "We now want to tokenize our speeches. Use the pipeline `spacy_pipeline_da`, which you loaded in *exercise 1.2*.\n",
    "\n",
    "You should iterate over our cleaned text from *exercise 1.4*. Assign the tokens to an object called `tokens_raw` "
   ]
  },
  {
   "cell_type": "code",
   "execution_count": 39,
   "id": "157640e2",
   "metadata": {},
   "outputs": [
    {
     "name": "stderr",
     "output_type": "stream",
     "text": [
      "100%|█████████████████████████████████████| 17937/17937 [07:25<00:00, 40.23it/s]\n"
     ]
    }
   ],
   "source": [
    "# Tokenize \n",
    "tokens_raw = [[d for d in spacy_pipeline_da(doc)] for doc in tqdm(texts_cleaned, position=0, leave=True)]"
   ]
  },
  {
   "cell_type": "markdown",
   "id": "4b1bedbd",
   "metadata": {},
   "source": [
    "#### Solution 1.3"
   ]
  },
  {
   "cell_type": "markdown",
   "id": "327b5e3a",
   "metadata": {},
   "source": [
    "#### Exercise 1.4 Preprocessing I\n",
    "\n",
    "Preprocessing can influence our results in both positive and negative ways. Apply a range of preprocessing steps of your choice on your `tokens_raw` object from *exercise 1.6*. You should remove stopwords, but what you do besides that depends on your intution and line of reasoning. Whatever you decide, you should return tokens using SpaCy's `.text` attribute or `.lower_` attribute if you want to lower your terms.\n",
    "\n",
    "Assign your result to an object called `tokens_clean`"
   ]
  },
  {
   "cell_type": "markdown",
   "id": "50ab0e73",
   "metadata": {},
   "source": [
    "#### Solution 1.4: "
   ]
  },
  {
   "cell_type": "markdown",
   "id": "2ef37b69",
   "metadata": {},
   "source": [
    "#### Exercise 1.5 Preprocessing II\n",
    "\n",
    "As a final preprocessing step, we consider whether we should remove rare and frequent occuring terms. We have already removed many frequent terms when we removed stopwords and also the domain-specific stopwords such as the names of legislators, party names, and procedural words. \n",
    "\n",
    "1. Argue why removal of frequent and rare terms can benefit topic modeling\n",
    "2. Compute the word frequency and word-document frequency based on your `tokens_clean`. I have provided you with code to do in the tutorial (**Note**: you can not use the code if you have not returned the tokens using the `.text` or `.lower_` attribute in *exercise 1.6*)\n",
    "3. Remove frequent and rare terms according to thresholds of your choice (e.g. terms that occur in what corresponds to 10% of the total speeches or words that occur in at least 5 speeches across corpus)\n",
    "4. Compute the number of tokens for the first speech before and after removal of rare/frequent words) \n",
    "\n",
    "Assign your final tokens to an object called `tokens_final`"
   ]
  },
  {
   "cell_type": "markdown",
   "id": "1de52ff7",
   "metadata": {},
   "source": [
    "#### Solution 1.5"
   ]
  },
  {
   "cell_type": "markdown",
   "id": "cac22d76",
   "metadata": {},
   "source": [
    "#### Exercise 1.6\n",
    "\n",
    "1. Construct the vocabulary using the Dictionary class from gensim on `tokens_final`\n",
    "2. Construct the BoW from the vocabulary from step 1\n",
    "\n",
    "See the tutorial for the class if you can't remember how to do so."
   ]
  },
  {
   "cell_type": "markdown",
   "id": "6475a239",
   "metadata": {},
   "source": [
    "#### Solution 1.6"
   ]
  },
  {
   "cell_type": "markdown",
   "id": "2aa1ed68",
   "metadata": {},
   "source": [
    "#### Exercise 1.7\n",
    "\n",
    "Estimate a LDA model with a topic number $k$ of your choice. Argue for your choice of $k$."
   ]
  },
  {
   "cell_type": "markdown",
   "id": "ac70da4c",
   "metadata": {},
   "source": [
    "#### Solution 1.7"
   ]
  },
  {
   "cell_type": "markdown",
   "id": "2c979e68",
   "metadata": {},
   "source": [
    "#### Exercise 1.8: Interpretation of Results\n",
    "\n",
    "1. Print the results from the topic using the `.print_topics()` method specifying the argument `num_topics` with your choice of $k$. If you do not specify $k$, it leaves out some of the topics.\n",
    "2. Use the `TopicInspector` class from the tutorial to see the topic-word distributions and topic-document distributions."
   ]
  },
  {
   "cell_type": "code",
   "execution_count": 112,
   "id": "8c7ab3b8",
   "metadata": {},
   "outputs": [],
   "source": [
    "class TopicInspector:\n",
    "    \"\"\" A class for inspecting and analyzing Latent Dirichlet Allocation (LDA) models. \n",
    "        \n",
    "        Attributes:\n",
    "            lda_model (gensim.models.LdaModel): The LDA model to be inspected.\n",
    "            vocab (dict): A vocabulary mapping from word IDs to words.\n",
    "            corpus (list of list of tuples): The corpus of documents used to train the LDA model.\n",
    "            num_topics (int): The number of topics in the LDA model.\n",
    "            topn (int, optional): The number of top words in each topic to consider (default is 10).\n",
    "        \n",
    "        Methods:\n",
    "            id2token(wid): Convert a word ID to its corresponding word in the vocabulary.\n",
    "            get_topic_words(tid): Get the top words associated with a given topic.\n",
    "            get_topic_word_prob(tid): Get the probabilities of the top words in a given topic.\n",
    "            topic_word_df(): Create a DataFrame representing the top words for each topic.\n",
    "            topic_doc_df(add_max_topic=True, add_max_score=True): Create a DataFrame representing the topic distribution for each document in the corpus.\n",
    "    \"\"\"\n",
    "    \n",
    "    def __init__(self, lda_model, vocab, corpus, topn=10):\n",
    "        self.lda_model = lda_model\n",
    "        self.vocab = vocab\n",
    "        self.corpus = corpus\n",
    "        self.num_topics = self.lda_model.num_topics\n",
    "        self.topn = topn\n",
    "    \n",
    "    def id2token(self, wid):\n",
    "        return self.vocab[wid]\n",
    "    \n",
    "    def get_topic_words(self, tid):\n",
    "        topic_terms = self.lda_model.get_topic_terms(tid, topn=self.topn)\n",
    "        wordids, score = zip(*topic_terms)\n",
    "        return [self.id2token(x) for x in wordids]\n",
    "    \n",
    "    def get_topic_word_prob(self, tid):\n",
    "        topic_terms = self.lda_model.get_topic_terms(tid, topn=self.topn)\n",
    "        wordids, score = zip(*topic_terms)\n",
    "        return score\n",
    "    \n",
    "    def topic_word_df(self):\n",
    "        \n",
    "        topic_df_list = []\n",
    "        for k in range(0, self.num_topics - 1):\n",
    "            words = self.get_topic_words(tid=k)\n",
    "            topic_df_ = pd.DataFrame(words, columns=[f'topic{k}'])\n",
    "            topic_df_list.append(topic_df_)\n",
    "        \n",
    "        topic_word_df = pd.concat(topic_df_list, axis=1)\n",
    "        \n",
    "        return topic_word_df\n",
    "            \n",
    "    \n",
    "    def topic_doc_df(self, add_max_topic=True, add_max_score=True):\n",
    "        \n",
    "        topic_docs = self.lda_model.get_document_topics(self.corpus, minimum_probability=0)\n",
    "        doc_dist_list = []\n",
    "        for d in range(len(topic_docs)):\n",
    "            doc_dist = [x[1] for x in topic_docs[d]]\n",
    "            doc_dist_list.append(doc_dist)\n",
    "        \n",
    "        topic_doc_df = pd.DataFrame(doc_dist_list, columns=[f'topic{x}' for x in range(self.num_topics)])\n",
    "        if add_max_topic:\n",
    "            max_topics = topic_doc_df.idxmax(axis=1)\n",
    "        else:\n",
    "            max_topics = None\n",
    "        \n",
    "        if add_max_score:\n",
    "            max_scores = topic_doc_df.max(axis=1)\n",
    "        else:\n",
    "            max_scores = None\n",
    "        \n",
    "        if add_max_topic:\n",
    "            topic_doc_df['max_topic'] = max_topics\n",
    "        \n",
    "        if add_max_score: \n",
    "            topic_doc_df['max_score'] = max_scores\n",
    "\n",
    "        return topic_doc_df\n",
    "10"
   ]
  },
  {
   "cell_type": "markdown",
   "id": "41c28015",
   "metadata": {},
   "source": [
    "#### Solution 1.8"
   ]
  },
  {
   "cell_type": "markdown",
   "id": "8d5e619f",
   "metadata": {},
   "source": [
    "## 2.0 Sentiment\n",
    "\n",
    "The exercises in the this section regards sentiment analysis. "
   ]
  },
  {
   "cell_type": "markdown",
   "id": "1e8b603d",
   "metadata": {},
   "source": [
    "#### Exercise 2.0\n",
    "\n",
    "We will work with dictionaries of positive and negative words compiled by the Lexicoder Sentiment Dictionary (LSD), which contains a list of positive and negative words. The LSD was originally compiled by Young and Soroka (2012) for English text with the purpose of studying newspaper content. \n",
    "\n",
    "The LSD dictionary was translated by Proksch et al. (2019) in their article *Multilingual sentiment analysis: A new approach to measuring conflict in legislative speeches* to study the government/opposition conflict-dynamic at the level of each bill in Western democracies.\n",
    " \n",
    "Note that the dictionaries contain bi-grams and maybe also tri-grams. We only, however, rely on the one-grams, i.e. single words.\n",
    "\n",
    "1. Load the two dictionaries from directly from the GitHub repo as pandas dataframes:\n",
    "- *lsd_pos.csv*\n",
    "- *lsd_neg.csv*\n",
    "2. Keep only single words (i.e. exclude bi-grams, tri-grams, and so on) and words with at least three characters\n",
    "\n",
    "3. Define a list called `docs` based on the dataframe `df`, which you loaded and filtered in *exercise 0.0* and *0.1*, respectively. \n",
    "\n",
    "4. Generate lazy tokens from the `docs` list using a simple `.split()` method"
   ]
  },
  {
   "cell_type": "markdown",
   "id": "9f8c996d",
   "metadata": {},
   "source": [
    "#### Solution 2.0"
   ]
  },
  {
   "cell_type": "markdown",
   "id": "7927f141",
   "metadata": {},
   "source": [
    "#### Exercise  2.1\n",
    "\n",
    "In this exercise, we will compute sentiment scores for each text using three different approaches.\n",
    "\n",
    "- Approach 1: Sentiment Difference: Differene of positive and negative words:\n",
    "    \\begin{align}\n",
    "        \\frac{(tokens_i\\cap \\text{positive words}) - (tokens_i\\cap \\text{negative words})}{N_{tokens_i}}\n",
    "    \\end{align}\n",
    "- Approach 2: Sentiment Ratio: Ratio between positive and negative words:\n",
    "    \\begin{align}\n",
    "        \\log_{10}\\frac{(tokens_i\\cap \\text{positive words}) + 0.5}{(tokens_i\\cap \\text{negative words}) + 0.5}\n",
    "    \\end{align}\n",
    "- Approach 3: Sentiment Weights: Weighted average of positive and negative words\n",
    "\n",
    "\n",
    "For *Approach 1* and *Approach 2*, we rely on the intersection of words, which is basically the same as the summation notation we saw on the slides. For *Approach 3*, we rely on the Python module `Sentida` (https://github.com/Guscode/Sentida), which computes a weighted average.\n",
    "\n",
    "The intersection of two lists are:\n",
    "    \\begin{align}\n",
    "        a &= [1,2,3] \\\\\n",
    "        b &= [1,4,3] \\\\\n",
    "        a\\cap b &= [1,3]\n",
    "    \\end{align}\n",
    "\n",
    "1. Define a function that computes the intersection of two lists. If you can't figure a solution out, check the solutions.\n",
    "2. Compute the intersection between words in each speech and positive and negative words respectively. Assign the results to two lists: `positivity_words` and `negavitity_words`.\n",
    "3. Compute the sentiment scores for the three different approaches and assign to objects called:\n",
    "    - `sentiment_diff`\n",
    "    - `sentiment_ratio`\n",
    "    - `sentiment_weight`\n",
    "4. Compute the highest and lowest sentiment score for each of three approaches and their resulting indices (*Hints*: np.max/min vs. np.argmax/argmin)\n",
    "5. Compute the pairwise correlation between the three approaches and visualize them. I provide you with code for this step.\n",
    "6. Interpret the results. Which approaches correlate the most? Does it make sense? How can we interpret the scores? Are they absolute or relative?"
   ]
  },
  {
   "cell_type": "markdown",
   "id": "b0be2a0b",
   "metadata": {},
   "source": [
    "#### Solution 2.1"
   ]
  },
  {
   "cell_type": "code",
   "execution_count": 196,
   "id": "0a63c6ed",
   "metadata": {},
   "outputs": [],
   "source": [
    "# Solution to step 6\n",
    "\n",
    "# Import module to plot heatmap as image\n",
    "import plotly.express as px\n",
    "\n",
    "# Convert the sentiment scores to a dataframe \n",
    "sent_df = pd.DataFrame({'sent_diff': sentiment_diff,\n",
    "                  'sent_ratio': sentiment_ratio,\n",
    "                  'sent_weight': sentiment_weight})\n",
    "\n",
    "# Compute the pairwise correlation using pearson's r\n",
    "corr_df = sent_df.corr(method=\"pearson\")\n",
    "\n",
    "# Generate visualization\n",
    "corr_heatmap = px.imshow(corr_df.to_numpy(), \n",
    "          x=list(corr_df.index),\n",
    "          y=list(corr_df.index),\n",
    "          labels=dict(color=\"Similarity Score\"),\n",
    "          color_continuous_scale='GnBu')"
   ]
  },
  {
   "cell_type": "code",
   "execution_count": 268,
   "id": "da11ad29",
   "metadata": {
    "collapsed": true
   },
   "outputs": [
    {
     "data": {
      "application/vnd.plotly.v1+json": {
       "config": {
        "plotlyServerURL": "https://plot.ly"
       },
       "data": [
        {
         "coloraxis": "coloraxis",
         "hovertemplate": "x: %{x}<br>y: %{y}<br>Similarity Score: %{z}<extra></extra>",
         "name": "0",
         "type": "heatmap",
         "x": [
          "sent_diff",
          "sent_ratio",
          "sent_weight"
         ],
         "xaxis": "x",
         "y": [
          "sent_diff",
          "sent_ratio",
          "sent_weight"
         ],
         "yaxis": "y",
         "z": [
          [
           1,
           0.9203041906147502,
           0.40321730108941495
          ],
          [
           0.9203041906147502,
           1,
           0.3762546668955406
          ],
          [
           0.40321730108941495,
           0.3762546668955406,
           1
          ]
         ]
        }
       ],
       "layout": {
        "coloraxis": {
         "colorbar": {
          "title": {
           "text": "Similarity Score"
          }
         },
         "colorscale": [
          [
           0,
           "rgb(247,252,240)"
          ],
          [
           0.125,
           "rgb(224,243,219)"
          ],
          [
           0.25,
           "rgb(204,235,197)"
          ],
          [
           0.375,
           "rgb(168,221,181)"
          ],
          [
           0.5,
           "rgb(123,204,196)"
          ],
          [
           0.625,
           "rgb(78,179,211)"
          ],
          [
           0.75,
           "rgb(43,140,190)"
          ],
          [
           0.875,
           "rgb(8,104,172)"
          ],
          [
           1,
           "rgb(8,64,129)"
          ]
         ]
        },
        "margin": {
         "t": 60
        },
        "template": {
         "data": {
          "bar": [
           {
            "error_x": {
             "color": "#2a3f5f"
            },
            "error_y": {
             "color": "#2a3f5f"
            },
            "marker": {
             "line": {
              "color": "#E5ECF6",
              "width": 0.5
             },
             "pattern": {
              "fillmode": "overlay",
              "size": 10,
              "solidity": 0.2
             }
            },
            "type": "bar"
           }
          ],
          "barpolar": [
           {
            "marker": {
             "line": {
              "color": "#E5ECF6",
              "width": 0.5
             },
             "pattern": {
              "fillmode": "overlay",
              "size": 10,
              "solidity": 0.2
             }
            },
            "type": "barpolar"
           }
          ],
          "carpet": [
           {
            "aaxis": {
             "endlinecolor": "#2a3f5f",
             "gridcolor": "white",
             "linecolor": "white",
             "minorgridcolor": "white",
             "startlinecolor": "#2a3f5f"
            },
            "baxis": {
             "endlinecolor": "#2a3f5f",
             "gridcolor": "white",
             "linecolor": "white",
             "minorgridcolor": "white",
             "startlinecolor": "#2a3f5f"
            },
            "type": "carpet"
           }
          ],
          "choropleth": [
           {
            "colorbar": {
             "outlinewidth": 0,
             "ticks": ""
            },
            "type": "choropleth"
           }
          ],
          "contour": [
           {
            "colorbar": {
             "outlinewidth": 0,
             "ticks": ""
            },
            "colorscale": [
             [
              0,
              "#0d0887"
             ],
             [
              0.1111111111111111,
              "#46039f"
             ],
             [
              0.2222222222222222,
              "#7201a8"
             ],
             [
              0.3333333333333333,
              "#9c179e"
             ],
             [
              0.4444444444444444,
              "#bd3786"
             ],
             [
              0.5555555555555556,
              "#d8576b"
             ],
             [
              0.6666666666666666,
              "#ed7953"
             ],
             [
              0.7777777777777778,
              "#fb9f3a"
             ],
             [
              0.8888888888888888,
              "#fdca26"
             ],
             [
              1,
              "#f0f921"
             ]
            ],
            "type": "contour"
           }
          ],
          "contourcarpet": [
           {
            "colorbar": {
             "outlinewidth": 0,
             "ticks": ""
            },
            "type": "contourcarpet"
           }
          ],
          "heatmap": [
           {
            "colorbar": {
             "outlinewidth": 0,
             "ticks": ""
            },
            "colorscale": [
             [
              0,
              "#0d0887"
             ],
             [
              0.1111111111111111,
              "#46039f"
             ],
             [
              0.2222222222222222,
              "#7201a8"
             ],
             [
              0.3333333333333333,
              "#9c179e"
             ],
             [
              0.4444444444444444,
              "#bd3786"
             ],
             [
              0.5555555555555556,
              "#d8576b"
             ],
             [
              0.6666666666666666,
              "#ed7953"
             ],
             [
              0.7777777777777778,
              "#fb9f3a"
             ],
             [
              0.8888888888888888,
              "#fdca26"
             ],
             [
              1,
              "#f0f921"
             ]
            ],
            "type": "heatmap"
           }
          ],
          "heatmapgl": [
           {
            "colorbar": {
             "outlinewidth": 0,
             "ticks": ""
            },
            "colorscale": [
             [
              0,
              "#0d0887"
             ],
             [
              0.1111111111111111,
              "#46039f"
             ],
             [
              0.2222222222222222,
              "#7201a8"
             ],
             [
              0.3333333333333333,
              "#9c179e"
             ],
             [
              0.4444444444444444,
              "#bd3786"
             ],
             [
              0.5555555555555556,
              "#d8576b"
             ],
             [
              0.6666666666666666,
              "#ed7953"
             ],
             [
              0.7777777777777778,
              "#fb9f3a"
             ],
             [
              0.8888888888888888,
              "#fdca26"
             ],
             [
              1,
              "#f0f921"
             ]
            ],
            "type": "heatmapgl"
           }
          ],
          "histogram": [
           {
            "marker": {
             "pattern": {
              "fillmode": "overlay",
              "size": 10,
              "solidity": 0.2
             }
            },
            "type": "histogram"
           }
          ],
          "histogram2d": [
           {
            "colorbar": {
             "outlinewidth": 0,
             "ticks": ""
            },
            "colorscale": [
             [
              0,
              "#0d0887"
             ],
             [
              0.1111111111111111,
              "#46039f"
             ],
             [
              0.2222222222222222,
              "#7201a8"
             ],
             [
              0.3333333333333333,
              "#9c179e"
             ],
             [
              0.4444444444444444,
              "#bd3786"
             ],
             [
              0.5555555555555556,
              "#d8576b"
             ],
             [
              0.6666666666666666,
              "#ed7953"
             ],
             [
              0.7777777777777778,
              "#fb9f3a"
             ],
             [
              0.8888888888888888,
              "#fdca26"
             ],
             [
              1,
              "#f0f921"
             ]
            ],
            "type": "histogram2d"
           }
          ],
          "histogram2dcontour": [
           {
            "colorbar": {
             "outlinewidth": 0,
             "ticks": ""
            },
            "colorscale": [
             [
              0,
              "#0d0887"
             ],
             [
              0.1111111111111111,
              "#46039f"
             ],
             [
              0.2222222222222222,
              "#7201a8"
             ],
             [
              0.3333333333333333,
              "#9c179e"
             ],
             [
              0.4444444444444444,
              "#bd3786"
             ],
             [
              0.5555555555555556,
              "#d8576b"
             ],
             [
              0.6666666666666666,
              "#ed7953"
             ],
             [
              0.7777777777777778,
              "#fb9f3a"
             ],
             [
              0.8888888888888888,
              "#fdca26"
             ],
             [
              1,
              "#f0f921"
             ]
            ],
            "type": "histogram2dcontour"
           }
          ],
          "mesh3d": [
           {
            "colorbar": {
             "outlinewidth": 0,
             "ticks": ""
            },
            "type": "mesh3d"
           }
          ],
          "parcoords": [
           {
            "line": {
             "colorbar": {
              "outlinewidth": 0,
              "ticks": ""
             }
            },
            "type": "parcoords"
           }
          ],
          "pie": [
           {
            "automargin": true,
            "type": "pie"
           }
          ],
          "scatter": [
           {
            "fillpattern": {
             "fillmode": "overlay",
             "size": 10,
             "solidity": 0.2
            },
            "type": "scatter"
           }
          ],
          "scatter3d": [
           {
            "line": {
             "colorbar": {
              "outlinewidth": 0,
              "ticks": ""
             }
            },
            "marker": {
             "colorbar": {
              "outlinewidth": 0,
              "ticks": ""
             }
            },
            "type": "scatter3d"
           }
          ],
          "scattercarpet": [
           {
            "marker": {
             "colorbar": {
              "outlinewidth": 0,
              "ticks": ""
             }
            },
            "type": "scattercarpet"
           }
          ],
          "scattergeo": [
           {
            "marker": {
             "colorbar": {
              "outlinewidth": 0,
              "ticks": ""
             }
            },
            "type": "scattergeo"
           }
          ],
          "scattergl": [
           {
            "marker": {
             "colorbar": {
              "outlinewidth": 0,
              "ticks": ""
             }
            },
            "type": "scattergl"
           }
          ],
          "scattermapbox": [
           {
            "marker": {
             "colorbar": {
              "outlinewidth": 0,
              "ticks": ""
             }
            },
            "type": "scattermapbox"
           }
          ],
          "scatterpolar": [
           {
            "marker": {
             "colorbar": {
              "outlinewidth": 0,
              "ticks": ""
             }
            },
            "type": "scatterpolar"
           }
          ],
          "scatterpolargl": [
           {
            "marker": {
             "colorbar": {
              "outlinewidth": 0,
              "ticks": ""
             }
            },
            "type": "scatterpolargl"
           }
          ],
          "scatterternary": [
           {
            "marker": {
             "colorbar": {
              "outlinewidth": 0,
              "ticks": ""
             }
            },
            "type": "scatterternary"
           }
          ],
          "surface": [
           {
            "colorbar": {
             "outlinewidth": 0,
             "ticks": ""
            },
            "colorscale": [
             [
              0,
              "#0d0887"
             ],
             [
              0.1111111111111111,
              "#46039f"
             ],
             [
              0.2222222222222222,
              "#7201a8"
             ],
             [
              0.3333333333333333,
              "#9c179e"
             ],
             [
              0.4444444444444444,
              "#bd3786"
             ],
             [
              0.5555555555555556,
              "#d8576b"
             ],
             [
              0.6666666666666666,
              "#ed7953"
             ],
             [
              0.7777777777777778,
              "#fb9f3a"
             ],
             [
              0.8888888888888888,
              "#fdca26"
             ],
             [
              1,
              "#f0f921"
             ]
            ],
            "type": "surface"
           }
          ],
          "table": [
           {
            "cells": {
             "fill": {
              "color": "#EBF0F8"
             },
             "line": {
              "color": "white"
             }
            },
            "header": {
             "fill": {
              "color": "#C8D4E3"
             },
             "line": {
              "color": "white"
             }
            },
            "type": "table"
           }
          ]
         },
         "layout": {
          "annotationdefaults": {
           "arrowcolor": "#2a3f5f",
           "arrowhead": 0,
           "arrowwidth": 1
          },
          "autotypenumbers": "strict",
          "coloraxis": {
           "colorbar": {
            "outlinewidth": 0,
            "ticks": ""
           }
          },
          "colorscale": {
           "diverging": [
            [
             0,
             "#8e0152"
            ],
            [
             0.1,
             "#c51b7d"
            ],
            [
             0.2,
             "#de77ae"
            ],
            [
             0.3,
             "#f1b6da"
            ],
            [
             0.4,
             "#fde0ef"
            ],
            [
             0.5,
             "#f7f7f7"
            ],
            [
             0.6,
             "#e6f5d0"
            ],
            [
             0.7,
             "#b8e186"
            ],
            [
             0.8,
             "#7fbc41"
            ],
            [
             0.9,
             "#4d9221"
            ],
            [
             1,
             "#276419"
            ]
           ],
           "sequential": [
            [
             0,
             "#0d0887"
            ],
            [
             0.1111111111111111,
             "#46039f"
            ],
            [
             0.2222222222222222,
             "#7201a8"
            ],
            [
             0.3333333333333333,
             "#9c179e"
            ],
            [
             0.4444444444444444,
             "#bd3786"
            ],
            [
             0.5555555555555556,
             "#d8576b"
            ],
            [
             0.6666666666666666,
             "#ed7953"
            ],
            [
             0.7777777777777778,
             "#fb9f3a"
            ],
            [
             0.8888888888888888,
             "#fdca26"
            ],
            [
             1,
             "#f0f921"
            ]
           ],
           "sequentialminus": [
            [
             0,
             "#0d0887"
            ],
            [
             0.1111111111111111,
             "#46039f"
            ],
            [
             0.2222222222222222,
             "#7201a8"
            ],
            [
             0.3333333333333333,
             "#9c179e"
            ],
            [
             0.4444444444444444,
             "#bd3786"
            ],
            [
             0.5555555555555556,
             "#d8576b"
            ],
            [
             0.6666666666666666,
             "#ed7953"
            ],
            [
             0.7777777777777778,
             "#fb9f3a"
            ],
            [
             0.8888888888888888,
             "#fdca26"
            ],
            [
             1,
             "#f0f921"
            ]
           ]
          },
          "colorway": [
           "#636efa",
           "#EF553B",
           "#00cc96",
           "#ab63fa",
           "#FFA15A",
           "#19d3f3",
           "#FF6692",
           "#B6E880",
           "#FF97FF",
           "#FECB52"
          ],
          "font": {
           "color": "#2a3f5f"
          },
          "geo": {
           "bgcolor": "white",
           "lakecolor": "white",
           "landcolor": "#E5ECF6",
           "showlakes": true,
           "showland": true,
           "subunitcolor": "white"
          },
          "hoverlabel": {
           "align": "left"
          },
          "hovermode": "closest",
          "mapbox": {
           "style": "light"
          },
          "paper_bgcolor": "white",
          "plot_bgcolor": "#E5ECF6",
          "polar": {
           "angularaxis": {
            "gridcolor": "white",
            "linecolor": "white",
            "ticks": ""
           },
           "bgcolor": "#E5ECF6",
           "radialaxis": {
            "gridcolor": "white",
            "linecolor": "white",
            "ticks": ""
           }
          },
          "scene": {
           "xaxis": {
            "backgroundcolor": "#E5ECF6",
            "gridcolor": "white",
            "gridwidth": 2,
            "linecolor": "white",
            "showbackground": true,
            "ticks": "",
            "zerolinecolor": "white"
           },
           "yaxis": {
            "backgroundcolor": "#E5ECF6",
            "gridcolor": "white",
            "gridwidth": 2,
            "linecolor": "white",
            "showbackground": true,
            "ticks": "",
            "zerolinecolor": "white"
           },
           "zaxis": {
            "backgroundcolor": "#E5ECF6",
            "gridcolor": "white",
            "gridwidth": 2,
            "linecolor": "white",
            "showbackground": true,
            "ticks": "",
            "zerolinecolor": "white"
           }
          },
          "shapedefaults": {
           "line": {
            "color": "#2a3f5f"
           }
          },
          "ternary": {
           "aaxis": {
            "gridcolor": "white",
            "linecolor": "white",
            "ticks": ""
           },
           "baxis": {
            "gridcolor": "white",
            "linecolor": "white",
            "ticks": ""
           },
           "bgcolor": "#E5ECF6",
           "caxis": {
            "gridcolor": "white",
            "linecolor": "white",
            "ticks": ""
           }
          },
          "title": {
           "x": 0.05
          },
          "xaxis": {
           "automargin": true,
           "gridcolor": "white",
           "linecolor": "white",
           "ticks": "",
           "title": {
            "standoff": 15
           },
           "zerolinecolor": "white",
           "zerolinewidth": 2
          },
          "yaxis": {
           "automargin": true,
           "gridcolor": "white",
           "linecolor": "white",
           "ticks": "",
           "title": {
            "standoff": 15
           },
           "zerolinecolor": "white",
           "zerolinewidth": 2
          }
         }
        },
        "xaxis": {
         "anchor": "y",
         "constrain": "domain",
         "domain": [
          0,
          1
         ],
         "scaleanchor": "y"
        },
        "yaxis": {
         "anchor": "x",
         "autorange": "reversed",
         "constrain": "domain",
         "domain": [
          0,
          1
         ]
        }
       }
      },
      "text/html": [
       "<div>                            <div id=\"07002b40-6023-4dc9-8130-26175b2aec0f\" class=\"plotly-graph-div\" style=\"height:525px; width:100%;\"></div>            <script type=\"text/javascript\">                require([\"plotly\"], function(Plotly) {                    window.PLOTLYENV=window.PLOTLYENV || {};                                    if (document.getElementById(\"07002b40-6023-4dc9-8130-26175b2aec0f\")) {                    Plotly.newPlot(                        \"07002b40-6023-4dc9-8130-26175b2aec0f\",                        [{\"coloraxis\":\"coloraxis\",\"name\":\"0\",\"x\":[\"sent_diff\",\"sent_ratio\",\"sent_weight\"],\"y\":[\"sent_diff\",\"sent_ratio\",\"sent_weight\"],\"z\":[[1.0,0.9203041906147502,0.40321730108941495],[0.9203041906147502,1.0,0.3762546668955406],[0.40321730108941495,0.3762546668955406,1.0]],\"type\":\"heatmap\",\"xaxis\":\"x\",\"yaxis\":\"y\",\"hovertemplate\":\"x: %{x}\\u003cbr\\u003ey: %{y}\\u003cbr\\u003eSimilarity Score: %{z}\\u003cextra\\u003e\\u003c\\u002fextra\\u003e\"}],                        {\"template\":{\"data\":{\"histogram2dcontour\":[{\"type\":\"histogram2dcontour\",\"colorbar\":{\"outlinewidth\":0,\"ticks\":\"\"},\"colorscale\":[[0.0,\"#0d0887\"],[0.1111111111111111,\"#46039f\"],[0.2222222222222222,\"#7201a8\"],[0.3333333333333333,\"#9c179e\"],[0.4444444444444444,\"#bd3786\"],[0.5555555555555556,\"#d8576b\"],[0.6666666666666666,\"#ed7953\"],[0.7777777777777778,\"#fb9f3a\"],[0.8888888888888888,\"#fdca26\"],[1.0,\"#f0f921\"]]}],\"choropleth\":[{\"type\":\"choropleth\",\"colorbar\":{\"outlinewidth\":0,\"ticks\":\"\"}}],\"histogram2d\":[{\"type\":\"histogram2d\",\"colorbar\":{\"outlinewidth\":0,\"ticks\":\"\"},\"colorscale\":[[0.0,\"#0d0887\"],[0.1111111111111111,\"#46039f\"],[0.2222222222222222,\"#7201a8\"],[0.3333333333333333,\"#9c179e\"],[0.4444444444444444,\"#bd3786\"],[0.5555555555555556,\"#d8576b\"],[0.6666666666666666,\"#ed7953\"],[0.7777777777777778,\"#fb9f3a\"],[0.8888888888888888,\"#fdca26\"],[1.0,\"#f0f921\"]]}],\"heatmap\":[{\"type\":\"heatmap\",\"colorbar\":{\"outlinewidth\":0,\"ticks\":\"\"},\"colorscale\":[[0.0,\"#0d0887\"],[0.1111111111111111,\"#46039f\"],[0.2222222222222222,\"#7201a8\"],[0.3333333333333333,\"#9c179e\"],[0.4444444444444444,\"#bd3786\"],[0.5555555555555556,\"#d8576b\"],[0.6666666666666666,\"#ed7953\"],[0.7777777777777778,\"#fb9f3a\"],[0.8888888888888888,\"#fdca26\"],[1.0,\"#f0f921\"]]}],\"heatmapgl\":[{\"type\":\"heatmapgl\",\"colorbar\":{\"outlinewidth\":0,\"ticks\":\"\"},\"colorscale\":[[0.0,\"#0d0887\"],[0.1111111111111111,\"#46039f\"],[0.2222222222222222,\"#7201a8\"],[0.3333333333333333,\"#9c179e\"],[0.4444444444444444,\"#bd3786\"],[0.5555555555555556,\"#d8576b\"],[0.6666666666666666,\"#ed7953\"],[0.7777777777777778,\"#fb9f3a\"],[0.8888888888888888,\"#fdca26\"],[1.0,\"#f0f921\"]]}],\"contourcarpet\":[{\"type\":\"contourcarpet\",\"colorbar\":{\"outlinewidth\":0,\"ticks\":\"\"}}],\"contour\":[{\"type\":\"contour\",\"colorbar\":{\"outlinewidth\":0,\"ticks\":\"\"},\"colorscale\":[[0.0,\"#0d0887\"],[0.1111111111111111,\"#46039f\"],[0.2222222222222222,\"#7201a8\"],[0.3333333333333333,\"#9c179e\"],[0.4444444444444444,\"#bd3786\"],[0.5555555555555556,\"#d8576b\"],[0.6666666666666666,\"#ed7953\"],[0.7777777777777778,\"#fb9f3a\"],[0.8888888888888888,\"#fdca26\"],[1.0,\"#f0f921\"]]}],\"surface\":[{\"type\":\"surface\",\"colorbar\":{\"outlinewidth\":0,\"ticks\":\"\"},\"colorscale\":[[0.0,\"#0d0887\"],[0.1111111111111111,\"#46039f\"],[0.2222222222222222,\"#7201a8\"],[0.3333333333333333,\"#9c179e\"],[0.4444444444444444,\"#bd3786\"],[0.5555555555555556,\"#d8576b\"],[0.6666666666666666,\"#ed7953\"],[0.7777777777777778,\"#fb9f3a\"],[0.8888888888888888,\"#fdca26\"],[1.0,\"#f0f921\"]]}],\"mesh3d\":[{\"type\":\"mesh3d\",\"colorbar\":{\"outlinewidth\":0,\"ticks\":\"\"}}],\"scatter\":[{\"fillpattern\":{\"fillmode\":\"overlay\",\"size\":10,\"solidity\":0.2},\"type\":\"scatter\"}],\"parcoords\":[{\"type\":\"parcoords\",\"line\":{\"colorbar\":{\"outlinewidth\":0,\"ticks\":\"\"}}}],\"scatterpolargl\":[{\"type\":\"scatterpolargl\",\"marker\":{\"colorbar\":{\"outlinewidth\":0,\"ticks\":\"\"}}}],\"bar\":[{\"error_x\":{\"color\":\"#2a3f5f\"},\"error_y\":{\"color\":\"#2a3f5f\"},\"marker\":{\"line\":{\"color\":\"#E5ECF6\",\"width\":0.5},\"pattern\":{\"fillmode\":\"overlay\",\"size\":10,\"solidity\":0.2}},\"type\":\"bar\"}],\"scattergeo\":[{\"type\":\"scattergeo\",\"marker\":{\"colorbar\":{\"outlinewidth\":0,\"ticks\":\"\"}}}],\"scatterpolar\":[{\"type\":\"scatterpolar\",\"marker\":{\"colorbar\":{\"outlinewidth\":0,\"ticks\":\"\"}}}],\"histogram\":[{\"marker\":{\"pattern\":{\"fillmode\":\"overlay\",\"size\":10,\"solidity\":0.2}},\"type\":\"histogram\"}],\"scattergl\":[{\"type\":\"scattergl\",\"marker\":{\"colorbar\":{\"outlinewidth\":0,\"ticks\":\"\"}}}],\"scatter3d\":[{\"type\":\"scatter3d\",\"line\":{\"colorbar\":{\"outlinewidth\":0,\"ticks\":\"\"}},\"marker\":{\"colorbar\":{\"outlinewidth\":0,\"ticks\":\"\"}}}],\"scattermapbox\":[{\"type\":\"scattermapbox\",\"marker\":{\"colorbar\":{\"outlinewidth\":0,\"ticks\":\"\"}}}],\"scatterternary\":[{\"type\":\"scatterternary\",\"marker\":{\"colorbar\":{\"outlinewidth\":0,\"ticks\":\"\"}}}],\"scattercarpet\":[{\"type\":\"scattercarpet\",\"marker\":{\"colorbar\":{\"outlinewidth\":0,\"ticks\":\"\"}}}],\"carpet\":[{\"aaxis\":{\"endlinecolor\":\"#2a3f5f\",\"gridcolor\":\"white\",\"linecolor\":\"white\",\"minorgridcolor\":\"white\",\"startlinecolor\":\"#2a3f5f\"},\"baxis\":{\"endlinecolor\":\"#2a3f5f\",\"gridcolor\":\"white\",\"linecolor\":\"white\",\"minorgridcolor\":\"white\",\"startlinecolor\":\"#2a3f5f\"},\"type\":\"carpet\"}],\"table\":[{\"cells\":{\"fill\":{\"color\":\"#EBF0F8\"},\"line\":{\"color\":\"white\"}},\"header\":{\"fill\":{\"color\":\"#C8D4E3\"},\"line\":{\"color\":\"white\"}},\"type\":\"table\"}],\"barpolar\":[{\"marker\":{\"line\":{\"color\":\"#E5ECF6\",\"width\":0.5},\"pattern\":{\"fillmode\":\"overlay\",\"size\":10,\"solidity\":0.2}},\"type\":\"barpolar\"}],\"pie\":[{\"automargin\":true,\"type\":\"pie\"}]},\"layout\":{\"autotypenumbers\":\"strict\",\"colorway\":[\"#636efa\",\"#EF553B\",\"#00cc96\",\"#ab63fa\",\"#FFA15A\",\"#19d3f3\",\"#FF6692\",\"#B6E880\",\"#FF97FF\",\"#FECB52\"],\"font\":{\"color\":\"#2a3f5f\"},\"hovermode\":\"closest\",\"hoverlabel\":{\"align\":\"left\"},\"paper_bgcolor\":\"white\",\"plot_bgcolor\":\"#E5ECF6\",\"polar\":{\"bgcolor\":\"#E5ECF6\",\"angularaxis\":{\"gridcolor\":\"white\",\"linecolor\":\"white\",\"ticks\":\"\"},\"radialaxis\":{\"gridcolor\":\"white\",\"linecolor\":\"white\",\"ticks\":\"\"}},\"ternary\":{\"bgcolor\":\"#E5ECF6\",\"aaxis\":{\"gridcolor\":\"white\",\"linecolor\":\"white\",\"ticks\":\"\"},\"baxis\":{\"gridcolor\":\"white\",\"linecolor\":\"white\",\"ticks\":\"\"},\"caxis\":{\"gridcolor\":\"white\",\"linecolor\":\"white\",\"ticks\":\"\"}},\"coloraxis\":{\"colorbar\":{\"outlinewidth\":0,\"ticks\":\"\"}},\"colorscale\":{\"sequential\":[[0.0,\"#0d0887\"],[0.1111111111111111,\"#46039f\"],[0.2222222222222222,\"#7201a8\"],[0.3333333333333333,\"#9c179e\"],[0.4444444444444444,\"#bd3786\"],[0.5555555555555556,\"#d8576b\"],[0.6666666666666666,\"#ed7953\"],[0.7777777777777778,\"#fb9f3a\"],[0.8888888888888888,\"#fdca26\"],[1.0,\"#f0f921\"]],\"sequentialminus\":[[0.0,\"#0d0887\"],[0.1111111111111111,\"#46039f\"],[0.2222222222222222,\"#7201a8\"],[0.3333333333333333,\"#9c179e\"],[0.4444444444444444,\"#bd3786\"],[0.5555555555555556,\"#d8576b\"],[0.6666666666666666,\"#ed7953\"],[0.7777777777777778,\"#fb9f3a\"],[0.8888888888888888,\"#fdca26\"],[1.0,\"#f0f921\"]],\"diverging\":[[0,\"#8e0152\"],[0.1,\"#c51b7d\"],[0.2,\"#de77ae\"],[0.3,\"#f1b6da\"],[0.4,\"#fde0ef\"],[0.5,\"#f7f7f7\"],[0.6,\"#e6f5d0\"],[0.7,\"#b8e186\"],[0.8,\"#7fbc41\"],[0.9,\"#4d9221\"],[1,\"#276419\"]]},\"xaxis\":{\"gridcolor\":\"white\",\"linecolor\":\"white\",\"ticks\":\"\",\"title\":{\"standoff\":15},\"zerolinecolor\":\"white\",\"automargin\":true,\"zerolinewidth\":2},\"yaxis\":{\"gridcolor\":\"white\",\"linecolor\":\"white\",\"ticks\":\"\",\"title\":{\"standoff\":15},\"zerolinecolor\":\"white\",\"automargin\":true,\"zerolinewidth\":2},\"scene\":{\"xaxis\":{\"backgroundcolor\":\"#E5ECF6\",\"gridcolor\":\"white\",\"linecolor\":\"white\",\"showbackground\":true,\"ticks\":\"\",\"zerolinecolor\":\"white\",\"gridwidth\":2},\"yaxis\":{\"backgroundcolor\":\"#E5ECF6\",\"gridcolor\":\"white\",\"linecolor\":\"white\",\"showbackground\":true,\"ticks\":\"\",\"zerolinecolor\":\"white\",\"gridwidth\":2},\"zaxis\":{\"backgroundcolor\":\"#E5ECF6\",\"gridcolor\":\"white\",\"linecolor\":\"white\",\"showbackground\":true,\"ticks\":\"\",\"zerolinecolor\":\"white\",\"gridwidth\":2}},\"shapedefaults\":{\"line\":{\"color\":\"#2a3f5f\"}},\"annotationdefaults\":{\"arrowcolor\":\"#2a3f5f\",\"arrowhead\":0,\"arrowwidth\":1},\"geo\":{\"bgcolor\":\"white\",\"landcolor\":\"#E5ECF6\",\"subunitcolor\":\"white\",\"showland\":true,\"showlakes\":true,\"lakecolor\":\"white\"},\"title\":{\"x\":0.05},\"mapbox\":{\"style\":\"light\"}}},\"xaxis\":{\"anchor\":\"y\",\"domain\":[0.0,1.0],\"scaleanchor\":\"y\",\"constrain\":\"domain\"},\"yaxis\":{\"anchor\":\"x\",\"domain\":[0.0,1.0],\"autorange\":\"reversed\",\"constrain\":\"domain\"},\"coloraxis\":{\"colorbar\":{\"title\":{\"text\":\"Similarity Score\"}},\"colorscale\":[[0.0,\"rgb(247,252,240)\"],[0.125,\"rgb(224,243,219)\"],[0.25,\"rgb(204,235,197)\"],[0.375,\"rgb(168,221,181)\"],[0.5,\"rgb(123,204,196)\"],[0.625,\"rgb(78,179,211)\"],[0.75,\"rgb(43,140,190)\"],[0.875,\"rgb(8,104,172)\"],[1.0,\"rgb(8,64,129)\"]]},\"margin\":{\"t\":60}},                        {\"responsive\": true}                    ).then(function(){\n",
       "                            \n",
       "var gd = document.getElementById('07002b40-6023-4dc9-8130-26175b2aec0f');\n",
       "var x = new MutationObserver(function (mutations, observer) {{\n",
       "        var display = window.getComputedStyle(gd).display;\n",
       "        if (!display || display === 'none') {{\n",
       "            console.log([gd, 'removed!']);\n",
       "            Plotly.purge(gd);\n",
       "            observer.disconnect();\n",
       "        }}\n",
       "}});\n",
       "\n",
       "// Listen for the removal of the full notebook cells\n",
       "var notebookContainer = gd.closest('#notebook-container');\n",
       "if (notebookContainer) {{\n",
       "    x.observe(notebookContainer, {childList: true});\n",
       "}}\n",
       "\n",
       "// Listen for the clearing of the current output cell\n",
       "var outputEl = gd.closest('.output');\n",
       "if (outputEl) {{\n",
       "    x.observe(outputEl, {childList: true});\n",
       "}}\n",
       "\n",
       "                        })                };                });            </script>        </div>"
      ]
     },
     "metadata": {},
     "output_type": "display_data"
    }
   ],
   "source": [
    "# Print heatmap\n",
    "corr_heatmap"
   ]
  }
 ],
 "metadata": {
  "kernelspec": {
   "display_name": "Python 3 (ipykernel)",
   "language": "python",
   "name": "python3"
  },
  "language_info": {
   "codemirror_mode": {
    "name": "ipython",
    "version": 3
   },
   "file_extension": ".py",
   "mimetype": "text/x-python",
   "name": "python",
   "nbconvert_exporter": "python",
   "pygments_lexer": "ipython3",
   "version": "3.8.17"
  }
 },
 "nbformat": 4,
 "nbformat_minor": 5
}
